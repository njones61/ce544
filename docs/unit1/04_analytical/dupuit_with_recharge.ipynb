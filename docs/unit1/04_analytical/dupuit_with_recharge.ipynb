{
  "nbformat": 4,
  "nbformat_minor": 0,
  "metadata": {
    "colab": {
      "provenance": [],
      "authorship_tag": "ABX9TyMoxufQEZy9cKprtS779mFp",
      "include_colab_link": true
    },
    "kernelspec": {
      "name": "python3",
      "display_name": "Python 3"
    },
    "language_info": {
      "name": "python"
    }
  },
  "cells": [
    {
      "cell_type": "markdown",
      "metadata": {
        "id": "view-in-github",
        "colab_type": "text"
      },
      "source": [
        "<a href=\"https://colab.research.google.com/github/njones61/ce544/blob/main/docs/unit1/04_analytical/dupuit_with_recharge.ipynb\" target=\"_parent\"><img src=\"https://colab.research.google.com/assets/colab-badge.svg\" alt=\"Open In Colab\"/></a>"
      ]
    },
    {
      "cell_type": "code",
      "execution_count": null,
      "metadata": {
        "id": "9hkftLH3YQ3k"
      },
      "outputs": [],
      "source": [
        "import numpy as np\n",
        "import matplotlib.pyplot as plt"
      ]
    },
    {
      "cell_type": "code",
      "source": [
        "# Define variables/inputs\n",
        "Ho = 5      # [m]\n",
        "Hd = 0.5    # [m]\n",
        "D = 50      # [m]\n",
        "k = 1.16e-5    # [cm/s]\n",
        "k = k / 100 * 24 * 3600 # convert to [m/d]\n",
        "e = 0.0002  # [m/d]"
      ],
      "metadata": {
        "id": "4oYuhJZZYcxh"
      },
      "execution_count": null,
      "outputs": []
    },
    {
      "cell_type": "code",
      "source": [],
      "metadata": {
        "id": "TGdKqlpOZF4r"
      },
      "execution_count": null,
      "outputs": []
    }
  ]
}