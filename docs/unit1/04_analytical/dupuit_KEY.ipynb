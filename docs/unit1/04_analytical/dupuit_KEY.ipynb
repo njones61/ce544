{
  "nbformat": 4,
  "nbformat_minor": 0,
  "metadata": {
    "colab": {
      "provenance": [],
      "authorship_tag": "ABX9TyMaJ/bOwhMLL5LeXkhHKIY3",
      "include_colab_link": true
    },
    "kernelspec": {
      "name": "python3",
      "display_name": "Python 3"
    },
    "language_info": {
      "name": "python"
    }
  },
  "cells": [
    {
      "cell_type": "markdown",
      "metadata": {
        "id": "view-in-github",
        "colab_type": "text"
      },
      "source": [
        "<a href=\"https://colab.research.google.com/github/njones61/ce544/blob/main/docs/unit1/04_analytical/dupuit_KEY.ipynb\" target=\"_parent\"><img src=\"https://colab.research.google.com/assets/colab-badge.svg\" alt=\"Open In Colab\"/></a>"
      ]
    },
    {
      "cell_type": "markdown",
      "source": [
        "# Dupuit Problem - Flow Through a Rectangular Section\n",
        "\n",
        "Enter equations for K and q. Then fill in the table showing how h varies with x. Make x vary from 0 to D. Create an xy scatter (line mode) plot illustrating h vs. x.\n",
        "\n",
        "![dupuit](https://ce544.groups.et.byu.net/images/dupuit.png)\n",
        "\n",
        "$\n",
        "q = k\\frac{\\left(H_{o}^{2}-H_{D}^{2}\\right)}{2D}\n",
        "$\n",
        "\n",
        "\n",
        "$\n",
        "h = \\sqrt{\\frac{\\left(H_{D}^{2}-H_{o}^{2}\\right)}{D}x+H_{o}^{2}}\n",
        "$"
      ],
      "metadata": {
        "id": "n9O1qd6D9oH4"
      }
    },
    {
      "cell_type": "code",
      "execution_count": null,
      "metadata": {
        "id": "1i30rqRioqIS"
      },
      "outputs": [],
      "source": [
        "# import libraries\n",
        "import numpy as np\n",
        "import matplotlib.pyplot as plt\n"
      ]
    },
    {
      "cell_type": "code",
      "source": [
        "# define functions we will use\n",
        "def q(k, Ho, Hd, D):\n",
        "  return k * (Ho**2 - Hd**2) / (2*D)\n",
        "\n",
        "def h(k, Ho, Hd, D, x):\n",
        "  return (((Hd**2 - Ho**2) / D) * x + Ho**2)**(0.5)"
      ],
      "metadata": {
        "id": "ElyrdaGVo4i9"
      },
      "execution_count": null,
      "outputs": []
    },
    {
      "cell_type": "code",
      "source": [
        "# define inputs\n",
        "Ho = 5\n",
        "Hd = 1\n",
        "D = 100\n",
        "k = 0.001 # [cm/s]\n",
        "k = k / 100 * 3600 * 24 # [m/d]\n"
      ],
      "metadata": {
        "id": "EwUnVQe9pXTI"
      },
      "execution_count": null,
      "outputs": []
    },
    {
      "cell_type": "code",
      "source": [
        "flow = q(k, Ho, Hd, D)\n",
        "print(f'Flow through section = {flow:.3f} m^3/d')"
      ],
      "metadata": {
        "colab": {
          "base_uri": "https://localhost:8080/"
        },
        "id": "8KperDlAqJmE",
        "outputId": "5d68aec4-6f62-4ab0-e48e-92f9e4c00390"
      },
      "execution_count": null,
      "outputs": [
        {
          "output_type": "stream",
          "name": "stdout",
          "text": [
            "Flow through section = 0.104 m^3/d\n"
          ]
        }
      ]
    },
    {
      "cell_type": "code",
      "source": [
        "x = np.arange(0, 105, 5)\n",
        "x"
      ],
      "metadata": {
        "colab": {
          "base_uri": "https://localhost:8080/"
        },
        "id": "nX7ILGuoqLEw",
        "outputId": "b6805513-dd3a-4267-fd78-f16d3e83c8d1"
      },
      "execution_count": null,
      "outputs": [
        {
          "output_type": "execute_result",
          "data": {
            "text/plain": [
              "array([  0,   5,  10,  15,  20,  25,  30,  35,  40,  45,  50,  55,  60,\n",
              "        65,  70,  75,  80,  85,  90,  95, 100])"
            ]
          },
          "metadata": {},
          "execution_count": 17
        }
      ]
    },
    {
      "cell_type": "code",
      "source": [
        "head = h(k, Ho, Hd, D, x)\n",
        "head"
      ],
      "metadata": {
        "colab": {
          "base_uri": "https://localhost:8080/"
        },
        "id": "l7VkVkDpqqZm",
        "outputId": "a0a67e60-debc-4d41-9b5b-9ed6eb6d4b97"
      },
      "execution_count": null,
      "outputs": [
        {
          "output_type": "execute_result",
          "data": {
            "text/plain": [
              "array([5.        , 4.87852437, 4.75394573, 4.6260134 , 4.49444101,\n",
              "       4.35889894, 4.21900462, 4.07430976, 3.92428337, 3.76828874,\n",
              "       3.60555128, 3.43511281, 3.25576412, 3.06594194, 2.86356421,\n",
              "       2.64575131, 2.40831892, 2.14476106, 1.84390889, 1.4832397 ,\n",
              "       1.        ])"
            ]
          },
          "metadata": {},
          "execution_count": 18
        }
      ]
    },
    {
      "cell_type": "code",
      "source": [
        "# Plot the head vs x\n",
        "plt.figure(figsize=(10, 4))\n",
        "plt.plot(x, head)\n",
        "plt.xlabel('x (m)')\n",
        "plt.ylabel('Head (m)')\n",
        "plt.title('Head vs x')\n",
        "plt.show()"
      ],
      "metadata": {
        "colab": {
          "base_uri": "https://localhost:8080/",
          "height": 410
        },
        "id": "tPfyZ3P1q91D",
        "outputId": "26ee3ea3-e39a-456a-f60e-072a0df13118"
      },
      "execution_count": null,
      "outputs": [
        {
          "output_type": "display_data",
          "data": {
            "text/plain": [
              "<Figure size 1000x400 with 1 Axes>"
            ],
            "image/png": "[encoded data removed]"
          },
          "metadata": {}
        }
      ]
    },
    {
      "cell_type": "code",
      "source": [],
      "metadata": {
        "id": "xkpiJgnyrD32"
      },
      "execution_count": null,
      "outputs": []
    }
  ]
}