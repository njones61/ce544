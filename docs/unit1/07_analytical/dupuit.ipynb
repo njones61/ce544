{
 "nbformat": 4,
 "nbformat_minor": 0,
 "metadata": {
  "colab": {
   "provenance": [],
   "authorship_tag": "ABX9TyOxnk+vwiiZg+UJYMfs0RT/",
   "include_colab_link": true
  },
  "kernelspec": {
   "name": "python3",
   "display_name": "Python 3"
  },
  "language_info": {
   "name": "python"
  }
 },
 "cells": [
  {
   "cell_type": "markdown",
   "metadata": {
    "id": "view-in-github",
    "colab_type": "text"
   },
   "source": [
    "<a href=\"https://colab.research.google.com/github/njones61/ce544/blob/main/docs/unit1/04_analytical/dupuit.ipynb\" target=\"_parent\"><img src=\"https://colab.research.google.com/assets/colab-badge.svg\" alt=\"Open In Colab\"/></a>"
   ]
  },
  {
   "cell_type": "markdown",
   "source": [
    "# Dupuit Problem - Flow Through a Rectangular Section\n",
    "\n",
    "Enter equations for K and q. Then fill in the table showing how h varies with x. Make x vary from 0 to D. Create an xy scatter (line mode) plot illustrating h vs. x.\n",
    "\n",
    "![dupuit](https://ce544.groups.et.byu.net/images/dupuit.png)\n",
    "\n",
    "$\n",
    "q = k\\frac{\\left(H_{o}^{2}-H_{D}^{2}\\right)}{2D}\n",
    "$\n",
    "\n",
    "\n",
    "$\n",
    "h = \\sqrt{\\frac{\\left(H_{D}^{2}-H_{o}^{2}\\right)}{D}x+H_{o}^{2}}\n",
    "$"
   ],
   "metadata": {
    "id": "n9O1qd6D9oH4"
   }
  },
  {
   "cell_type": "code",
   "metadata": {
    "id": "1i30rqRioqIS",
    "jupyter": {
     "is_executing": true
    }
   },
   "source": [
    "# import libraries\n",
    "import numpy as np\n",
    "import matplotlib.pyplot as plt\n"
   ],
   "outputs": [],
   "execution_count": null
  },
  {
   "cell_type": "code",
   "source": [
    "# define inputs\n",
    "Ho = 5\n",
    "Hd = 1\n",
    "D = 100\n",
    "k = 0.001 # [cm/s]\n",
    "k = k / 100 * 3600 * 24 # [m/d]\n"
   ],
   "metadata": {
    "id": "EwUnVQe9pXTI",
    "jupyter": {
     "is_executing": true
    }
   },
   "outputs": [],
   "execution_count": null
  },
  {
   "cell_type": "code",
   "source": [],
   "metadata": {
    "id": "xkpiJgnyrD32"
   },
   "execution_count": null,
   "outputs": []
  }
 ]
}
