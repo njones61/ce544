{
  "nbformat": 4,
  "nbformat_minor": 0,
  "metadata": {
    "colab": {
      "provenance": [],
      "authorship_tag": "ABX9TyNgZTqHcxsefO1T49Hg8JPI",
      "include_colab_link": true
    },
    "kernelspec": {
      "name": "python3",
      "display_name": "Python 3"
    },
    "language_info": {
      "name": "python"
    }
  },
  "cells": [
    {
      "cell_type": "markdown",
      "metadata": {
        "id": "view-in-github",
        "colab_type": "text"
      },
      "source": [
        "<a href=\"https://colab.research.google.com/github/njones61/ce544/blob/main/docs/unit1/04_analytical/dupuit_KEY.ipynb\" target=\"_parent\"><img src=\"https://colab.research.google.com/assets/colab-badge.svg\" alt=\"Open In Colab\"/></a>"
      ]
    },
    {
      "cell_type": "markdown",
      "source": [
        "# Dupuit Problem - Flow Through a Rectangular Section\n",
        "\n",
        "Enter equations for K and q. Then fill in the table showing how h varies with x. Make x vary from 0 to D. Create an xy scatter (line mode) plot illustrating h vs. x.\n",
        "\n",
        "![dupuit](https://ce544.groups.et.byu.net/images/dupuit.png)\n",
        "\n",
        "$\n",
        "q = k\\frac{\\left(H_{o}^{2}-H_{D}^{2}\\right)}{2D}\n",
        "$\n",
        "\n",
        "\n",
        "$\n",
        "h = \\sqrt{\\frac{\\left(H_{D}^{2}-H_{o}^{2}\\right)}{D}x+H_{o}^{2}}\n",
        "$"
      ],
      "metadata": {
        "id": "n9O1qd6D9oH4"
      }
    },
    {
      "cell_type": "code",
      "execution_count": 1,
      "metadata": {
        "id": "1i30rqRioqIS"
      },
      "outputs": [],
      "source": [
        "# import libraries\n",
        "import numpy as np\n",
        "import matplotlib.pyplot as plt\n"
      ]
    },
    {
      "cell_type": "code",
      "source": [
        "# define inputs\n",
        "Ho = 5\n",
        "Hd = 1\n",
        "D = 100\n",
        "k = 0.001 # [cm/s]\n",
        "k = k / 100 * 3600 * 24 # [m/d]\n"
      ],
      "metadata": {
        "id": "EwUnVQe9pXTI"
      },
      "execution_count": 3,
      "outputs": []
    },
    {
      "cell_type": "code",
      "source": [
        "flow = k * (Ho**2 - Hd**2) / (2*D)\n",
        "print(f'Flow through section = {flow:.3f} m^3/d')"
      ],
      "metadata": {
        "colab": {
          "base_uri": "https://localhost:8080/"
        },
        "id": "8KperDlAqJmE",
        "outputId": "01baba27-5945-490d-d9d1-9eda62f3b14b"
      },
      "execution_count": 4,
      "outputs": [
        {
          "output_type": "stream",
          "name": "stdout",
          "text": [
            "Flow through section = 0.104 m^3/d\n"
          ]
        }
      ]
    },
    {
      "cell_type": "code",
      "source": [
        "x = np.linspace(0, D, 100)\n",
        "x"
      ],
      "metadata": {
        "colab": {
          "base_uri": "https://localhost:8080/"
        },
        "id": "nX7ILGuoqLEw",
        "outputId": "51982fb4-aab6-40d7-a068-d74356a98f41"
      },
      "execution_count": 5,
      "outputs": [
        {
          "output_type": "execute_result",
          "data": {
            "text/plain": [
              "array([  0.        ,   1.01010101,   2.02020202,   3.03030303,\n",
              "         4.04040404,   5.05050505,   6.06060606,   7.07070707,\n",
              "         8.08080808,   9.09090909,  10.1010101 ,  11.11111111,\n",
              "        12.12121212,  13.13131313,  14.14141414,  15.15151515,\n",
              "        16.16161616,  17.17171717,  18.18181818,  19.19191919,\n",
              "        20.2020202 ,  21.21212121,  22.22222222,  23.23232323,\n",
              "        24.24242424,  25.25252525,  26.26262626,  27.27272727,\n",
              "        28.28282828,  29.29292929,  30.3030303 ,  31.31313131,\n",
              "        32.32323232,  33.33333333,  34.34343434,  35.35353535,\n",
              "        36.36363636,  37.37373737,  38.38383838,  39.39393939,\n",
              "        40.4040404 ,  41.41414141,  42.42424242,  43.43434343,\n",
              "        44.44444444,  45.45454545,  46.46464646,  47.47474747,\n",
              "        48.48484848,  49.49494949,  50.50505051,  51.51515152,\n",
              "        52.52525253,  53.53535354,  54.54545455,  55.55555556,\n",
              "        56.56565657,  57.57575758,  58.58585859,  59.5959596 ,\n",
              "        60.60606061,  61.61616162,  62.62626263,  63.63636364,\n",
              "        64.64646465,  65.65656566,  66.66666667,  67.67676768,\n",
              "        68.68686869,  69.6969697 ,  70.70707071,  71.71717172,\n",
              "        72.72727273,  73.73737374,  74.74747475,  75.75757576,\n",
              "        76.76767677,  77.77777778,  78.78787879,  79.7979798 ,\n",
              "        80.80808081,  81.81818182,  82.82828283,  83.83838384,\n",
              "        84.84848485,  85.85858586,  86.86868687,  87.87878788,\n",
              "        88.88888889,  89.8989899 ,  90.90909091,  91.91919192,\n",
              "        92.92929293,  93.93939394,  94.94949495,  95.95959596,\n",
              "        96.96969697,  97.97979798,  98.98989899, 100.        ])"
            ]
          },
          "metadata": {},
          "execution_count": 5
        }
      ]
    },
    {
      "cell_type": "code",
      "source": [
        "head = ((Hd**2 - Ho**2) / D * x + Ho**2)**0.5\n",
        "head"
      ],
      "metadata": {
        "colab": {
          "base_uri": "https://localhost:8080/"
        },
        "id": "l7VkVkDpqqZm",
        "outputId": "97524570-2588-479d-bbe9-58ca10088ef3"
      },
      "execution_count": 7,
      "outputs": [
        {
          "output_type": "execute_result",
          "data": {
            "text/plain": [
              "array([5.        , 4.97569852, 4.95127777, 4.92673597, 4.9020713 ,\n",
              "       4.87728191, 4.85236587, 4.82732123, 4.80214598, 4.77683806,\n",
              "       4.75139533, 4.72581563, 4.70009671, 4.67423629, 4.64823199,\n",
              "       4.62208139, 4.59578199, 4.56933123, 4.54272645, 4.51596495,\n",
              "       4.4890439 , 4.46196043, 4.43471157, 4.40729423, 4.37970526,\n",
              "       4.3519414 , 4.32399927, 4.2958754 , 4.26756619, 4.23906794,\n",
              "       4.21037679, 4.18148879, 4.15239982, 4.12310563, 4.09360181,\n",
              "       4.0638838 , 4.03394686, 4.00378609, 3.97339638, 3.94277244,\n",
              "       3.91190878, 3.88079967, 3.84943916, 3.81782105, 3.7859389 ,\n",
              "       3.75378597, 3.72135524, 3.6886394 , 3.65563078, 3.62232137,\n",
              "       3.58870281, 3.55476633, 3.52050272, 3.48590234, 3.45095507,\n",
              "       3.41565026, 3.37997669, 3.34392257, 3.30747546, 3.27062222,\n",
              "       3.23334895, 3.19564097, 3.1574827 , 3.1188576 , 3.07974812,\n",
              "       3.04013556, 3.        , 2.95932015, 2.91807325, 2.87623491,\n",
              "       2.83377893, 2.79067712, 2.74689908, 2.70241194, 2.6571801 ,\n",
              "       2.61116484, 2.564324  , 2.51661148, 2.46797672, 2.41836409,\n",
              "       2.3677121 , 2.31595258, 2.26300953, 2.20879784, 2.15322169,\n",
              "       2.09617256, 2.03752672, 1.97714211, 1.91485422, 1.85047087,\n",
              "       1.78376517, 1.71446608, 1.64224532, 1.5666989 , 1.48732014,\n",
              "       1.40345893, 1.31425748, 1.21854359, 1.11464086, 1.        ])"
            ]
          },
          "metadata": {},
          "execution_count": 7
        }
      ]
    },
    {
      "cell_type": "code",
      "source": [
        "# Plot the head vs x\n",
        "plt.figure(figsize=(10, 4))\n",
        "plt.plot(x, head)\n",
        "plt.xlabel('x (m)')\n",
        "plt.ylabel('Head (m)')\n",
        "plt.title('Head vs x')\n",
        "plt.show()"
      ],
      "metadata": {
        "colab": {
          "base_uri": "https://localhost:8080/",
          "height": 410
        },
        "id": "tPfyZ3P1q91D",
        "outputId": "13a2d040-d913-425b-dcac-2bd429308740"
      },
      "execution_count": 8,
      "outputs": [
        {
          "output_type": "display_data",
          "data": {
            "text/plain": [
              "<Figure size 1000x400 with 1 Axes>"
            ],
            "image/png": "[encoded data removed]"
          },
          "metadata": {}
        }
      ]
    },
    {
      "cell_type": "code",
      "source": [],
      "metadata": {
        "id": "xkpiJgnyrD32"
      },
      "execution_count": null,
      "outputs": []
    }
  ]
}