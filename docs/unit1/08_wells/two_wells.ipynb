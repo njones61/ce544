{
  "nbformat": 4,
  "nbformat_minor": 0,
  "metadata": {
    "colab": {
      "provenance": [],
      "authorship_tag": "ABX9TyOAwWhsTbfKzw3OK2qkCZsr",
      "include_colab_link": true
    },
    "kernelspec": {
      "name": "python3",
      "display_name": "Python 3"
    },
    "language_info": {
      "name": "python"
    }
  },
  "cells": [
    {
      "cell_type": "markdown",
      "metadata": {
        "id": "view-in-github",
        "colab_type": "text"
      },
      "source": [
        "<a href=\"https://colab.research.google.com/github/njones61/ce544/blob/main/docs/unit1/08_wells/two_wells.ipynb\" target=\"_parent\"><img src=\"https://colab.research.google.com/assets/colab-badge.svg\" alt=\"Open In Colab\"/></a>"
      ]
    },
    {
      "cell_type": "code",
      "execution_count": null,
      "metadata": {
        "id": "NCupnKq7-_-a"
      },
      "outputs": [],
      "source": [
        "# import libraries needed\n",
        "import numpy as np\n",
        "import matplotlib.pyplot as plt"
      ]
    },
    {
      "cell_type": "code",
      "source": [
        "# variables\n",
        "q1 = 35       #[gal/min]\n",
        "q1 = q1/7.48  #[ft^3/min]\n",
        "q2 = q1\n",
        "k = 0.02      #[ft/min]\n",
        "H = 35        #[ft]\n",
        "R = 3000      #[ft]\n",
        "rw = 0.25     #[ft]"
      ],
      "metadata": {
        "id": "waCCjEDb_F7y"
      },
      "execution_count": null,
      "outputs": []
    },
    {
      "cell_type": "code",
      "source": [
        "x = np.arange(-250,260,10)\n",
        "x"
      ],
      "metadata": {
        "colab": {
          "base_uri": "https://localhost:8080/"
        },
        "id": "QcvQjbL9_5B8",
        "outputId": "c67e0e34-6772-40c0-c514-41151c9eb8d4"
      },
      "execution_count": null,
      "outputs": [
        {
          "output_type": "execute_result",
          "data": {
            "text/plain": [
              "array([-250, -240, -230, -220, -210, -200, -190, -180, -170, -160, -150,\n",
              "       -140, -130, -120, -110, -100,  -90,  -80,  -70,  -60,  -50,  -40,\n",
              "        -30,  -20,  -10,    0,   10,   20,   30,   40,   50,   60,   70,\n",
              "         80,   90,  100,  110,  120,  130,  140,  150,  160,  170,  180,\n",
              "        190,  200,  210,  220,  230,  240,  250])"
            ]
          },
          "metadata": {},
          "execution_count": 4
        }
      ]
    },
    {
      "cell_type": "code",
      "source": [
        "x1 = -30\n",
        "r1 = np.where(abs(x-x1)==0, rw, abs(x-x1))\n",
        "x2 = 30\n",
        "r2 = np.where(abs(x-x2)==0, rw, abs(x-x2))"
      ],
      "metadata": {
        "id": "dXlJ78TEAFYc"
      },
      "execution_count": null,
      "outputs": []
    },
    {
      "cell_type": "code",
      "source": [
        "# Make an array called H_orig that has the same dimensions as r1 and all values = H\n",
        "H_orig = np.full(len(r1), H)\n",
        "H_orig"
      ],
      "metadata": {
        "colab": {
          "base_uri": "https://localhost:8080/"
        },
        "id": "uvoePw25A4hp",
        "outputId": "0241268b-0c3f-43b0-aa37-b34736c95f1f"
      },
      "execution_count": null,
      "outputs": [
        {
          "output_type": "execute_result",
          "data": {
            "text/plain": [
              "array([35, 35, 35, 35, 35, 35, 35, 35, 35, 35, 35, 35, 35, 35, 35, 35, 35,\n",
              "       35, 35, 35, 35, 35, 35, 35, 35, 35, 35, 35, 35, 35, 35, 35, 35, 35,\n",
              "       35, 35, 35, 35, 35, 35, 35, 35, 35, 35, 35, 35, 35, 35, 35, 35, 35])"
            ]
          },
          "metadata": {},
          "execution_count": 17
        }
      ]
    },
    {
      "cell_type": "code",
      "source": [],
      "metadata": {
        "id": "mw_n9OEMDrU6"
      },
      "execution_count": null,
      "outputs": []
    }
  ]
}