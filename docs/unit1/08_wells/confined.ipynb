{
 "nbformat": 4,
 "nbformat_minor": 0,
 "metadata": {
  "colab": {
   "provenance": [],
   "authorship_tag": "ABX9TyPF0M0RqPa9Pbd54ogU5i0t",
   "include_colab_link": true
  },
  "kernelspec": {
   "name": "python3",
   "display_name": "Python 3"
  },
  "language_info": {
   "name": "python"
  }
 },
 "cells": [
  {
   "cell_type": "markdown",
   "metadata": {
    "id": "view-in-github",
    "colab_type": "text"
   },
   "source": [
    "<a href=\"https://colab.research.google.com/github/njones61/ce544/blob/main/docs/unit1/08_wells/confined.ipynb\" target=\"_parent\"><img src=\"https://colab.research.google.com/assets/colab-badge.svg\" alt=\"Open In Colab\"/></a>"
   ]
  },
  {
   "cell_type": "markdown",
   "source": [
    "# Well Equation - Confined Aquifer\n",
    "\n",
    "Instructions: Create a plot of drawdown (h) vs. distance (r) for the following set of inputs.  Make your distance range from rw to R.  Experiment with K.\n",
    "\n",
    "![confined aquifer](https://ce544.groups.et.byu.net/images/confined.png)\n",
    "\n",
    "$\n",
    "h = H + \\frac{q}{2\\pi kD}ln\\left(r/R\\right)\n",
    "$"
   ],
   "metadata": {
    "id": "ZMLkAJkWsWZl"
   }
  },
  {
   "cell_type": "code",
   "source": [
    "# import libraries needed\n",
    "import numpy as np\n",
    "import matplotlib.pyplot as plt"
   ],
   "metadata": {
    "id": "lBfSjsT0sSID"
   },
   "execution_count": null,
   "outputs": []
  },
  {
   "cell_type": "code",
   "execution_count": null,
   "metadata": {
    "id": "fVsGDhGMsO3G"
   },
   "outputs": [],
   "source": [
    "# variables\n",
    "q = 0.2   #[m^3/s]\n",
    "k = 0.1   #[cm/s]\n",
    "k = k/100 #[m/s]\n",
    "D = 15    #[m]\n",
    "H = 50    #[m]\n",
    "R = 500   #[m]\n",
    "rw = 0.1  #[m]\n"
   ]
  },
  {
   "cell_type": "code",
   "source": [
    "# def well function\n",
    "\n"
   ],
   "metadata": {
    "id": "cSceUWw4wLdN"
   },
   "execution_count": null,
   "outputs": []
  },
  {
   "cell_type": "code",
   "source": [
    "# Calculate h at rw\n"
   ],
   "metadata": {
    "id": "eY9JNeaGwX61"
   },
   "execution_count": null,
   "outputs": []
  },
  {
   "cell_type": "code",
   "source": [
    "r = np.array([0.1, 1.25, 2.5, 5, 10, 25, 50, 75, 100, 125, 175, 225, 300, 325, 350, 375, 400, 425, 450, 475, 500])\n"
   ],
   "metadata": {
    "id": "XXLWcybzwmmp"
   },
   "execution_count": null,
   "outputs": []
  },
  {
   "cell_type": "code",
   "source": [
    "# Plot the head vs r\n"
   ],
   "metadata": {
    "id": "Qrs1p8f-xKA6"
   },
   "execution_count": null,
   "outputs": []
  },
  {
   "cell_type": "code",
   "source": [],
   "metadata": {
    "id": "OErVGhUfxXfL"
   },
   "execution_count": null,
   "outputs": []
  }
 ]
}
