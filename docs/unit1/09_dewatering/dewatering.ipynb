{
  "nbformat": 4,
  "nbformat_minor": 0,
  "metadata": {
    "colab": {
      "provenance": [],
      "toc_visible": true,
      "authorship_tag": "ABX9TyMmt4In1VgC9pNEtog8HoTG",
      "include_colab_link": true
    },
    "kernelspec": {
      "name": "python3",
      "display_name": "Python 3"
    },
    "language_info": {
      "name": "python"
    },
    "widgets": {
      "application/vnd.jupyter.widget-state+json": {
        "145c0270cd214e88a42de77b56069277": {
          "model_module": "jupyter-leaflet",
          "model_name": "LeafletMapModel",
          "model_module_version": "^0.19",
          "state": {
            "_dom_classes": [],
            "_model_module": "jupyter-leaflet",
            "_model_module_version": "^0.19",
            "_model_name": "LeafletMapModel",
            "_view_count": null,
            "_view_module": "jupyter-leaflet",
            "_view_module_version": "^0.19",
            "_view_name": "LeafletMapView",
            "bottom": 25346128,
            "bounce_at_zoom_limits": true,
            "box_zoom": true,
            "center": [
              40.24648095523502,
              -111.64461833588719
            ],
            "close_popup_on_click": true,
            "controls": [
              "IPY_MODEL_e2f208d7c46f4022a967fdb6e5345b43",
              "IPY_MODEL_57b88c0f2ec2453eaa95cc9c1f347734",
              "IPY_MODEL_37df85835aca4d9ca5b705e67ef4864e"
            ],
            "crs": {
              "name": "EPSG3857",
              "custom": false
            },
            "default_style": "IPY_MODEL_8ed523ae574846078e2cc881e9e445b8",
            "double_click_zoom": true,
            "dragging": true,
            "dragging_style": "IPY_MODEL_616b3276a064434ea6bca026ca8e3e9e",
            "east": -111.64165019989015,
            "fullscreen": false,
            "inertia": true,
            "inertia_deceleration": 3000,
            "inertia_max_speed": 1500,
            "interpolation": "bilinear",
            "keyboard": true,
            "keyboard_pan_offset": 80,
            "keyboard_zoom_offset": 1,
            "layers": [
              "IPY_MODEL_c8170cbd84fc4603a9756c4effd5423e",
              "IPY_MODEL_a53ca58c458e4b15855a281a25bb4515",
              "IPY_MODEL_0d890d9faf4942c5a3022a85ebfa539a",
              "IPY_MODEL_2be4160336e14e90aa3ddf73f0466567",
              "IPY_MODEL_07526800f9e04ee487589f1c8b1108db",
              "IPY_MODEL_b893d94086864891baf12711f5aa0663"
            ],
            "layout": "IPY_MODEL_a8ed62ceeffe4180a6c63d5271443081",
            "left": 12741814,
            "max_zoom": null,
            "min_zoom": null,
            "modisdate": "2025-01-30",
            "north": 40.24730174447913,
            "options": [
              "bounce_at_zoom_limits",
              "box_zoom",
              "center",
              "close_popup_on_click",
              "double_click_zoom",
              "dragging",
              "fullscreen",
              "inertia",
              "inertia_deceleration",
              "inertia_max_speed",
              "interpolation",
              "keyboard",
              "keyboard_pan_offset",
              "keyboard_zoom_offset",
              "max_zoom",
              "min_zoom",
              "prefer_canvas",
              "scroll_wheel_zoom",
              "tap",
              "tap_tolerance",
              "touch_zoom",
              "world_copy_jump",
              "zoom",
              "zoom_animation_threshold",
              "zoom_delta",
              "zoom_snap"
            ],
            "panes": {},
            "prefer_canvas": false,
            "right": 12742920,
            "scroll_wheel_zoom": false,
            "south": 40.24566394016618,
            "style": "IPY_MODEL_414eb35c3f624bf6820e77fcd615a44b",
            "tap": true,
            "tap_tolerance": 15,
            "top": 25345728,
            "touch_zoom": true,
            "west": -111.6475832462311,
            "window_url": "https://jlfp65vc7q-496ff2e9c6d22116-0-colab.googleusercontent.com/outputframe.html?vrz=colab_20250129-060149_RC00_720892717",
            "world_copy_jump": false,
            "zoom": 18,
            "zoom_animation_threshold": 4,
            "zoom_delta": 1,
            "zoom_snap": 1
          }
        },
        "e2f208d7c46f4022a967fdb6e5345b43": {
          "model_module": "jupyter-leaflet",
          "model_name": "LeafletZoomControlModel",
          "model_module_version": "^0.19",
          "state": {
            "_model_module": "jupyter-leaflet",
            "_model_module_version": "^0.19",
            "_model_name": "LeafletZoomControlModel",
            "_view_count": null,
            "_view_module": "jupyter-leaflet",
            "_view_module_version": "^0.19",
            "_view_name": "LeafletZoomControlView",
            "options": [
              "position",
              "zoom_in_text",
              "zoom_in_title",
              "zoom_out_text",
              "zoom_out_title"
            ],
            "position": "topleft",
            "zoom_in_text": "+",
            "zoom_in_title": "Zoom in",
            "zoom_out_text": "-",
            "zoom_out_title": "Zoom out"
          }
        },
        "57b88c0f2ec2453eaa95cc9c1f347734": {
          "model_module": "jupyter-leaflet",
          "model_name": "LeafletAttributionControlModel",
          "model_module_version": "^0.19",
          "state": {
            "_model_module": "jupyter-leaflet",
            "_model_module_version": "^0.19",
            "_model_name": "LeafletAttributionControlModel",
            "_view_count": null,
            "_view_module": "jupyter-leaflet",
            "_view_module_version": "^0.19",
            "_view_name": "LeafletAttributionControlView",
            "options": [
              "position",
              "prefix"
            ],
            "position": "bottomright",
            "prefix": "ipyleaflet"
          }
        },
        "37df85835aca4d9ca5b705e67ef4864e": {
          "model_module": "jupyter-leaflet",
          "model_name": "LeafletDrawControlModel",
          "model_module_version": "^0.19",
          "state": {
            "_model_module": "jupyter-leaflet",
            "_model_module_version": "^0.19",
            "_model_name": "LeafletDrawControlModel",
            "_view_count": null,
            "_view_module": "jupyter-leaflet",
            "_view_module_version": "^0.19",
            "_view_name": "LeafletDrawControlView",
            "circle": {},
            "circlemarker": {
              "shapeOptions": {}
            },
            "data": [
              {
                "type": "Feature",
                "properties": {
                  "style": {
                    "rotationOrigin": "12px 41px",
                    "rotationAngle": 0,
                    "icon": {
                      "options": {
                        "iconUrl": "data:image/png;base64,iVBORw0KGgoAAAANSUhEUgAAABkAAAApCAYAAADAk4LOAAAFgUlEQVR4Aa1XA5BjWRTN2oW17d3YaZtr2962HUzbDNpjszW24mRt28p47v7zq/bXZtrp/lWnXr337j3nPCe85NcypgSFdugCpW5YoDAMRaIMqRi6aKq5E3YqDQO3qAwjVWrD8Ncq/RBpykd8oZUb/kaJutow8r1aP9II0WmLKLIsJyv1w/kqw9Ch2MYdB++12Onxee/QMwvf4/Dk/Lfp/i4nxTXtOoQ4pW5Aj7wpici1A9erdAN2OH64x8OSP9j3Ft3b7aWkTg/Fm91siTra0f9on5sQr9INejH6CUUUpavjFNq1B+Oadhxmnfa8RfEmN8VNAsQhPqF55xHkMzz3jSmChWU6f7/XZKNH+9+hBLOHYozuKQPxyMPUKkrX/K0uWnfFaJGS1QPRtZsOPtr3NsW0uyh6NNCOkU3Yz+bXbT3I8G3xE5EXLXtCXbbqwCO9zPQYPRTZ5vIDXD7U+w7rFDEoUUf7ibHIR4y6bLVPXrz8JVZEql13trxwue/uDivd3fkWRbS6/IA2bID4uk0UpF1N8qLlbBlXs4Ee7HLTfV1j54APvODnSfOWBqtKVvjgLKzF5YdEk5ewRkGlK0i33Eofffc7HT56jD7/6U+qH3Cx7SBLNntH5YIPvODnyfIXZYRVDPqgHtLs5ABHD3YzLuespb7t79FY34DjMwrVrcTuwlT55YMPvOBnRrJ4VXTdNnYug5ucHLBjEpt30701A3Ts+HEa73u6dT3FNWwflY86eMHPk+Yu+i6pzUpRrW7SNDg5JHR4KapmM5Wv2E8Tfcb1HoqqHMHU+uWDD7zg54mz5/2BSnizi9T1Dg4QQXLToGNCkb6tb1NU+QAlGr1++eADrzhn/u8Q2YZhQVlZ5+CAOtqfbhmaUCS1ezNFVm2imDbPmPng5wmz+gwh+oHDce0eUtQ6OGDIyR0uUhUsoO3vfDmmgOezH0mZN59x7MBi++WDL1g/eEiU3avlidO671bkLfwbw5XV2P8Pzo0ydy4t2/0eu33xYSOMOD8hTf4CrBtGMSoXfPLchX+J0ruSePw3LZeK0juPJbYzrhkH0io7B3k164hiGvawhOKMLkrQLyVpZg8rHFW7E2uHOL888IBPlNZ1FPzstSJM694fWr6RwpvcJK60+0HCILTBzZLFNdtAzJaohze60T8qBzyh5ZuOg5e7uwQppofEmf2++DYvmySqGBuKaicF1blQjhuHdvCIMvp8whTTfZzI7RldpwtSzL+F1+wkdZ2TBOW2gIF88PBTzD/gpeREAMEbxnJcaJHNHrpzji0gQCS6hdkEeYt9DF/2qPcEC8RM28Hwmr3sdNyht00byAut2k3gufWNtgtOEOFGUwcXWNDbdNbpgBGxEvKkOQsxivJx33iow0Vw5S6SVTrpVq11ysA2Rp7gTfPfktc6zhtXBBC+adRLshf6sG2RfHPZ5EAc4sVZ83yCN00Fk/4kggu40ZTvIEm5g24qtU4KjBrx/BTTH8ifVASAG7gKrnWxJDcU7x8X6Ecczhm3o6YicvsLXWfh3Ch1W0k8x0nXF+0fFxgt4phz8QvypiwCCFKMqXCnqXExjq10beH+UUA7+nG6mdG/Pu0f3LgFcGrl2s0kNNjpmoJ9o4B29CMO8dMT4Q5ox8uitF6fqsrJOr8qnwNbRzv6hSnG5wP+64C7h9lp30hKNtKdWjtdkbuPA19nJ7Tz3zR/ibgARbhb4AlhavcBebmTHcFl2fvYEnW0ox9xMxKBS8btJ+KiEbq9zA4RthQXDhPa0T9TEe69gWupwc6uBUphquXgf+/FrIjweHQS4/pduMe5ERUMHUd9xv8ZR98CxkS4F2n3EUrUZ10EYNw7BWm9x1GiPssi3GgiGRDKWRYZfXlON+dfNbM+GgIwYdwAAAAASUVORK5CYII=",
                        "iconRetinaUrl": "data:image/png;base64,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",
                        "iconSize": [
                          25,
                          41
                        ],
                        "iconAnchor": [
                          12,
                          41
                        ],
                        "shadowUrl": "data:image/png;base64,iVBORw0KGgoAAAANSUhEUgAAACkAAAApCAQAAAACach9AAACMUlEQVR4Ae3ShY7jQBAE0Aoz/f9/HTMzhg1zrdKUrJbdx+Kd2nD8VNudfsL/Th///dyQN2TH6f3y/BGpC379rV+S+qqetBOxImNQXL8JCAr2V4iMQXHGNJxeCfZXhSRBcQMfvkOWUdtfzlLgAENmZDcmo2TVmt8OSM2eXxBp3DjHSMFutqS7SbmemzBiR+xpKCNUIRkdkkYxhAkyGoBvyQFEJEefwSmmvBfJuJ6aKqKWnAkvGZOaZXTUgFqYULWNSHUckZuR1HIIimUExutRxwzOLROIG4vKmCKQt364mIlhSyzAf1m9lHZHJZrlAOMMztRRiKimp/rpdJDc9Awry5xTZCte7FHtuS8wJgeYGrex28xNTd086Dik7vUMscQOa8y4DoGtCCSkAKlNwpgNtphjrC6MIHUkR6YWxxs6Sc5xqn222mmCRFzIt8lEdKx+ikCtg91qS2WpwVfBelJCiQJwvzixfI9cxZQWgiSJelKnwBElKYtDOb2MFbhmUigbReQBV0Cg4+qMXSxXSyGUn4UbF8l+7qdSGnTC0XLCmahIgUHLhLOhpVCtw4CzYXvLQWQbJNmxoCsOKAxSgBJno75avolkRw8iIAFcsdc02e9iyCd8tHwmeSSoKTowIgvscSGZUOA7PuCN5b2BX9mQM7S0wYhMNU74zgsPBj3HU7wguAfnxxjFQGBE6pwN+GjME9zHY7zGp8wVxMShYX9NXvEWD3HbwJf4giO4CFIQxXScH1/TM+04kkBiAAAAAElFTkSuQmCC",
                        "shadowSize": [
                          41,
                          41
                        ],
                        "shadowAnchor": [
                          12,
                          41
                        ],
                        "popupAnchor": [
                          1,
                          -34
                        ],
                        "tooltipAnchor": [
                          16,
                          -28
                        ]
                      },
                      "_initHooksCalled": true,
                      "_needsInit": false
                    },
                    "interactive": true,
                    "keyboard": true,
                    "title": "",
                    "alt": "Marker",
                    "zIndexOffset": 0,
                    "opacity": 1,
                    "riseOnHover": false,
                    "riseOffset": 250,
                    "pane": "markerPane",
                    "shadowPane": "shadowPane",
                    "bubblingMouseEvents": false,
                    "autoPanOnFocus": true,
                    "draggable": false,
                    "autoPan": false,
                    "autoPanPadding": [
                      50,
                      50
                    ],
                    "autoPanSpeed": 10,
                    "attribution": null
                  }
                },
                "geometry": {
                  "type": "Point",
                  "coordinates": [
                    -111.645636,
                    40.2469
                  ]
                }
              },
              {
                "type": "Feature",
                "properties": {
                  "style": {
                    "rotationOrigin": "12px 41px",
                    "rotationAngle": 0,
                    "icon": {
                      "options": {
                        "iconUrl": "data:image/png;base64,iVBORw0KGgoAAAANSUhEUgAAABkAAAApCAYAAADAk4LOAAAFgUlEQVR4Aa1XA5BjWRTN2oW17d3YaZtr2962HUzbDNpjszW24mRt28p47v7zq/bXZtrp/lWnXr337j3nPCe85NcypgSFdugCpW5YoDAMRaIMqRi6aKq5E3YqDQO3qAwjVWrD8Ncq/RBpykd8oZUb/kaJutow8r1aP9II0WmLKLIsJyv1w/kqw9Ch2MYdB++12Onxee/QMwvf4/Dk/Lfp/i4nxTXtOoQ4pW5Aj7wpici1A9erdAN2OH64x8OSP9j3Ft3b7aWkTg/Fm91siTra0f9on5sQr9INejH6CUUUpavjFNq1B+Oadhxmnfa8RfEmN8VNAsQhPqF55xHkMzz3jSmChWU6f7/XZKNH+9+hBLOHYozuKQPxyMPUKkrX/K0uWnfFaJGS1QPRtZsOPtr3NsW0uyh6NNCOkU3Yz+bXbT3I8G3xE5EXLXtCXbbqwCO9zPQYPRTZ5vIDXD7U+w7rFDEoUUf7ibHIR4y6bLVPXrz8JVZEql13trxwue/uDivd3fkWRbS6/IA2bID4uk0UpF1N8qLlbBlXs4Ee7HLTfV1j54APvODnSfOWBqtKVvjgLKzF5YdEk5ewRkGlK0i33Eofffc7HT56jD7/6U+qH3Cx7SBLNntH5YIPvODnyfIXZYRVDPqgHtLs5ABHD3YzLuespb7t79FY34DjMwrVrcTuwlT55YMPvOBnRrJ4VXTdNnYug5ucHLBjEpt30701A3Ts+HEa73u6dT3FNWwflY86eMHPk+Yu+i6pzUpRrW7SNDg5JHR4KapmM5Wv2E8Tfcb1HoqqHMHU+uWDD7zg54mz5/2BSnizi9T1Dg4QQXLToGNCkb6tb1NU+QAlGr1++eADrzhn/u8Q2YZhQVlZ5+CAOtqfbhmaUCS1ezNFVm2imDbPmPng5wmz+gwh+oHDce0eUtQ6OGDIyR0uUhUsoO3vfDmmgOezH0mZN59x7MBi++WDL1g/eEiU3avlidO671bkLfwbw5XV2P8Pzo0ydy4t2/0eu33xYSOMOD8hTf4CrBtGMSoXfPLchX+J0ruSePw3LZeK0juPJbYzrhkH0io7B3k164hiGvawhOKMLkrQLyVpZg8rHFW7E2uHOL888IBPlNZ1FPzstSJM694fWr6RwpvcJK60+0HCILTBzZLFNdtAzJaohze60T8qBzyh5ZuOg5e7uwQppofEmf2++DYvmySqGBuKaicF1blQjhuHdvCIMvp8whTTfZzI7RldpwtSzL+F1+wkdZ2TBOW2gIF88PBTzD/gpeREAMEbxnJcaJHNHrpzji0gQCS6hdkEeYt9DF/2qPcEC8RM28Hwmr3sdNyht00byAut2k3gufWNtgtOEOFGUwcXWNDbdNbpgBGxEvKkOQsxivJx33iow0Vw5S6SVTrpVq11ysA2Rp7gTfPfktc6zhtXBBC+adRLshf6sG2RfHPZ5EAc4sVZ83yCN00Fk/4kggu40ZTvIEm5g24qtU4KjBrx/BTTH8ifVASAG7gKrnWxJDcU7x8X6Ecczhm3o6YicvsLXWfh3Ch1W0k8x0nXF+0fFxgt4phz8QvypiwCCFKMqXCnqXExjq10beH+UUA7+nG6mdG/Pu0f3LgFcGrl2s0kNNjpmoJ9o4B29CMO8dMT4Q5ox8uitF6fqsrJOr8qnwNbRzv6hSnG5wP+64C7h9lp30hKNtKdWjtdkbuPA19nJ7Tz3zR/ibgARbhb4AlhavcBebmTHcFl2fvYEnW0ox9xMxKBS8btJ+KiEbq9zA4RthQXDhPa0T9TEe69gWupwc6uBUphquXgf+/FrIjweHQS4/pduMe5ERUMHUd9xv8ZR98CxkS4F2n3EUrUZ10EYNw7BWm9x1GiPssi3GgiGRDKWRYZfXlON+dfNbM+GgIwYdwAAAAASUVORK5CYII=",
                        "iconRetinaUrl": "data:image/png;base64,iVBORw0KGgoAAAANSUhEUgAAADIAAABSCAMAAAAhFXfZAAAC91BMVEVMaXEzeak2f7I4g7g3g7cua5gzeKg8hJo3grY4g7c3grU0gLI2frE0daAubJc2gbQwd6QzeKk2gLMtd5sxdKIua5g1frA2f7IydaM0e6w2fq41fK01eqo3grgubJgta5cxdKI1f7AydaQydaMxc6EubJgvbJkwcZ4ubZkwcJwubZgubJcydqUydKIxapgubJctbJcubZcubJcvbJYubJcvbZkubJctbJctbZcubJg2f7AubJcrbZcubJcubJcua5g3grY0fq8ubJcubJdEkdEwhsw6i88vhswuhcsuhMtBjMgthMsrg8srgss6is8qgcs8i9A9iMYtg8spgcoogMo7hcMngMonf8olfso4gr8kfck5iM8jfMk4iM8he8k1fro7itAgesk2hs8eecgzfLcofssdeMg0hc4cd8g2hcsxeLQbdsgZdcgxeLImfcszhM0vda4xgckzhM4xg84wf8Yxgs4udKsvfcQucqhUndROmdM1fK0wcZ8vb5w0eqpQm9MzeKhXoNVcpdYydKNWn9VZotVKltJFjsIwcJ1Rms9OlslLmtH///8+kc9epdYzd6dbo9VHkMM2f7FHmNBClM8ydqVcpNY9hro3gLM9hLczealQmcw3fa46f7A8gLMxc6I3eagyc6FIldJMl9JSnNRSntNNl9JPnNJFi75UnM9ZodVKksg8kM45jc09e6ZHltFBk883gbRBh7pDk9EwcaBzn784g7dKkcY2i81Om9M7j85Llc81is09g7Q4grY/j9A0eqxKmdFFltBEjcXf6fFImdBCiLxJl9FGlNFBi78yiMxVndEvbpo6js74+vx+psPP3+o/ks5HkcpGmNCjwdZCkNDM3ehYoNJEls+lxNkxh8xHks0+jdC1zd5Lg6r+/v/H2ufz9/o3jM3t8/edvdM/k89Th61OiLBSjbZklbaTt9BfptdjmL1AicBHj8hGk9FAgK1dkLNTjLRekrdClc/k7fM0icy0y9tgp9c4jc2NtM9Dlc8zicxeXZn3AAAAQ3RSTlMAHDdTb4yPA+LtnEQmC4L2EmHqB7XA0d0sr478x4/Yd5i1zOfyPkf1sLVq4Nh3FvjxopQ2/STNuFzUwFIwxKaejILpIBEV9wAABhVJREFUeF6s1NdyFEcYBeBeoQIhRAkLlRDGrhIgY3BJL8CVeKzuyXFzzjkn5ZxzzuScg3PO8cKzu70JkO0LfxdTU//pM9vTu7Xgf6KqOVTb9X7toRrVEfBf1HTVjZccrT/2by1VV928Yty9ZbVuucdz90frG8DBjl9pVApbOstvmMuvVgaNXSfAAd6pGxpy6yxf5ph43pS/4f3uoaGm2rdu72S9xzOvMymkZFq/ptDrk90mhW7e4zl7HLzhxGWPR20xmSxJ/VqldG5m9XhaVOA1DadsNh3Pu5L2N6QtPO/32JpqQBVVk20oy/Pi2s23WEvyfHbe1thadVQttvm7Llf65gGmXK67XtupyoM7HQhmXdLS8oGWJNeOJ3C5fG5XCEJnkez3/oFdsvgJ4l2ANZwhrJKk/7OSXa+3Vw2WJMlKnGkobouYk6T0TyX30klOUnTD9HJ5qpckL3EW/w4XF3Xd0FGywXUrstrclVsqz5Pd/sXFYyDnPdrLcQODmGOK47IZb4CmibmMn+MYRzFZ5jg33ZL/EJrWcszHmANy3ARBK/IXtciJy8VsitPSdE3uuHxzougojcUdr8/32atnz/ev3f/K5wtpxUTpcaI45zusVDpYtZi+jg0oU9b3x74h7+n9ABvYEZeKaVq0sh0AtLKsFtqNBdeT0MrSzwwlq9+x6xAO4tgOtSzbCjrNQQiNvQUbUEubvzBUeGw26yDCsRHCoLkTHDa7IdOLIThs/gHvChszh2CimE8peRs47cxANI0lYNB5y1DljpOF0IhzBDPOZnDOqYYbeGKECbPzWnXludPphw5c2YBq5zlwXphIbO4VDCZ0gnPfUO1TwZoYwAs2ExPCedAu9DAjfQUjzITQb3jNj0KG2Sgt6BHaQUdYzWz+XmBktOHwanXjaSTcwwziBcuMOtwBmqPrTOxFQR/DRKKPqyur0aiW6cULYsx6tBm0jXpR/AUWR6HRq9WVW6MRhIq5jLyjbaCTDCijyYJNpCajdyobP/eTw0iexBAKkJ3gA5KcQb2zBXsIBckn+xVv8jkZSaEFHE+jFEleAEfayRU0MouNoBmB/L50Ai/HSLIHxcrpCvnhSQAuakKp2C/YbCylJjXRVy/z3+Kv/RrNcCo+WUzlVEhzKffnTQnxeN9fWF88fiNCUdSTsaufaChKWInHeysygfpIqagoakW+vV20J8uyl6TyNKEZWV4oRSPyCkWpgOLSbkCObT8o2r6tlG58HQquf6O0v50tB7JM7F4EORd2dx/K0w/KHsVkLPaoYrwgP/y7krr3SSMA4zj+OBgmjYkxcdIJQyQRKgg2viX9Hddi9UBb29LrKR7CVVEEEXWojUkXNyfTNDE14W9gbHJNuhjDettN3ZvbOvdOqCD3Jp/9l+/wJE+9PkYGjx/fqkys3S2rMozM/o2106rfMUINo6hVqz+eu/hd1c4xTg0TAfy5kV+4UG6+IthHTU9woWmxuKNbTfuCSfovBCxq7EtHqvYL4Sm6F8GVxsSXHMQ07TOi1DKtZxjWaaIyi4CXWjxPccUw8WVbMYY5wxC1mzEyXMJWkllpRloi+Kkoq69sxBTlElF6aAxYUbjXNlhlDZilDnM4U5SlN5biRsRHnbx3mbeWjEh4mEyiuJDl5XcWVmX5GvNkFgLWZM5qwsop4/AWfLhU1cR7k1VVvcYCWRkOI6Xy5gmnphCYIkvzuNYzHzosq2oNk2RtSs8khfUOfHIDgR6ysYBaMpl4uEgk2U/oJTs9AaTSwma7dT69geAE2ZpEjUsn2ieJNHeKfrI3EcAGJ2ZaNgVuC8EBctCLc57P5u5led6IOBkIYkuQMrmmjChs4VkfOerHqSBkPzZlhe06RslZ3zMjk2sscqKwY0RcjKK+LWbzd7KiHhkncs/siFJ+V5eXxD34B8nVuJEpGJNmxN2gH3vSvp7J70tF+D1Ej8qUJD1TkErAND2GZwTFg/LubvmgiBG3SOvdlsqFQrkEzJCL1rstlnVFROixZoDDSuXQFHESwVGlcuQcMb/b42NgjLowh5MTDFE3vNB5qStRIErdCQEh6pLPR92anSUb/wAIhldAaDMpGgAAAABJRU5ErkJggg==",
                        "iconSize": [
                          25,
                          41
                        ],
                        "iconAnchor": [
                          12,
                          41
                        ],
                        "shadowUrl": "data:image/png;base64,iVBORw0KGgoAAAANSUhEUgAAACkAAAApCAQAAAACach9AAACMUlEQVR4Ae3ShY7jQBAE0Aoz/f9/HTMzhg1zrdKUrJbdx+Kd2nD8VNudfsL/Th///dyQN2TH6f3y/BGpC379rV+S+qqetBOxImNQXL8JCAr2V4iMQXHGNJxeCfZXhSRBcQMfvkOWUdtfzlLgAENmZDcmo2TVmt8OSM2eXxBp3DjHSMFutqS7SbmemzBiR+xpKCNUIRkdkkYxhAkyGoBvyQFEJEefwSmmvBfJuJ6aKqKWnAkvGZOaZXTUgFqYULWNSHUckZuR1HIIimUExutRxwzOLROIG4vKmCKQt364mIlhSyzAf1m9lHZHJZrlAOMMztRRiKimp/rpdJDc9Awry5xTZCte7FHtuS8wJgeYGrex28xNTd086Dik7vUMscQOa8y4DoGtCCSkAKlNwpgNtphjrC6MIHUkR6YWxxs6Sc5xqn222mmCRFzIt8lEdKx+ikCtg91qS2WpwVfBelJCiQJwvzixfI9cxZQWgiSJelKnwBElKYtDOb2MFbhmUigbReQBV0Cg4+qMXSxXSyGUn4UbF8l+7qdSGnTC0XLCmahIgUHLhLOhpVCtw4CzYXvLQWQbJNmxoCsOKAxSgBJno75avolkRw8iIAFcsdc02e9iyCd8tHwmeSSoKTowIgvscSGZUOA7PuCN5b2BX9mQM7S0wYhMNU74zgsPBj3HU7wguAfnxxjFQGBE6pwN+GjME9zHY7zGp8wVxMShYX9NXvEWD3HbwJf4giO4CFIQxXScH1/TM+04kkBiAAAAAElFTkSuQmCC",
                        "shadowSize": [
                          41,
                          41
                        ],
                        "shadowAnchor": [
                          12,
                          41
                        ],
                        "popupAnchor": [
                          1,
                          -34
                        ],
                        "tooltipAnchor": [
                          16,
                          -28
                        ]
                      },
                      "_initHooksCalled": true,
                      "_needsInit": false
                    },
                    "interactive": true,
                    "keyboard": true,
                    "title": "",
                    "alt": "Marker",
                    "zIndexOffset": 0,
                    "opacity": 1,
                    "riseOnHover": false,
                    "riseOffset": 250,
                    "pane": "markerPane",
                    "shadowPane": "shadowPane",
                    "bubblingMouseEvents": false,
                    "autoPanOnFocus": true,
                    "draggable": false,
                    "autoPan": false,
                    "autoPanPadding": [
                      50,
                      50
                    ],
                    "autoPanSpeed": 10,
                    "attribution": null
                  }
                },
                "geometry": {
                  "type": "Point",
                  "coordinates": [
                    -111.643656,
                    40.246913
                  ]
                }
              },
              {
                "type": "Feature",
                "properties": {
                  "style": {
                    "rotationOrigin": "12px 41px",
                    "rotationAngle": 0,
                    "icon": {
                      "options": {
                        "iconUrl": "data:image/png;base64,iVBORw0KGgoAAAANSUhEUgAAABkAAAApCAYAAADAk4LOAAAFgUlEQVR4Aa1XA5BjWRTN2oW17d3YaZtr2962HUzbDNpjszW24mRt28p47v7zq/bXZtrp/lWnXr337j3nPCe85NcypgSFdugCpW5YoDAMRaIMqRi6aKq5E3YqDQO3qAwjVWrD8Ncq/RBpykd8oZUb/kaJutow8r1aP9II0WmLKLIsJyv1w/kqw9Ch2MYdB++12Onxee/QMwvf4/Dk/Lfp/i4nxTXtOoQ4pW5Aj7wpici1A9erdAN2OH64x8OSP9j3Ft3b7aWkTg/Fm91siTra0f9on5sQr9INejH6CUUUpavjFNq1B+Oadhxmnfa8RfEmN8VNAsQhPqF55xHkMzz3jSmChWU6f7/XZKNH+9+hBLOHYozuKQPxyMPUKkrX/K0uWnfFaJGS1QPRtZsOPtr3NsW0uyh6NNCOkU3Yz+bXbT3I8G3xE5EXLXtCXbbqwCO9zPQYPRTZ5vIDXD7U+w7rFDEoUUf7ibHIR4y6bLVPXrz8JVZEql13trxwue/uDivd3fkWRbS6/IA2bID4uk0UpF1N8qLlbBlXs4Ee7HLTfV1j54APvODnSfOWBqtKVvjgLKzF5YdEk5ewRkGlK0i33Eofffc7HT56jD7/6U+qH3Cx7SBLNntH5YIPvODnyfIXZYRVDPqgHtLs5ABHD3YzLuespb7t79FY34DjMwrVrcTuwlT55YMPvOBnRrJ4VXTdNnYug5ucHLBjEpt30701A3Ts+HEa73u6dT3FNWwflY86eMHPk+Yu+i6pzUpRrW7SNDg5JHR4KapmM5Wv2E8Tfcb1HoqqHMHU+uWDD7zg54mz5/2BSnizi9T1Dg4QQXLToGNCkb6tb1NU+QAlGr1++eADrzhn/u8Q2YZhQVlZ5+CAOtqfbhmaUCS1ezNFVm2imDbPmPng5wmz+gwh+oHDce0eUtQ6OGDIyR0uUhUsoO3vfDmmgOezH0mZN59x7MBi++WDL1g/eEiU3avlidO671bkLfwbw5XV2P8Pzo0ydy4t2/0eu33xYSOMOD8hTf4CrBtGMSoXfPLchX+J0ruSePw3LZeK0juPJbYzrhkH0io7B3k164hiGvawhOKMLkrQLyVpZg8rHFW7E2uHOL888IBPlNZ1FPzstSJM694fWr6RwpvcJK60+0HCILTBzZLFNdtAzJaohze60T8qBzyh5ZuOg5e7uwQppofEmf2++DYvmySqGBuKaicF1blQjhuHdvCIMvp8whTTfZzI7RldpwtSzL+F1+wkdZ2TBOW2gIF88PBTzD/gpeREAMEbxnJcaJHNHrpzji0gQCS6hdkEeYt9DF/2qPcEC8RM28Hwmr3sdNyht00byAut2k3gufWNtgtOEOFGUwcXWNDbdNbpgBGxEvKkOQsxivJx33iow0Vw5S6SVTrpVq11ysA2Rp7gTfPfktc6zhtXBBC+adRLshf6sG2RfHPZ5EAc4sVZ83yCN00Fk/4kggu40ZTvIEm5g24qtU4KjBrx/BTTH8ifVASAG7gKrnWxJDcU7x8X6Ecczhm3o6YicvsLXWfh3Ch1W0k8x0nXF+0fFxgt4phz8QvypiwCCFKMqXCnqXExjq10beH+UUA7+nG6mdG/Pu0f3LgFcGrl2s0kNNjpmoJ9o4B29CMO8dMT4Q5ox8uitF6fqsrJOr8qnwNbRzv6hSnG5wP+64C7h9lp30hKNtKdWjtdkbuPA19nJ7Tz3zR/ibgARbhb4AlhavcBebmTHcFl2fvYEnW0ox9xMxKBS8btJ+KiEbq9zA4RthQXDhPa0T9TEe69gWupwc6uBUphquXgf+/FrIjweHQS4/pduMe5ERUMHUd9xv8ZR98CxkS4F2n3EUrUZ10EYNw7BWm9x1GiPssi3GgiGRDKWRYZfXlON+dfNbM+GgIwYdwAAAAASUVORK5CYII=",
                        "iconRetinaUrl": "data:image/png;base64,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",
                        "iconSize": [
                          25,
                          41
                        ],
                        "iconAnchor": [
                          12,
                          41
                        ],
                        "shadowUrl": "data:image/png;base64,iVBORw0KGgoAAAANSUhEUgAAACkAAAApCAQAAAACach9AAACMUlEQVR4Ae3ShY7jQBAE0Aoz/f9/HTMzhg1zrdKUrJbdx+Kd2nD8VNudfsL/Th///dyQN2TH6f3y/BGpC379rV+S+qqetBOxImNQXL8JCAr2V4iMQXHGNJxeCfZXhSRBcQMfvkOWUdtfzlLgAENmZDcmo2TVmt8OSM2eXxBp3DjHSMFutqS7SbmemzBiR+xpKCNUIRkdkkYxhAkyGoBvyQFEJEefwSmmvBfJuJ6aKqKWnAkvGZOaZXTUgFqYULWNSHUckZuR1HIIimUExutRxwzOLROIG4vKmCKQt364mIlhSyzAf1m9lHZHJZrlAOMMztRRiKimp/rpdJDc9Awry5xTZCte7FHtuS8wJgeYGrex28xNTd086Dik7vUMscQOa8y4DoGtCCSkAKlNwpgNtphjrC6MIHUkR6YWxxs6Sc5xqn222mmCRFzIt8lEdKx+ikCtg91qS2WpwVfBelJCiQJwvzixfI9cxZQWgiSJelKnwBElKYtDOb2MFbhmUigbReQBV0Cg4+qMXSxXSyGUn4UbF8l+7qdSGnTC0XLCmahIgUHLhLOhpVCtw4CzYXvLQWQbJNmxoCsOKAxSgBJno75avolkRw8iIAFcsdc02e9iyCd8tHwmeSSoKTowIgvscSGZUOA7PuCN5b2BX9mQM7S0wYhMNU74zgsPBj3HU7wguAfnxxjFQGBE6pwN+GjME9zHY7zGp8wVxMShYX9NXvEWD3HbwJf4giO4CFIQxXScH1/TM+04kkBiAAAAAElFTkSuQmCC",
                        "shadowSize": [
                          41,
                          41
                        ],
                        "shadowAnchor": [
                          12,
                          41
                        ],
                        "popupAnchor": [
                          1,
                          -34
                        ],
                        "tooltipAnchor": [
                          16,
                          -28
                        ]
                      },
                      "_initHooksCalled": true,
                      "_needsInit": false
                    },
                    "interactive": true,
                    "keyboard": true,
                    "title": "",
                    "alt": "Marker",
                    "zIndexOffset": 0,
                    "opacity": 1,
                    "riseOnHover": false,
                    "riseOffset": 250,
                    "pane": "markerPane",
                    "shadowPane": "shadowPane",
                    "bubblingMouseEvents": false,
                    "autoPanOnFocus": true,
                    "draggable": false,
                    "autoPan": false,
                    "autoPanPadding": [
                      50,
                      50
                    ],
                    "autoPanSpeed": 10,
                    "attribution": null
                  }
                },
                "geometry": {
                  "type": "Point",
                  "coordinates": [
                    -111.645652,
                    40.24602
                  ]
                }
              },
              {
                "type": "Feature",
                "properties": {
                  "style": {
                    "icon": {
                      "options": {
                        "iconUrl": "data:image/png;base64,iVBORw0KGgoAAAANSUhEUgAAABkAAAApCAYAAADAk4LOAAAFgUlEQVR4Aa1XA5BjWRTN2oW17d3YaZtr2962HUzbDNpjszW24mRt28p47v7zq/bXZtrp/lWnXr337j3nPCe85NcypgSFdugCpW5YoDAMRaIMqRi6aKq5E3YqDQO3qAwjVWrD8Ncq/RBpykd8oZUb/kaJutow8r1aP9II0WmLKLIsJyv1w/kqw9Ch2MYdB++12Onxee/QMwvf4/Dk/Lfp/i4nxTXtOoQ4pW5Aj7wpici1A9erdAN2OH64x8OSP9j3Ft3b7aWkTg/Fm91siTra0f9on5sQr9INejH6CUUUpavjFNq1B+Oadhxmnfa8RfEmN8VNAsQhPqF55xHkMzz3jSmChWU6f7/XZKNH+9+hBLOHYozuKQPxyMPUKkrX/K0uWnfFaJGS1QPRtZsOPtr3NsW0uyh6NNCOkU3Yz+bXbT3I8G3xE5EXLXtCXbbqwCO9zPQYPRTZ5vIDXD7U+w7rFDEoUUf7ibHIR4y6bLVPXrz8JVZEql13trxwue/uDivd3fkWRbS6/IA2bID4uk0UpF1N8qLlbBlXs4Ee7HLTfV1j54APvODnSfOWBqtKVvjgLKzF5YdEk5ewRkGlK0i33Eofffc7HT56jD7/6U+qH3Cx7SBLNntH5YIPvODnyfIXZYRVDPqgHtLs5ABHD3YzLuespb7t79FY34DjMwrVrcTuwlT55YMPvOBnRrJ4VXTdNnYug5ucHLBjEpt30701A3Ts+HEa73u6dT3FNWwflY86eMHPk+Yu+i6pzUpRrW7SNDg5JHR4KapmM5Wv2E8Tfcb1HoqqHMHU+uWDD7zg54mz5/2BSnizi9T1Dg4QQXLToGNCkb6tb1NU+QAlGr1++eADrzhn/u8Q2YZhQVlZ5+CAOtqfbhmaUCS1ezNFVm2imDbPmPng5wmz+gwh+oHDce0eUtQ6OGDIyR0uUhUsoO3vfDmmgOezH0mZN59x7MBi++WDL1g/eEiU3avlidO671bkLfwbw5XV2P8Pzo0ydy4t2/0eu33xYSOMOD8hTf4CrBtGMSoXfPLchX+J0ruSePw3LZeK0juPJbYzrhkH0io7B3k164hiGvawhOKMLkrQLyVpZg8rHFW7E2uHOL888IBPlNZ1FPzstSJM694fWr6RwpvcJK60+0HCILTBzZLFNdtAzJaohze60T8qBzyh5ZuOg5e7uwQppofEmf2++DYvmySqGBuKaicF1blQjhuHdvCIMvp8whTTfZzI7RldpwtSzL+F1+wkdZ2TBOW2gIF88PBTzD/gpeREAMEbxnJcaJHNHrpzji0gQCS6hdkEeYt9DF/2qPcEC8RM28Hwmr3sdNyht00byAut2k3gufWNtgtOEOFGUwcXWNDbdNbpgBGxEvKkOQsxivJx33iow0Vw5S6SVTrpVq11ysA2Rp7gTfPfktc6zhtXBBC+adRLshf6sG2RfHPZ5EAc4sVZ83yCN00Fk/4kggu40ZTvIEm5g24qtU4KjBrx/BTTH8ifVASAG7gKrnWxJDcU7x8X6Ecczhm3o6YicvsLXWfh3Ch1W0k8x0nXF+0fFxgt4phz8QvypiwCCFKMqXCnqXExjq10beH+UUA7+nG6mdG/Pu0f3LgFcGrl2s0kNNjpmoJ9o4B29CMO8dMT4Q5ox8uitF6fqsrJOr8qnwNbRzv6hSnG5wP+64C7h9lp30hKNtKdWjtdkbuPA19nJ7Tz3zR/ibgARbhb4AlhavcBebmTHcFl2fvYEnW0ox9xMxKBS8btJ+KiEbq9zA4RthQXDhPa0T9TEe69gWupwc6uBUphquXgf+/FrIjweHQS4/pduMe5ERUMHUd9xv8ZR98CxkS4F2n3EUrUZ10EYNw7BWm9x1GiPssi3GgiGRDKWRYZfXlON+dfNbM+GgIwYdwAAAAASUVORK5CYII=",
                        "iconRetinaUrl": "data:image/png;base64,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",
                        "iconSize": [
                          25,
                          41
                        ],
                        "iconAnchor": [
                          12,
                          41
                        ],
                        "shadowUrl": "data:image/png;base64,iVBORw0KGgoAAAANSUhEUgAAACkAAAApCAQAAAACach9AAACMUlEQVR4Ae3ShY7jQBAE0Aoz/f9/HTMzhg1zrdKUrJbdx+Kd2nD8VNudfsL/Th///dyQN2TH6f3y/BGpC379rV+S+qqetBOxImNQXL8JCAr2V4iMQXHGNJxeCfZXhSRBcQMfvkOWUdtfzlLgAENmZDcmo2TVmt8OSM2eXxBp3DjHSMFutqS7SbmemzBiR+xpKCNUIRkdkkYxhAkyGoBvyQFEJEefwSmmvBfJuJ6aKqKWnAkvGZOaZXTUgFqYULWNSHUckZuR1HIIimUExutRxwzOLROIG4vKmCKQt364mIlhSyzAf1m9lHZHJZrlAOMMztRRiKimp/rpdJDc9Awry5xTZCte7FHtuS8wJgeYGrex28xNTd086Dik7vUMscQOa8y4DoGtCCSkAKlNwpgNtphjrC6MIHUkR6YWxxs6Sc5xqn222mmCRFzIt8lEdKx+ikCtg91qS2WpwVfBelJCiQJwvzixfI9cxZQWgiSJelKnwBElKYtDOb2MFbhmUigbReQBV0Cg4+qMXSxXSyGUn4UbF8l+7qdSGnTC0XLCmahIgUHLhLOhpVCtw4CzYXvLQWQbJNmxoCsOKAxSgBJno75avolkRw8iIAFcsdc02e9iyCd8tHwmeSSoKTowIgvscSGZUOA7PuCN5b2BX9mQM7S0wYhMNU74zgsPBj3HU7wguAfnxxjFQGBE6pwN+GjME9zHY7zGp8wVxMShYX9NXvEWD3HbwJf4giO4CFIQxXScH1/TM+04kkBiAAAAAElFTkSuQmCC",
                        "shadowSize": [
                          41,
                          41
                        ],
                        "shadowAnchor": [
                          12,
                          41
                        ],
                        "popupAnchor": [
                          1,
                          -34
                        ],
                        "tooltipAnchor": [
                          16,
                          -28
                        ]
                      },
                      "_initHooksCalled": true,
                      "_needsInit": false
                    },
                    "rotationOrigin": "12px 41px",
                    "rotationAngle": 0
                  }
                },
                "geometry": {
                  "type": "Point",
                  "coordinates": [
                    -111.643614,
                    40.246041
                  ]
                }
              }
            ],
            "edit": true,
            "marker": {
              "shapeOptions": {
                "color": "#0000FF"
              }
            },
            "options": [
              "position"
            ],
            "polygon": {
              "shapeOptions": {}
            },
            "polyline": {
              "shapeOptions": {}
            },
            "position": "topleft",
            "rectangle": {},
            "remove": true
          }
        },
        "8ed523ae574846078e2cc881e9e445b8": {
          "model_module": "jupyter-leaflet",
          "model_name": "LeafletMapStyleModel",
          "model_module_version": "^0.19",
          "state": {
            "_model_module": "jupyter-leaflet",
            "_model_module_version": "^0.19",
            "_model_name": "LeafletMapStyleModel",
            "_view_count": null,
            "_view_module": "@jupyter-widgets/base",
            "_view_module_version": "1.2.0",
            "_view_name": "StyleView",
            "cursor": "grab"
          }
        },
        "616b3276a064434ea6bca026ca8e3e9e": {
          "model_module": "jupyter-leaflet",
          "model_name": "LeafletMapStyleModel",
          "model_module_version": "^0.19",
          "state": {
            "_model_module": "jupyter-leaflet",
            "_model_module_version": "^0.19",
            "_model_name": "LeafletMapStyleModel",
            "_view_count": null,
            "_view_module": "@jupyter-widgets/base",
            "_view_module_version": "1.2.0",
            "_view_name": "StyleView",
            "cursor": "move"
          }
        },
        "c8170cbd84fc4603a9756c4effd5423e": {
          "model_module": "jupyter-leaflet",
          "model_name": "LeafletTileLayerModel",
          "model_module_version": "^0.19",
          "state": {
            "_model_module": "jupyter-leaflet",
            "_model_module_version": "^0.19",
            "_model_name": "LeafletTileLayerModel",
            "_view_count": null,
            "_view_module": "jupyter-leaflet",
            "_view_module_version": "^0.19",
            "_view_name": "LeafletTileLayerView",
            "attribution": "&copy; <a href=\"https://www.openstreetmap.org/copyright\">OpenStreetMap</a> contributors",
            "base": true,
            "bottom": true,
            "bounds": null,
            "detect_retina": false,
            "loading": false,
            "max_native_zoom": null,
            "max_zoom": 19,
            "min_native_zoom": null,
            "min_zoom": 1,
            "name": "OpenStreetMap.Mapnik",
            "no_wrap": false,
            "opacity": 1,
            "options": [
              "attribution",
              "bounds",
              "detect_retina",
              "max_native_zoom",
              "max_zoom",
              "min_native_zoom",
              "min_zoom",
              "no_wrap",
              "tile_size",
              "tms",
              "zoom_offset"
            ],
            "pane": "",
            "popup": null,
            "popup_max_height": null,
            "popup_max_width": 300,
            "popup_min_width": 50,
            "show_loading": false,
            "subitems": [],
            "tile_size": 256,
            "tms": false,
            "url": "https://tile.openstreetmap.org/{z}/{x}/{y}.png",
            "visible": true,
            "zoom_offset": 0
          }
        },
        "a53ca58c458e4b15855a281a25bb4515": {
          "model_module": "jupyter-leaflet",
          "model_name": "LeafletGeoJSONModel",
          "model_module_version": "^0.19",
          "state": {
            "_model_module": "jupyter-leaflet",
            "_model_module_version": "^0.19",
            "_model_name": "LeafletGeoJSONModel",
            "_view_count": null,
            "_view_module": "jupyter-leaflet",
            "_view_module_version": "^0.19",
            "_view_name": "LeafletGeoJSONView",
            "base": false,
            "bottom": false,
            "data": {
              "type": "FeatureCollection",
              "features": [
                {
                  "id": "0",
                  "type": "Feature",
                  "properties": {
                    "style": {
                      "color": "blue",
                      "fillColor": "gray",
                      "fillOpacity": 0.2,
                      "weight": 2
                    }
                  },
                  "geometry": {
                    "type": "Polygon",
                    "coordinates": [
                      [
                        [
                          -111.64554864779842,
                          40.246851678806706
                        ],
                        [
                          -111.6455446101439,
                          40.24610895796758
                        ],
                        [
                          -111.64368728911117,
                          40.24610895796758
                        ],
                        [
                          -111.6436953644202,
                          40.246854760619016
                        ],
                        [
                          -111.64554864779842,
                          40.246851678806706
                        ]
                      ]
                    ]
                  },
                  "bbox": [
                    -111.64554864779842,
                    40.24610895796758,
                    -111.64368728911117,
                    40.246854760619016
                  ]
                }
              ],
              "bbox": [
                -111.64554864779842,
                40.24610895796758,
                -111.64368728911117,
                40.246854760619016
              ]
            },
            "hover_style": {},
            "layers": [],
            "name": "",
            "options": [],
            "pane": "",
            "point_style": {},
            "popup": null,
            "popup_max_height": null,
            "popup_max_width": 300,
            "popup_min_width": 50,
            "style": {
              "color": "blue",
              "fillColor": "gray",
              "fillOpacity": 0.2,
              "weight": 2
            },
            "subitems": [],
            "visible": true
          }
        },
        "a8ed62ceeffe4180a6c63d5271443081": {
          "model_module": "@jupyter-widgets/base",
          "model_name": "LayoutModel",
          "model_module_version": "1.2.0",
          "state": {
            "_model_module": "@jupyter-widgets/base",
            "_model_module_version": "1.2.0",
            "_model_name": "LayoutModel",
            "_view_count": null,
            "_view_module": "@jupyter-widgets/base",
            "_view_module_version": "1.2.0",
            "_view_name": "LayoutView",
            "align_content": null,
            "align_items": null,
            "align_self": null,
            "border": null,
            "bottom": null,
            "display": null,
            "flex": null,
            "flex_flow": null,
            "grid_area": null,
            "grid_auto_columns": null,
            "grid_auto_flow": null,
            "grid_auto_rows": null,
            "grid_column": null,
            "grid_gap": null,
            "grid_row": null,
            "grid_template_areas": null,
            "grid_template_columns": null,
            "grid_template_rows": null,
            "height": null,
            "justify_content": null,
            "justify_items": null,
            "left": null,
            "margin": null,
            "max_height": null,
            "max_width": null,
            "min_height": null,
            "min_width": null,
            "object_fit": null,
            "object_position": null,
            "order": null,
            "overflow": null,
            "overflow_x": null,
            "overflow_y": null,
            "padding": null,
            "right": null,
            "top": null,
            "visibility": null,
            "width": null
          }
        },
        "414eb35c3f624bf6820e77fcd615a44b": {
          "model_module": "jupyter-leaflet",
          "model_name": "LeafletMapStyleModel",
          "model_module_version": "^0.19",
          "state": {
            "_model_module": "jupyter-leaflet",
            "_model_module_version": "^0.19",
            "_model_name": "LeafletMapStyleModel",
            "_view_count": null,
            "_view_module": "@jupyter-widgets/base",
            "_view_module_version": "1.2.0",
            "_view_name": "StyleView",
            "cursor": "grab"
          }
        },
        "0d890d9faf4942c5a3022a85ebfa539a": {
          "model_module": "jupyter-leaflet",
          "model_name": "LeafletMarkerModel",
          "model_module_version": "^0.19",
          "state": {
            "_model_module": "jupyter-leaflet",
            "_model_module_version": "^0.19",
            "_model_name": "LeafletMarkerModel",
            "_view_count": null,
            "_view_module": "jupyter-leaflet",
            "_view_module_version": "^0.19",
            "_view_name": "LeafletMarkerView",
            "alt": "",
            "base": false,
            "bottom": false,
            "draggable": false,
            "icon": null,
            "keyboard": true,
            "location": [
              40.2469,
              -111.645636
            ],
            "name": "",
            "opacity": 1,
            "options": [
              "alt",
              "draggable",
              "keyboard",
              "rise_offset",
              "rise_on_hover",
              "rotation_angle",
              "rotation_origin",
              "title",
              "z_index_offset"
            ],
            "pane": "",
            "popup": null,
            "popup_max_height": null,
            "popup_max_width": 300,
            "popup_min_width": 50,
            "rise_offset": 250,
            "rise_on_hover": false,
            "rotation_angle": 0,
            "rotation_origin": "",
            "subitems": [],
            "title": "",
            "visible": true,
            "z_index_offset": 0
          }
        },
        "2be4160336e14e90aa3ddf73f0466567": {
          "model_module": "jupyter-leaflet",
          "model_name": "LeafletMarkerModel",
          "model_module_version": "^0.19",
          "state": {
            "_model_module": "jupyter-leaflet",
            "_model_module_version": "^0.19",
            "_model_name": "LeafletMarkerModel",
            "_view_count": null,
            "_view_module": "jupyter-leaflet",
            "_view_module_version": "^0.19",
            "_view_name": "LeafletMarkerView",
            "alt": "",
            "base": false,
            "bottom": false,
            "draggable": false,
            "icon": null,
            "keyboard": true,
            "location": [
              40.246913,
              -111.643656
            ],
            "name": "",
            "opacity": 1,
            "options": [
              "alt",
              "draggable",
              "keyboard",
              "rise_offset",
              "rise_on_hover",
              "rotation_angle",
              "rotation_origin",
              "title",
              "z_index_offset"
            ],
            "pane": "",
            "popup": null,
            "popup_max_height": null,
            "popup_max_width": 300,
            "popup_min_width": 50,
            "rise_offset": 250,
            "rise_on_hover": false,
            "rotation_angle": 0,
            "rotation_origin": "",
            "subitems": [],
            "title": "",
            "visible": true,
            "z_index_offset": 0
          }
        },
        "07526800f9e04ee487589f1c8b1108db": {
          "model_module": "jupyter-leaflet",
          "model_name": "LeafletMarkerModel",
          "model_module_version": "^0.19",
          "state": {
            "_model_module": "jupyter-leaflet",
            "_model_module_version": "^0.19",
            "_model_name": "LeafletMarkerModel",
            "_view_count": null,
            "_view_module": "jupyter-leaflet",
            "_view_module_version": "^0.19",
            "_view_name": "LeafletMarkerView",
            "alt": "",
            "base": false,
            "bottom": false,
            "draggable": false,
            "icon": null,
            "keyboard": true,
            "location": [
              40.24602,
              -111.645652
            ],
            "name": "",
            "opacity": 1,
            "options": [
              "alt",
              "draggable",
              "keyboard",
              "rise_offset",
              "rise_on_hover",
              "rotation_angle",
              "rotation_origin",
              "title",
              "z_index_offset"
            ],
            "pane": "",
            "popup": null,
            "popup_max_height": null,
            "popup_max_width": 300,
            "popup_min_width": 50,
            "rise_offset": 250,
            "rise_on_hover": false,
            "rotation_angle": 0,
            "rotation_origin": "",
            "subitems": [],
            "title": "",
            "visible": true,
            "z_index_offset": 0
          }
        },
        "b893d94086864891baf12711f5aa0663": {
          "model_module": "jupyter-leaflet",
          "model_name": "LeafletMarkerModel",
          "model_module_version": "^0.19",
          "state": {
            "_model_module": "jupyter-leaflet",
            "_model_module_version": "^0.19",
            "_model_name": "LeafletMarkerModel",
            "_view_count": null,
            "_view_module": "jupyter-leaflet",
            "_view_module_version": "^0.19",
            "_view_name": "LeafletMarkerView",
            "alt": "",
            "base": false,
            "bottom": false,
            "draggable": false,
            "icon": null,
            "keyboard": true,
            "location": [
              40.246041,
              -111.643614
            ],
            "name": "",
            "opacity": 1,
            "options": [
              "alt",
              "draggable",
              "keyboard",
              "rise_offset",
              "rise_on_hover",
              "rotation_angle",
              "rotation_origin",
              "title",
              "z_index_offset"
            ],
            "pane": "",
            "popup": null,
            "popup_max_height": null,
            "popup_max_width": 300,
            "popup_min_width": 50,
            "rise_offset": 250,
            "rise_on_hover": false,
            "rotation_angle": 0,
            "rotation_origin": "",
            "subitems": [],
            "title": "",
            "visible": true,
            "z_index_offset": 0
          }
        }
      }
    }
  },
  "cells": [
    {
      "cell_type": "markdown",
      "metadata": {
        "id": "view-in-github",
        "colab_type": "text"
      },
      "source": [
        "<a href=\"https://colab.research.google.com/github/njones61/ce544/blob/main/docs/unit1/09_dewatering/dewatering.ipynb\" target=\"_parent\"><img src=\"https://colab.research.google.com/assets/colab-badge.svg\" alt=\"Open In Colab\"/></a>"
      ]
    },
    {
      "cell_type": "markdown",
      "source": [
        "# Construction Dewatering\n",
        "\n",
        "This notebook is used to design dewatering systems for excavations in unconfined aquifers. It uses well equations to calculate the drawdown for a series of dewatering wells. The excavation size and location are specified using GeoJSON file. The dewatering algorithm and the steps involved in using this notebook are documented here:\n",
        "\n",
        "https://byu-ce544.readthedocs.io/en/latest/unit1/09_dewatering/dewatering_class/\n",
        "\n",
        "This notebook can be used to simulate drawdown from construction dewatering at any location using a GEOJSON file to define the excavation. It assumes a simple unconfined aquifer underlain by an impermeable layer."
      ],
      "metadata": {
        "id": "ZEESBF8AKU6f"
      }
    },
    {
      "cell_type": "markdown",
      "source": [
        "# Part 1 - Setup\n",
        "\n",
        "In this section we import the packages we will need, upload the excavation polygon, and manually create some well locations to analyze."
      ],
      "metadata": {
        "id": "ALv9zGm0qwlY"
      }
    },
    {
      "cell_type": "code",
      "source": [
        "%%capture\n",
        "!pip install geopandas\n",
        "!pip install ipyleaflet"
      ],
      "metadata": {
        "id": "LiqjWt4HFwCI"
      },
      "execution_count": null,
      "outputs": []
    },
    {
      "cell_type": "code",
      "execution_count": null,
      "metadata": {
        "id": "BcN05WzKEhpH"
      },
      "outputs": [],
      "source": [
        "from ipyleaflet import Map, Polygon, Marker, DrawControl, GeoJSON, LayerGroup\n",
        "from ipywidgets import HTML\n",
        "import geopandas as gpd\n",
        "import numpy as np\n",
        "import matplotlib.pyplot as plt\n",
        "from matplotlib import cm\n",
        "from scipy.interpolate import griddata\n",
        "import pyproj\n",
        "from shapely.geometry import shape, Point, Polygon\n"
      ]
    },
    {
      "cell_type": "code",
      "source": [
        "# Upload GEOJSON file\n",
        "from google.colab import files\n",
        "uploaded = files.upload()\n",
        "\n",
        "# get name of uploaded file\n",
        "file_name = list(uploaded.keys())[0]"
      ],
      "metadata": {
        "colab": {
          "base_uri": "https://localhost:8080/",
          "height": 73
        },
        "id": "EaHzaKSoGEGy",
        "outputId": "c0ac194b-3f58-4f66-fa93-45786b19a45d"
      },
      "execution_count": null,
      "outputs": [
        {
          "output_type": "display_data",
          "data": {
            "text/plain": [
              "<IPython.core.display.HTML object>"
            ],
            "text/html": [
              "\n",
              "     <input type=\"file\" id=\"files-fce64728-b055-4d04-b404-0caa29547671\" name=\"files[]\" multiple disabled\n",
              "        style=\"border:none\" />\n",
              "     <output id=\"result-fce64728-b055-4d04-b404-0caa29547671\">\n",
              "      Upload widget is only available when the cell has been executed in the\n",
              "      current browser session. Please rerun this cell to enable.\n",
              "      </output>\n",
              "      <script>// Copyright 2017 Google LLC\n",
              "//\n",
              "// Licensed under the Apache License, Version 2.0 (the \"License\");\n",
              "// you may not use this file except in compliance with the License.\n",
              "// You may obtain a copy of the License at\n",
              "//\n",
              "//      http://www.apache.org/licenses/LICENSE-2.0\n",
              "//\n",
              "// Unless required by applicable law or agreed to in writing, software\n",
              "// distributed under the License is distributed on an \"AS IS\" BASIS,\n",
              "// WITHOUT WARRANTIES OR CONDITIONS OF ANY KIND, either express or implied.\n",
              "// See the License for the specific language governing permissions and\n",
              "// limitations under the License.\n",
              "\n",
              "/**\n",
              " * @fileoverview Helpers for google.colab Python module.\n",
              " */\n",
              "(function(scope) {\n",
              "function span(text, styleAttributes = {}) {\n",
              "  const element = document.createElement('span');\n",
              "  element.textContent = text;\n",
              "  for (const key of Object.keys(styleAttributes)) {\n",
              "    element.style[key] = styleAttributes[key];\n",
              "  }\n",
              "  return element;\n",
              "}\n",
              "\n",
              "// Max number of bytes which will be uploaded at a time.\n",
              "const MAX_PAYLOAD_SIZE = 100 * 1024;\n",
              "\n",
              "function _uploadFiles(inputId, outputId) {\n",
              "  const steps = uploadFilesStep(inputId, outputId);\n",
              "  const outputElement = document.getElementById(outputId);\n",
              "  // Cache steps on the outputElement to make it available for the next call\n",
              "  // to uploadFilesContinue from Python.\n",
              "  outputElement.steps = steps;\n",
              "\n",
              "  return _uploadFilesContinue(outputId);\n",
              "}\n",
              "\n",
              "// This is roughly an async generator (not supported in the browser yet),\n",
              "// where there are multiple asynchronous steps and the Python side is going\n",
              "// to poll for completion of each step.\n",
              "// This uses a Promise to block the python side on completion of each step,\n",
              "// then passes the result of the previous step as the input to the next step.\n",
              "function _uploadFilesContinue(outputId) {\n",
              "  const outputElement = document.getElementById(outputId);\n",
              "  const steps = outputElement.steps;\n",
              "\n",
              "  const next = steps.next(outputElement.lastPromiseValue);\n",
              "  return Promise.resolve(next.value.promise).then((value) => {\n",
              "    // Cache the last promise value to make it available to the next\n",
              "    // step of the generator.\n",
              "    outputElement.lastPromiseValue = value;\n",
              "    return next.value.response;\n",
              "  });\n",
              "}\n",
              "\n",
              "/**\n",
              " * Generator function which is called between each async step of the upload\n",
              " * process.\n",
              " * @param {string} inputId Element ID of the input file picker element.\n",
              " * @param {string} outputId Element ID of the output display.\n",
              " * @return {!Iterable<!Object>} Iterable of next steps.\n",
              " */\n",
              "function* uploadFilesStep(inputId, outputId) {\n",
              "  const inputElement = document.getElementById(inputId);\n",
              "  inputElement.disabled = false;\n",
              "\n",
              "  const outputElement = document.getElementById(outputId);\n",
              "  outputElement.innerHTML = '';\n",
              "\n",
              "  const pickedPromise = new Promise((resolve) => {\n",
              "    inputElement.addEventListener('change', (e) => {\n",
              "      resolve(e.target.files);\n",
              "    });\n",
              "  });\n",
              "\n",
              "  const cancel = document.createElement('button');\n",
              "  inputElement.parentElement.appendChild(cancel);\n",
              "  cancel.textContent = 'Cancel upload';\n",
              "  const cancelPromise = new Promise((resolve) => {\n",
              "    cancel.onclick = () => {\n",
              "      resolve(null);\n",
              "    };\n",
              "  });\n",
              "\n",
              "  // Wait for the user to pick the files.\n",
              "  const files = yield {\n",
              "    promise: Promise.race([pickedPromise, cancelPromise]),\n",
              "    response: {\n",
              "      action: 'starting',\n",
              "    }\n",
              "  };\n",
              "\n",
              "  cancel.remove();\n",
              "\n",
              "  // Disable the input element since further picks are not allowed.\n",
              "  inputElement.disabled = true;\n",
              "\n",
              "  if (!files) {\n",
              "    return {\n",
              "      response: {\n",
              "        action: 'complete',\n",
              "      }\n",
              "    };\n",
              "  }\n",
              "\n",
              "  for (const file of files) {\n",
              "    const li = document.createElement('li');\n",
              "    li.append(span(file.name, {fontWeight: 'bold'}));\n",
              "    li.append(span(\n",
              "        `(${file.type || 'n/a'}) - ${file.size} bytes, ` +\n",
              "        `last modified: ${\n",
              "            file.lastModifiedDate ? file.lastModifiedDate.toLocaleDateString() :\n",
              "                                    'n/a'} - `));\n",
              "    const percent = span('0% done');\n",
              "    li.appendChild(percent);\n",
              "\n",
              "    outputElement.appendChild(li);\n",
              "\n",
              "    const fileDataPromise = new Promise((resolve) => {\n",
              "      const reader = new FileReader();\n",
              "      reader.onload = (e) => {\n",
              "        resolve(e.target.result);\n",
              "      };\n",
              "      reader.readAsArrayBuffer(file);\n",
              "    });\n",
              "    // Wait for the data to be ready.\n",
              "    let fileData = yield {\n",
              "      promise: fileDataPromise,\n",
              "      response: {\n",
              "        action: 'continue',\n",
              "      }\n",
              "    };\n",
              "\n",
              "    // Use a chunked sending to avoid message size limits. See b/62115660.\n",
              "    let position = 0;\n",
              "    do {\n",
              "      const length = Math.min(fileData.byteLength - position, MAX_PAYLOAD_SIZE);\n",
              "      const chunk = new Uint8Array(fileData, position, length);\n",
              "      position += length;\n",
              "\n",
              "      const base64 = btoa(String.fromCharCode.apply(null, chunk));\n",
              "      yield {\n",
              "        response: {\n",
              "          action: 'append',\n",
              "          file: file.name,\n",
              "          data: base64,\n",
              "        },\n",
              "      };\n",
              "\n",
              "      let percentDone = fileData.byteLength === 0 ?\n",
              "          100 :\n",
              "          Math.round((position / fileData.byteLength) * 100);\n",
              "      percent.textContent = `${percentDone}% done`;\n",
              "\n",
              "    } while (position < fileData.byteLength);\n",
              "  }\n",
              "\n",
              "  // All done.\n",
              "  yield {\n",
              "    response: {\n",
              "      action: 'complete',\n",
              "    }\n",
              "  };\n",
              "}\n",
              "\n",
              "scope.google = scope.google || {};\n",
              "scope.google.colab = scope.google.colab || {};\n",
              "scope.google.colab._files = {\n",
              "  _uploadFiles,\n",
              "  _uploadFilesContinue,\n",
              "};\n",
              "})(self);\n",
              "</script> "
            ]
          },
          "metadata": {}
        },
        {
          "output_type": "stream",
          "name": "stdout",
          "text": [
            "Saving byu_brewster.geojson to byu_brewster.geojson\n"
          ]
        }
      ]
    },
    {
      "cell_type": "code",
      "source": [
        "# Load GEOJSON for Polygon and extract coordinates\n",
        "geojson_file = file_name  # path to your GEOJSON file\n",
        "polygon_data = gpd.read_file(geojson_file)\n",
        "geojson_data = polygon_data.__geo_interface__\n",
        "polygon_coords = list(polygon_data.geometry[0].exterior.coords)  # Extract exterior coords\n",
        "\n",
        "# swap the orders of the pairs in polygon_coords\n",
        "polygon_coords = [(y, x) for x, y in polygon_coords]\n",
        "polygon_coords"
      ],
      "metadata": {
        "id": "AtPtG_nKE3y9",
        "colab": {
          "base_uri": "https://localhost:8080/"
        },
        "outputId": "66f608cf-3983-4ab7-82ef-85110dfe6295"
      },
      "execution_count": null,
      "outputs": [
        {
          "output_type": "execute_result",
          "data": {
            "text/plain": [
              "[(40.246851678806706, -111.64554864779842),\n",
              " (40.24610895796758, -111.6455446101439),\n",
              " (40.24610895796758, -111.64368728911117),\n",
              " (40.246854760619016, -111.6436953644202),\n",
              " (40.246851678806706, -111.64554864779842)]"
            ]
          },
          "metadata": {},
          "execution_count": 4
        }
      ]
    },
    {
      "cell_type": "code",
      "source": [
        "# Create a polygon using the polygon_coords and add it to an ipyleaflet map\n",
        "\n",
        "polygon = GeoJSON(\n",
        "    data=geojson_data,\n",
        "    style={\n",
        "        'color': 'blue',\n",
        "        'fillColor': 'gray',\n",
        "        'fillOpacity': 0.2,\n",
        "        'weight': 2\n",
        "    }\n",
        ")\n",
        "\n",
        "center = [polygon_data.geometry[0].centroid.y, polygon_data.geometry[0].centroid.x]\n",
        "m = Map(center=center, zoom=18)\n",
        "m.add(polygon)\n",
        "\n",
        "# Create a DrawControl for user to click and add markers\n",
        "draw_control = DrawControl(marker={\"shapeOptions\": {\"color\": \"#0000FF\"}})\n",
        "\n",
        "# Store marker coordinates\n",
        "marker_coords = []\n",
        "\n",
        "# Function to add markers and store their coordinates\n",
        "def handle_marker(event=None, action=None, geo_json=None):\n",
        "    if action == 'created' and geo_json['geometry']['type'] == 'Point':\n",
        "        lat, lng = geo_json['geometry']['coordinates'][1], geo_json['geometry']['coordinates'][0]\n",
        "        marker_coords.append((lat, lng))  # Store each marker's coordinates\n",
        "        marker = Marker(location=(lat, lng), draggable=False)\n",
        "        m.add_layer(marker)\n",
        "\n",
        "# Attach the marker handler to draw control\n",
        "draw_control.on_draw(handle_marker)\n",
        "m.add_control(draw_control)\n",
        "\n",
        "# Display map\n",
        "m"
      ],
      "metadata": {
        "colab": {
          "base_uri": "https://localhost:8080/",
          "height": 421,
          "referenced_widgets": [
            "145c0270cd214e88a42de77b56069277",
            "e2f208d7c46f4022a967fdb6e5345b43",
            "57b88c0f2ec2453eaa95cc9c1f347734",
            "37df85835aca4d9ca5b705e67ef4864e",
            "8ed523ae574846078e2cc881e9e445b8",
            "616b3276a064434ea6bca026ca8e3e9e",
            "c8170cbd84fc4603a9756c4effd5423e",
            "a53ca58c458e4b15855a281a25bb4515",
            "a8ed62ceeffe4180a6c63d5271443081",
            "414eb35c3f624bf6820e77fcd615a44b",
            "0d890d9faf4942c5a3022a85ebfa539a",
            "2be4160336e14e90aa3ddf73f0466567",
            "07526800f9e04ee487589f1c8b1108db",
            "b893d94086864891baf12711f5aa0663"
          ]
        },
        "id": "xprD7tLIeK1E",
        "outputId": "6ba5f2db-81cc-4897-a7e5-4b4d4ae78ab5"
      },
      "execution_count": null,
      "outputs": [
        {
          "output_type": "display_data",
          "data": {
            "text/plain": [
              "Map(center=[40.24648095523502, -111.64461833588719], controls=(ZoomControl(options=['position', 'zoom_in_text'…"
            ],
            "application/vnd.jupyter.widget-view+json": {
              "version_major": 2,
              "version_minor": 0,
              "model_id": "145c0270cd214e88a42de77b56069277"
            }
          },
          "metadata": {
            "application/vnd.jupyter.widget-view+json": {
              "colab": {
                "custom_widget_manager": {
                  "url": "https://ssl.gstatic.com/colaboratory-static/widgets/colab-cdn-widget-manager/2b70e893a8ba7c0f/manager.min.js"
                }
              }
            }
          }
        }
      ]
    },
    {
      "cell_type": "markdown",
      "source": [
        "**Note**: At this point you can use the point tool in the map tools on the left to create a set of points corresponding to the well locations. They should be created outside of the footprint of the excavation."
      ],
      "metadata": {
        "id": "BCTtG6sklYNA"
      }
    },
    {
      "cell_type": "code",
      "source": [
        "# OPTIONAL - Delete the markers from the map\n",
        "for marker in m.layers[2:]:\n",
        "    m.remove_layer(marker)\n",
        "marker_coords = []"
      ],
      "metadata": {
        "id": "W8s9TeI7h15b"
      },
      "execution_count": null,
      "outputs": []
    },
    {
      "cell_type": "code",
      "source": [
        "# Run this to make sure the points are correctly registered for the wells\n",
        "\n",
        "nw = len(marker_coords) #count the number of wells\n",
        "print(f\"Number of Wells: {nw}\")\n",
        "marker_coords"
      ],
      "metadata": {
        "colab": {
          "base_uri": "https://localhost:8080/"
        },
        "id": "LDLb_lLXhqxU",
        "outputId": "1057cb97-6463-4ea3-bf7b-42d813b0a9b6"
      },
      "execution_count": null,
      "outputs": [
        {
          "output_type": "stream",
          "name": "stdout",
          "text": [
            "Number of Wells: 4\n"
          ]
        },
        {
          "output_type": "execute_result",
          "data": {
            "text/plain": [
              "[(40.2469, -111.645636),\n",
              " (40.246913, -111.643656),\n",
              " (40.24602, -111.645652),\n",
              " (40.246041, -111.643614)]"
            ]
          },
          "metadata": {},
          "execution_count": 6
        }
      ]
    },
    {
      "cell_type": "markdown",
      "source": [
        "# Part 2 - Drawdown Calculations\n",
        "\n",
        "In this section we define our properties and variables, solve for the heads resulting from the wells created in the previous section, and plot the results."
      ],
      "metadata": {
        "id": "gwECvy1s2Atk"
      }
    },
    {
      "cell_type": "code",
      "source": [
        "# Define functions for this section\n",
        "\n",
        "def sum_well_h(r, qi):\n",
        "  return np.sqrt(H**2 - (1/(np.pi*k))*np.sum(qi*np.log(R/r)))\n",
        "\n",
        "def solve_heads(distances, qi):\n",
        "  return np.apply_along_axis(sum_well_h, 0, distances, qi)\n",
        "\n",
        "def build_grid(well_coords, poly_coords):\n",
        "\n",
        "  # Create grid of points\n",
        "  cushion = 0.3 # Fraction of distance to add to each side when creating grid\n",
        "  num_points = 100  # Modify for resolution\n",
        "\n",
        "  well_lats, well_lons = zip(*well_coords)\n",
        "  poly_lats, poly_lons = zip(*poly_coords)\n",
        "  latitudes = list(well_lats) + list(poly_lats)\n",
        "  longitudes = list(well_lons) + list(poly_lons)\n",
        "  lat_range = max(latitudes) - min(latitudes)\n",
        "  lon_range = max(longitudes) - min(longitudes)\n",
        "  lat_cushion = lat_range * cushion\n",
        "  lon_cushion = lon_range * cushion\n",
        "  min_lat = min(latitudes) - lat_cushion\n",
        "  max_lat = max(latitudes) + lat_cushion\n",
        "  min_lon = min(longitudes) - lon_cushion\n",
        "  max_lon = max(longitudes) + lon_cushion\n",
        "\n",
        "  grid_lat = np.linspace(min_lat, max_lat, num_points)\n",
        "  grid_lon = np.linspace(min_lon, max_lon, num_points)\n",
        "  grid_lat, grid_lon = np.meshgrid(grid_lat, grid_lon)\n",
        "\n",
        "  # Transform from lat/lon to x, y coordinates in meters\n",
        "  transformer = pyproj.Transformer.from_crs(\"epsg:4326\", \"epsg:3857\")\n",
        "  poly_x, poly_y = transformer.transform(poly_lats, poly_lons)\n",
        "  grid_x, grid_y = transformer.transform(grid_lat, grid_lon)\n",
        "  wells_x, wells_y = transformer.transform(well_lats, well_lons)\n",
        "\n",
        "  # Convert wells_x and wells_y to NumPy arrays\n",
        "  wells_x = np.array(wells_x)\n",
        "  wells_y = np.array(wells_y)\n",
        "\n",
        "  # Reshape wells_x and wells_y to be compatible with broadcasting\n",
        "  wells_x = wells_x[:, np.newaxis, np.newaxis]  # Shape: (nw, 1, 1)\n",
        "  wells_y = wells_y[:, np.newaxis, np.newaxis]  # Shape: (nw, 1, 1)\n",
        "\n",
        "  # Calculating Distances: The distances array will now have shape (nw, 100, 100), representing the\n",
        "  # distances from each of the nw wells to each point on the 100x100 grid.\n",
        "  distances = np.sqrt((grid_x[np.newaxis, ...] - wells_x)**2 + (grid_y[np.newaxis, ...] - wells_y)**2)\n",
        "\n",
        "  return distances, grid_lat, grid_lon, grid_x, grid_y, poly_x, poly_y\n",
        "\n",
        "def contour_plot(heads, well_coords, poly_coords, binary=False, binary_value=0):\n",
        "  # Plot contours using matplotlib\n",
        "  plt.figure(figsize=(12, 4))\n",
        "\n",
        "  # Approximate aspect ratio adjustment\n",
        "  average_lat = np.mean([lat for lat, lon in poly_coords])  # Find the average latitude\n",
        "  plt.gca().set_aspect(1 / np.cos(np.radians(average_lat)))\n",
        "\n",
        "\n",
        "  # if binary = True, use two color bands, one above binary value and one below, otherwise use defaults\n",
        "  if binary:\n",
        "    # Find the minimum and maximum values in heads, excluding NaN and Inf\n",
        "    valid_values = heads[np.isfinite(heads)]\n",
        "    min_val = np.min(valid_values)\n",
        "    max_val = np.max(valid_values)\n",
        "\n",
        "    # Ensure binary_value is within the range of valid values\n",
        "    binary_value = np.clip(binary_value, min_val, max_val)\n",
        "\n",
        "    # Adjust levels based on binary_value and data range\n",
        "    levels = [min_val, binary_value, max_val]\n",
        "    plt.contourf(grid_lon, grid_lat, heads, levels=levels, colors=['red', 'blue'], extend='both')\n",
        "  else:\n",
        "    plt.contourf(grid_lon, grid_lat, heads, cmap=cm.viridis)\n",
        "\n",
        "  plt.colorbar(label='Computed Values')\n",
        "  plt.xlabel('Longitude')\n",
        "  plt.ylabel('Latitude')\n",
        "\n",
        "\n",
        "\n",
        "  well_lats, well_lons = zip(*well_coords)\n",
        "  poly_lats, poly_lons = zip(*poly_coords)\n",
        "\n",
        "  # add the marker_coords to the map as scatter points\n",
        "  plt.scatter(well_lons, well_lats, color='red', marker='o', s=100)\n",
        "\n",
        "  # add the poly_coords to the map as dashed lines\n",
        "  plt.plot(poly_lons, poly_lats, color='black', linestyle='--', linewidth=2)\n",
        "\n",
        "  plt.show()\n",
        "\n",
        "def mask_inside_polygon(grid_x, grid_y, poly_x, poly_y):\n",
        "  # build a mask marking cells inside the excavation polygon\n",
        "  poly_coords_shapely = Polygon(list(zip(poly_x, poly_y)))\n",
        "  num_points = len(grid_x[0])\n",
        "  grid_points = [Point(grid_x[i][j], grid_y[i][j]) for i in range(num_points) for j in range(num_points)]\n",
        "  inside_poly = [poly_coords_shapely.contains(grid_points[i]) for i in range(num_points * num_points)]\n",
        "  inside_poly = np.array(inside_poly).reshape(num_points, num_points)\n",
        "  return inside_poly\n",
        "\n",
        "def filter_inside_polygon(mask, h_grid):\n",
        "  # use the inside_poly results to create a filter of h_grid so that all values outside of poly are nans\n",
        "  return np.where(mask, h_grid, np.nan)\n",
        "\n"
      ],
      "metadata": {
        "id": "7BqVIuzjUMFc"
      },
      "execution_count": null,
      "outputs": []
    },
    {
      "cell_type": "code",
      "source": [
        "#@markdown ### **Enter variables used in analysis**\n",
        "#@markdown Enter k in [cm/s], everything else in [m]\n",
        "\n",
        "k_cms = 5e-4 #@param\n",
        "k = k_cms / 100 #m/sec\n",
        "\n",
        "H = 50 #@param\n",
        "R = 500 #@param\n",
        "\n",
        "design_head = 35 #@param\n",
        "\n",
        "total_Q = 0.015 #@param\n",
        "qi = total_Q / nw # m^3/sec"
      ],
      "metadata": {
        "id": "pVHeBjQH0JbK"
      },
      "execution_count": null,
      "outputs": []
    },
    {
      "cell_type": "code",
      "source": [
        "# Build a grid that surrounds the excvation and calculate the heads on the grid resulting from the pumping\n",
        "# from the wells defined on the map above.\n",
        "\n",
        "# distances has a shape of (nw, 100, 100). Call the h function for all values\n",
        "# of nw to return a (100, 100) set of results in h_grid\n",
        "\n",
        "distances, grid_lat, grid_lon, grid_x, grid_y, poly_x, poly_y = build_grid(marker_coords, polygon_coords)\n",
        "\n",
        "#h_grid = np.apply_along_axis(sum_well_h, 0, distances)\n",
        "h_grid = solve_heads(distances, qi)\n"
      ],
      "metadata": {
        "id": "LgUNx2u1L70m"
      },
      "execution_count": null,
      "outputs": []
    },
    {
      "cell_type": "code",
      "source": [
        "contour_plot(h_grid, marker_coords, polygon_coords)\n"
      ],
      "metadata": {
        "colab": {
          "base_uri": "https://localhost:8080/",
          "height": 403
        },
        "id": "2I-dJD1ZHaR4",
        "outputId": "6908fd0c-8d4e-4107-a804-58d30ef3e482"
      },
      "execution_count": null,
      "outputs": [
        {
          "output_type": "display_data",
          "data": {
            "text/plain": [
              "<Figure size 1200x400 with 2 Axes>"
            ],
            "image/png": "[encoded data removed]"
          },
          "metadata": {}
        }
      ]
    },
    {
      "cell_type": "code",
      "source": [
        "# Filter the head values that are inside the excavation.\n",
        "inside_mask = mask_inside_polygon(grid_x, grid_y, poly_x, poly_y)\n",
        "h_grid_inside = filter_inside_polygon(inside_mask, h_grid)\n"
      ],
      "metadata": {
        "id": "ehgywsrgPJdG"
      },
      "execution_count": null,
      "outputs": []
    },
    {
      "cell_type": "code",
      "source": [
        "# print the max value of h_grid_inside\n",
        "print(f\"Max value of h_grid_inside: {np.nanmax(h_grid_inside)}\")"
      ],
      "metadata": {
        "colab": {
          "base_uri": "https://localhost:8080/"
        },
        "id": "3rEq_2Sy2kQ9",
        "outputId": "acae8b82-4f51-4b2f-8921-700b1b50d8eb"
      },
      "execution_count": null,
      "outputs": [
        {
          "output_type": "stream",
          "name": "stdout",
          "text": [
            "Max value of h_grid_inside: 35.35306875191711\n"
          ]
        }
      ]
    },
    {
      "cell_type": "code",
      "source": [
        "# Plot the heads inside the excavation\n",
        "contour_plot(h_grid_inside, marker_coords, polygon_coords)"
      ],
      "metadata": {
        "colab": {
          "base_uri": "https://localhost:8080/",
          "height": 403
        },
        "id": "sF13FmndzJHm",
        "outputId": "d81de2b3-b695-4765-d810-f9035b68e0d0"
      },
      "execution_count": null,
      "outputs": [
        {
          "output_type": "display_data",
          "data": {
            "text/plain": [
              "<Figure size 1200x400 with 2 Axes>"
            ],
            "image/png": "[encoded data removed]"
          },
          "metadata": {}
        }
      ]
    },
    {
      "cell_type": "code",
      "source": [
        "# Create a new head array which is the h_grid minus design_head. Negative values indicate\n",
        "# depth below the bottom of the excavation.\n",
        "h_grid_new = h_grid_inside - design_head\n",
        "\n",
        "contour_plot(h_grid_new, marker_coords, polygon_coords)"
      ],
      "metadata": {
        "id": "z0RgpDiy3jLg",
        "colab": {
          "base_uri": "https://localhost:8080/",
          "height": 403
        },
        "outputId": "16172815-87b6-4514-ef94-1db54c441793"
      },
      "execution_count": null,
      "outputs": [
        {
          "output_type": "display_data",
          "data": {
            "text/plain": [
              "<Figure size 1200x400 with 2 Axes>"
            ],
            "image/png": "[encoded data removed]"
          },
          "metadata": {}
        }
      ]
    },
    {
      "cell_type": "code",
      "source": [
        "# Create a depth below grid for the entire domain and then do a binary plot where\n",
        "# values below a given depth are marked in red. This can graphically show where\n",
        "# the dewatering objective has been met.\n",
        "\n",
        "h_split = h_grid-design_head\n",
        "\n",
        "cushion = 0  # Optional - extra depth for a factor of safety\n",
        "\n",
        "contour_plot(h_split,marker_coords, polygon_coords, binary=True, binary_value=-cushion)"
      ],
      "metadata": {
        "colab": {
          "base_uri": "https://localhost:8080/",
          "height": 403
        },
        "id": "YeXlcXoS48Tq",
        "outputId": "3da941a4-1bd8-48ba-bdbe-6b51cc9cf5cd"
      },
      "execution_count": null,
      "outputs": [
        {
          "output_type": "display_data",
          "data": {
            "text/plain": [
              "<Figure size 1200x400 with 2 Axes>"
            ],
            "image/png": "[encoded data removed]"
          },
          "metadata": {}
        }
      ]
    },
    {
      "cell_type": "markdown",
      "source": [
        "# Part 3 - Rectangular Well System Design\n",
        "\n",
        "In this section we will generate a set of wells along a rectangle that is offset from the bounding box of the excavation, redo the head calculations, and plot the results."
      ],
      "metadata": {
        "id": "QnjuT4UDSPY_"
      }
    },
    {
      "cell_type": "code",
      "source": [
        "# Define functions for this section\n",
        "\n",
        "def parse_geojson(geojson_data):\n",
        "    # Parse GeoJSON to extract polygon coordinates\n",
        "    geo_shape = shape(geojson_data['features'][0]['geometry'])\n",
        "    if isinstance(geo_shape, Polygon):\n",
        "        return list(geo_shape.exterior.coords)\n",
        "    else:\n",
        "        raise ValueError(\"GeoJSON does not contain a polygon.\")\n",
        "\n",
        "def project_coordinates(coords, transformer):\n",
        "    # Project lat/lon to meters\n",
        "    projected = []\n",
        "    for lon, lat in coords:\n",
        "        try:\n",
        "            x, y = transformer.transform(lon, lat)\n",
        "            projected.append((x, y))\n",
        "        except Exception as e:\n",
        "            print(f\"Error projecting coordinate ({lat}, {lon}): {e}\")\n",
        "            projected.append((float('inf'), float('inf')))\n",
        "    return projected\n",
        "\n",
        "def generate_well_locations_geojson(geojson_data, offset_m, npts_x):\n",
        "\n",
        "    from pyproj import Transformer\n",
        "\n",
        "    # Step 1: Parse GeoJSON and get polygon coordinates\n",
        "    polygon_coords = parse_geojson(geojson_data)\n",
        "\n",
        "    #print(\"Parsed Coordinates (Lat/Lon):\", polygon_coords)\n",
        "\n",
        "    # Step 2: Set up a general-purpose transformer (EPSG:3857)\n",
        "    transformer = Transformer.from_crs(\"EPSG:4326\", \"EPSG:3857\", always_xy=True)\n",
        "    inverse_transformer = Transformer.from_crs(\"EPSG:3857\", \"EPSG:4326\", always_xy=True)\n",
        "\n",
        "    # Project polygon to meters\n",
        "    projected_polygon = project_coordinates(polygon_coords, transformer)\n",
        "    #print(\"Projected Coordinates (Meters):\", projected_polygon)\n",
        "\n",
        "    # Ensure there are valid projected coordinates\n",
        "    if any(x == float('inf') or y == float('inf') for x, y in projected_polygon):\n",
        "        raise ValueError(\"Projection failed for some coordinates. Please check input data and projection settings.\")\n",
        "\n",
        "    # Step 3: Compute bounding box in meters\n",
        "    x_coords, y_coords = zip(*projected_polygon)\n",
        "    min_x, max_x = min(x_coords), max(x_coords)\n",
        "    min_y, max_y = min(y_coords), max(y_coords)\n",
        "    #print(\"Bounding Box (Meters):\", min_x, max_x, min_y, max_y)\n",
        "\n",
        "    # Step 4: Expand the bounding box by the offset in meters\n",
        "    min_x -= offset_m\n",
        "    max_x += offset_m\n",
        "    min_y -= offset_m\n",
        "    max_y += offset_m\n",
        "\n",
        "    # Step 5: Generate well locations along the expanded bounding box\n",
        "    wells = []\n",
        "\n",
        "    # Calculate spacing for east-west points\n",
        "    spacing_x = (max_x - min_x) / (npts_x - 1)\n",
        "\n",
        "    # Calculate the number of points in the north-south direction\n",
        "    npts_y = int(round((max_y - min_y) / spacing_x)) + 1\n",
        "    spacing_y = (max_y - min_y) / (npts_y - 1)\n",
        "\n",
        "    print(f\"Spacing in X: {spacing_x}\")\n",
        "    print(f\"Spacing in Y: {spacing_y}\")\n",
        "\n",
        "    # Generate points along the bottom (south) edge\n",
        "    for i in range(npts_x):\n",
        "        x = min_x + i * spacing_x\n",
        "        wells.append((x, min_y))\n",
        "\n",
        "    # Generate points along the right (east) edge\n",
        "    for i in range(1, npts_y - 1):  # Avoid corners\n",
        "        y = min_y + i * spacing_y\n",
        "        wells.append((max_x, y))\n",
        "\n",
        "    # Generate points along the top (north) edge\n",
        "    for i in range(npts_x):\n",
        "        x = max_x - i * spacing_x\n",
        "        wells.append((x, max_y))\n",
        "\n",
        "    # Generate points along the left (west) edge\n",
        "    for i in range(1, npts_y - 1):  # Avoid corners\n",
        "        y = max_y - i * spacing_y\n",
        "        wells.append((min_x, y))\n",
        "\n",
        "    # Step 6: Convert well coordinates back to lat/lon\n",
        "    well_coords_latlon = [(inverse_transformer.transform(x, y)) for x, y in wells]\n",
        "\n",
        "    # Step 7: Reverse the order (x vs y) for the lat/lon coords\n",
        "    well_coords_latlon = [(y, x) for x, y in well_coords_latlon]\n",
        "\n",
        "    return well_coords_latlon"
      ],
      "metadata": {
        "id": "9tV_dmjFSfd_"
      },
      "execution_count": null,
      "outputs": []
    },
    {
      "cell_type": "code",
      "source": [
        "# Generate a rectangular set of wells based on an offset distance from the edge\n",
        "# of the excavation and a number of wells along the x-direction. Spacing in the\n",
        "# y-direction is adjused to match\n",
        "\n",
        "offset_m = 15\n",
        "npts_x = 8\n",
        "\n",
        "rect_wells_coords = generate_well_locations_geojson(geojson_data, offset_m, npts_x)\n",
        "\n",
        "num_wells = len(rect_wells_coords)\n",
        "print(f\"Number of Wells: {num_wells}\")"
      ],
      "metadata": {
        "colab": {
          "base_uri": "https://localhost:8080/"
        },
        "id": "zU1mAuRlT56P",
        "outputId": "00ab602f-dcb4-4f33-e187-4dda75702b44"
      },
      "execution_count": null,
      "outputs": [
        {
          "output_type": "stream",
          "name": "stdout",
          "text": [
            "Spacing in X: 33.886500178171055\n",
            "Spacing in Y: 34.69291284889914\n",
            "Number of Wells: 22\n"
          ]
        }
      ]
    },
    {
      "cell_type": "code",
      "source": [
        "# Solve for the head using the rectangular ring of wells\n",
        "\n",
        "qi = total_Q / num_wells\n",
        "distances, grid_lat, grid_lon, grid_x, grid_y, poly_x, poly_y = build_grid(rect_wells_coords, polygon_coords)\n",
        "h_grid = solve_heads(distances, qi)"
      ],
      "metadata": {
        "id": "R2mpkwiHZIpd"
      },
      "execution_count": null,
      "outputs": []
    },
    {
      "cell_type": "code",
      "source": [
        "contour_plot(h_grid, rect_wells_coords, polygon_coords)"
      ],
      "metadata": {
        "colab": {
          "base_uri": "https://localhost:8080/",
          "height": 403
        },
        "id": "MBMzTVMccQaR",
        "outputId": "d4638358-bd71-4272-b223-ea7c964f4907"
      },
      "execution_count": null,
      "outputs": [
        {
          "output_type": "display_data",
          "data": {
            "text/plain": [
              "<Figure size 1200x400 with 2 Axes>"
            ],
            "image/png": "[encoded data removed]"
          },
          "metadata": {}
        }
      ]
    },
    {
      "cell_type": "markdown",
      "source": [
        "# Part 4 - Pumping Rate Optimization\n",
        "\n",
        "In this section, we use the rectangular well design from the previous section and optimize the pumping rate so that the resulting heads are just below the design depth."
      ],
      "metadata": {
        "id": "CKFXwQwqsBKf"
      }
    },
    {
      "cell_type": "code",
      "source": [
        "# Define functions for this section.\n",
        "\n",
        "def objective_function(h_grid_inside, design_head):\n",
        "  # find the max value in h_grid_inside, but ignore nans\n",
        "  h_grid_nonans = h_grid_inside[~np.isnan(h_grid_inside)]\n",
        "  max_h = np.max(h_grid_nonans)\n",
        "  diff = max_h - design_head\n",
        "  return diff # Should be zero if max head in excavation is right at the bottom\n",
        "\n",
        "def optimize_pumping_rate_bisection(qi_low, qi_high, distances, tolerance=0.0001, max_iterations=100):\n",
        "    \"\"\"\n",
        "    Optimize qi using the bisection method.\n",
        "\n",
        "    Args:\n",
        "        qi_low: Lower bound for pumping rate.\n",
        "        qi_high: Upper bound for pumping rate.\n",
        "        distances: Array of distances for simulation.\n",
        "        tolerance: Acceptable difference between target and actual head.\n",
        "        max_iterations: Maximum number of iterations.\n",
        "\n",
        "    Returns:\n",
        "        Optimal pumping rate (qi).\n",
        "    \"\"\"\n",
        "    inside_mask = mask_inside_polygon(grid_x, grid_y, poly_x, poly_y)\n",
        "\n",
        "    for iteration in range(max_iterations):\n",
        "        qi_mid = (qi_low + qi_high) / 2\n",
        "        h_grid = solve_heads(distances, qi_mid)\n",
        "        h_grid_inside = filter_inside_polygon(inside_mask, h_grid)\n",
        "        obj = objective_function(h_grid_inside, design_head)\n",
        "\n",
        "        print(f\"Iteration: {iteration}, qi_mid: {qi_mid:.6f}, Objective: {obj:.6f}\")\n",
        "\n",
        "        if np.abs(obj) < tolerance:\n",
        "            print(\"Optimal pumping rate found.\")\n",
        "            return qi_mid\n",
        "\n",
        "        if obj < 0:\n",
        "            qi_high = qi_mid  # Reduce the upper bound\n",
        "        else:\n",
        "            qi_low = qi_mid   # Increase the lower bound\n",
        "\n",
        "    print(\"Optimization did not converge within the maximum number of iterations.\")\n",
        "    return (qi_low + qi_high) / 2"
      ],
      "metadata": {
        "id": "7pVD3OnheheU"
      },
      "execution_count": null,
      "outputs": []
    },
    {
      "cell_type": "code",
      "source": [
        "# Setup - run this in prep for next cell\n",
        "distances, grid_lat, grid_lon, grid_x, grid_y, poly_x, poly_y = build_grid(rect_wells_coords, polygon_coords)\n",
        "inside_mask = mask_inside_polygon(grid_x, grid_y, poly_x, poly_y)"
      ],
      "metadata": {
        "id": "tTbxEpWNNmL4"
      },
      "execution_count": null,
      "outputs": []
    },
    {
      "cell_type": "code",
      "source": [
        "# Run this cell repeatedly to find a pair of q values that give a head\n",
        "# above and below the target (postive or negative value of obj).\n",
        "\n",
        "q_test = 0.008\n",
        "\n",
        "qi_test = q_test / num_wells\n",
        "h_grid = solve_heads(distances, qi_test)\n",
        "h_grid_inside = filter_inside_polygon(inside_mask, h_grid)\n",
        "obj = objective_function(h_grid_inside, design_head)\n",
        "print(f\"Qi: {q_test}, Objective: {obj:0.2f}\")"
      ],
      "metadata": {
        "colab": {
          "base_uri": "https://localhost:8080/"
        },
        "id": "-5DL_gOsM8kw",
        "outputId": "4633fb44-0858-4eb2-a995-94352bf7569c"
      },
      "execution_count": null,
      "outputs": [
        {
          "output_type": "stream",
          "name": "stdout",
          "text": [
            "Qi: 0.008, Objective: 6.77\n"
          ]
        }
      ]
    },
    {
      "cell_type": "code",
      "source": [
        "# Use the two q values found in previous cell to initialize the solver and find optimal q\n",
        "\n",
        "q_low = 0.008     # for positive result\n",
        "q_high = 0.02    # for negative result\n",
        "\n",
        "qi_low = q_low / num_wells\n",
        "qi_high = q_high / num_wells\n",
        "optimal_qi = optimize_pumping_rate_bisection(qi_low, qi_high, distances)\n",
        "optimal_q = optimal_qi * num_wells\n",
        "print(f\"Optimal q: {optimal_q}\")"
      ],
      "metadata": {
        "id": "JNewCA2rCvZL"
      },
      "execution_count": null,
      "outputs": []
    },
    {
      "cell_type": "code",
      "source": [
        "h_grid = solve_heads(distances, optimal_qi)\n",
        "inside_mask = mask_inside_polygon(grid_x, grid_y, poly_x, poly_y)\n",
        "h_grid_inside = filter_inside_polygon(inside_mask, h_grid)\n",
        "\n",
        "contour_plot(h_grid_inside, rect_wells_coords, polygon_coords)"
      ],
      "metadata": {
        "colab": {
          "base_uri": "https://localhost:8080/",
          "height": 403
        },
        "id": "OZ82o9pnG4G4",
        "outputId": "3a242406-f400-4d8d-d83a-947cde3d7f39"
      },
      "execution_count": null,
      "outputs": [
        {
          "output_type": "display_data",
          "data": {
            "text/plain": [
              "<Figure size 1200x400 with 2 Axes>"
            ],
            "image/png": "[encoded data removed]"
          },
          "metadata": {}
        }
      ]
    },
    {
      "cell_type": "code",
      "source": [
        "# Print final total design Q\n",
        "q_total = optimal_qi * num_wells\n",
        "print(f\"Total pumping rate: {q_total:.5f} m^3/sec\")\n",
        "\n",
        "q_total_gpm = q_total * 15850.3\n",
        "print(f\"Total pumping rate: {q_total_gpm:.1f} gpm\")"
      ],
      "metadata": {
        "colab": {
          "base_uri": "https://localhost:8080/"
        },
        "id": "RvMGK7tXEPF_",
        "outputId": "b495bc0b-e86b-4f5d-a5e7-da5333974414"
      },
      "execution_count": null,
      "outputs": [
        {
          "output_type": "stream",
          "name": "stdout",
          "text": [
            "Total pumping rate: 0.01350 m^3/sec\n",
            "Total pumping rate: 214.0 gpm\n"
          ]
        }
      ]
    },
    {
      "cell_type": "markdown",
      "source": [
        "# Part 5 - Q vs NumWells Design Curve\n",
        "\n",
        "In this section we will iterate and find the optimal Q for a range of well designs and plot the results. Specifically, we will vary the number of wells along the length of each side of the rectangle. This could be used to determine the point when adding more wells is not worth the extra cost."
      ],
      "metadata": {
        "id": "M9P3-R1lJ7x_"
      }
    },
    {
      "cell_type": "code",
      "source": [
        "# Define functions used in this section\n",
        "\n",
        "def opt_q_nwells(q_low, q_high, offset_m, npts_x):\n",
        "  # Solve for the optimal total q for a given number of wells in the x direction\n",
        "\n",
        "  print(f\"Solving for nwell_x = : {npts_x}\")\n",
        "\n",
        "  # Compute the rectanqular grid coords\n",
        "  rect_wells_coords = generate_well_locations_geojson(geojson_data, offset_m, npts_x)\n",
        "  num_wells = len(rect_wells_coords)\n",
        "\n",
        "  # Calculate distances\n",
        "  distances, grid_lat, grid_lon, grid_x, grid_y, poly_x, poly_y = build_grid(rect_wells_coords, polygon_coords)\n",
        "\n",
        "  # Solve for optimal qi\n",
        "  qi_low = q_low / num_wells\n",
        "  qi_high = q_high / num_wells\n",
        "  optimal_qi = optimize_pumping_rate_bisection(qi_low, qi_high, distances)\n",
        "  optimal_q = optimal_qi * num_wells\n",
        "\n",
        "  return optimal_q, num_wells"
      ],
      "metadata": {
        "id": "WJUhlrf2KtrE"
      },
      "execution_count": null,
      "outputs": []
    },
    {
      "cell_type": "code",
      "source": [
        "# Run this cell repeatedly to find a pair of q values that give a head\n",
        "# above and below the target (postive or negative value of obj).\n",
        "# In this case we need to work in terms of total q because qi changes depending on\n",
        "# number of wells. More specifically, you want a pair of q_test values that give\n",
        "# a positive and negative objective for both your min npts_x and your max npts_x.\n",
        "\n",
        "npts_x = 15\n",
        "offset_m = 15\n",
        "\n",
        "q_test = 0.015    # large value gives positive result, small value gives negative result\n",
        "\n",
        "rect_wells_coords = generate_well_locations_geojson(geojson_data, offset_m, npts_x)\n",
        "num_wells = len(rect_wells_coords)\n",
        "distances, grid_lat, grid_lon, grid_x, grid_y, poly_x, poly_y = build_grid(rect_wells_coords, polygon_coords)\n",
        "\n",
        "qi_test = q_test / num_wells\n",
        "h_grid = solve_heads(distances, qi_test)\n",
        "inside_mask = mask_inside_polygon(grid_x, grid_y, poly_x, poly_y)\n",
        "h_grid_inside = filter_inside_polygon(inside_mask, h_grid)\n",
        "obj = objective_function(h_grid_inside, design_head)\n",
        "print(f\"Q: {q_test}, Objective: {obj:0.2f}\")"
      ],
      "metadata": {
        "colab": {
          "base_uri": "https://localhost:8080/"
        },
        "id": "7jvu9xdoLWpR",
        "outputId": "a0757d61-8d3d-4fea-94b4-9b5c6db6969f"
      },
      "execution_count": null,
      "outputs": [
        {
          "output_type": "stream",
          "name": "stdout",
          "text": [
            "Spacing in X: 16.943250089085527\n",
            "Spacing in Y: 17.34645642444957\n",
            "Q: 0.015, Objective: -2.26\n"
          ]
        }
      ]
    },
    {
      "cell_type": "code",
      "source": [
        "# Define inputs and solve\n",
        "\n",
        "offset_m = 15\n",
        "\n",
        "min_wells_x = 3\n",
        "max_wells_x = 15\n",
        "\n",
        "q_low = 0.01      # for positive result\n",
        "q_high = 0.015     # for negative result\n",
        "\n",
        "design_wells = []\n",
        "design_q = []\n",
        "\n",
        "for i in range(min_wells_x, max_wells_x + 1):\n",
        "  optimal_q, num_wells = opt_q_nwells(q_low, q_high, offset_m, i)\n",
        "  print(f\"Number of Wells: {num_wells}, Optimal Q: {optimal_qi}\")\n",
        "  design_wells.append(num_wells)\n",
        "  design_q.append(optimal_q)\n"
      ],
      "metadata": {
        "id": "Hm9b4FG_TdQ8",
        "colab": {
          "base_uri": "https://localhost:8080/"
        },
        "outputId": "7617437b-6ee8-4f1b-b867-b092e0f7bf66"
      },
      "execution_count": null,
      "outputs": [
        {
          "output_type": "stream",
          "name": "stdout",
          "text": [
            "Solving for nwell_x = : 3\n",
            "Spacing in X: 118.6027506235987\n",
            "Spacing in Y: 138.77165139559656\n",
            "Iteration: 0, qi_mid: 0.002083, Objective: 2.508951\n",
            "Iteration: 1, qi_mid: 0.002292, Objective: 1.022403\n",
            "Iteration: 2, qi_mid: 0.002396, Objective: 0.255632\n",
            "Iteration: 3, qi_mid: 0.002448, Objective: -0.134076\n",
            "Iteration: 4, qi_mid: 0.002422, Objective: 0.061319\n",
            "Iteration: 5, qi_mid: 0.002435, Objective: -0.036242\n",
            "Iteration: 6, qi_mid: 0.002428, Objective: 0.012573\n",
            "Iteration: 7, qi_mid: 0.002432, Objective: -0.011826\n",
            "Iteration: 8, qi_mid: 0.002430, Objective: 0.000375\n",
            "Iteration: 9, qi_mid: 0.002431, Objective: -0.005725\n",
            "Iteration: 10, qi_mid: 0.002430, Objective: -0.002675\n",
            "Iteration: 11, qi_mid: 0.002430, Objective: -0.001150\n",
            "Iteration: 12, qi_mid: 0.002430, Objective: -0.000387\n",
            "Iteration: 13, qi_mid: 0.002430, Objective: -0.000006\n",
            "Optimal pumping rate found.\n",
            "Number of Wells: 6, Optimal Q: 0.0006135794899680398\n",
            "Solving for nwell_x = : 4\n",
            "Spacing in X: 79.06850041573246\n",
            "Spacing in Y: 69.38582569779828\n",
            "Iteration: 0, qi_mid: 0.001250, Objective: 1.656813\n",
            "Iteration: 1, qi_mid: 0.001375, Objective: 0.044174\n",
            "Iteration: 2, qi_mid: 0.001437, Objective: -0.790641\n",
            "Iteration: 3, qi_mid: 0.001406, Objective: -0.370718\n",
            "Iteration: 4, qi_mid: 0.001391, Objective: -0.162655\n",
            "Iteration: 5, qi_mid: 0.001383, Objective: -0.059087\n",
            "Iteration: 6, qi_mid: 0.001379, Objective: -0.007419\n",
            "Iteration: 7, qi_mid: 0.001377, Objective: 0.018387\n",
            "Iteration: 8, qi_mid: 0.001378, Objective: 0.005487\n",
            "Iteration: 9, qi_mid: 0.001378, Objective: -0.000965\n",
            "Iteration: 10, qi_mid: 0.001378, Objective: 0.002261\n",
            "Iteration: 11, qi_mid: 0.001378, Objective: 0.000648\n",
            "Iteration: 12, qi_mid: 0.001378, Objective: -0.000159\n",
            "Iteration: 13, qi_mid: 0.001378, Objective: 0.000244\n",
            "Iteration: 14, qi_mid: 0.001378, Objective: 0.000043\n",
            "Optimal pumping rate found.\n",
            "Number of Wells: 10, Optimal Q: 0.0006135794899680398\n",
            "Solving for nwell_x = : 5\n",
            "Spacing in X: 59.30137531179935\n",
            "Spacing in Y: 69.38582569779828\n",
            "Iteration: 0, qi_mid: 0.001042, Objective: 1.641613\n",
            "Iteration: 1, qi_mid: 0.001146, Objective: 0.026684\n",
            "Iteration: 2, qi_mid: 0.001198, Objective: -0.809373\n",
            "Iteration: 3, qi_mid: 0.001172, Objective: -0.388820\n",
            "Iteration: 4, qi_mid: 0.001159, Objective: -0.180448\n",
            "Iteration: 5, qi_mid: 0.001152, Objective: -0.076728\n",
            "Iteration: 6, qi_mid: 0.001149, Objective: -0.024984\n",
            "Iteration: 7, qi_mid: 0.001147, Objective: 0.000860\n",
            "Iteration: 8, qi_mid: 0.001148, Objective: -0.012060\n",
            "Iteration: 9, qi_mid: 0.001148, Objective: -0.005600\n",
            "Iteration: 10, qi_mid: 0.001148, Objective: -0.002370\n",
            "Iteration: 11, qi_mid: 0.001148, Objective: -0.000755\n",
            "Iteration: 12, qi_mid: 0.001148, Objective: 0.000052\n",
            "Optimal pumping rate found.\n",
            "Number of Wells: 12, Optimal Q: 0.0006135794899680398\n",
            "Solving for nwell_x = : 6\n",
            "Spacing in X: 47.44110024943948\n",
            "Spacing in Y: 46.257217131865524\n",
            "Iteration: 0, qi_mid: 0.000781, Objective: 1.461085\n",
            "Iteration: 1, qi_mid: 0.000859, Objective: -0.181157\n",
            "Iteration: 2, qi_mid: 0.000820, Objective: 0.649422\n",
            "Iteration: 3, qi_mid: 0.000840, Objective: 0.236580\n",
            "Iteration: 4, qi_mid: 0.000850, Objective: 0.028334\n",
            "Iteration: 5, qi_mid: 0.000854, Objective: -0.076254\n",
            "Iteration: 6, qi_mid: 0.000852, Objective: -0.023921\n",
            "Iteration: 7, qi_mid: 0.000851, Objective: 0.002216\n",
            "Iteration: 8, qi_mid: 0.000851, Objective: -0.010850\n",
            "Iteration: 9, qi_mid: 0.000851, Objective: -0.004316\n",
            "Iteration: 10, qi_mid: 0.000851, Objective: -0.001050\n",
            "Iteration: 11, qi_mid: 0.000851, Objective: 0.000583\n",
            "Iteration: 12, qi_mid: 0.000851, Objective: -0.000233\n",
            "Iteration: 13, qi_mid: 0.000851, Objective: 0.000175\n",
            "Iteration: 14, qi_mid: 0.000851, Objective: -0.000029\n",
            "Optimal pumping rate found.\n",
            "Number of Wells: 16, Optimal Q: 0.0006135794899680398\n",
            "Solving for nwell_x = : 7\n",
            "Spacing in X: 39.53425020786623\n",
            "Spacing in Y: 34.69291284889914\n",
            "Iteration: 0, qi_mid: 0.000625, Objective: 1.324736\n",
            "Iteration: 1, qi_mid: 0.000687, Objective: -0.338276\n",
            "Iteration: 2, qi_mid: 0.000656, Objective: 0.502969\n",
            "Iteration: 3, qi_mid: 0.000672, Objective: 0.084868\n",
            "Iteration: 4, qi_mid: 0.000680, Objective: -0.126062\n",
            "Iteration: 5, qi_mid: 0.000676, Objective: -0.020438\n",
            "Iteration: 6, qi_mid: 0.000674, Objective: 0.032254\n",
            "Iteration: 7, qi_mid: 0.000675, Objective: 0.005918\n",
            "Iteration: 8, qi_mid: 0.000675, Objective: -0.007258\n",
            "Iteration: 9, qi_mid: 0.000675, Objective: -0.000669\n",
            "Iteration: 10, qi_mid: 0.000675, Objective: 0.002624\n",
            "Iteration: 11, qi_mid: 0.000675, Objective: 0.000978\n",
            "Iteration: 12, qi_mid: 0.000675, Objective: 0.000154\n",
            "Iteration: 13, qi_mid: 0.000675, Objective: -0.000258\n",
            "Iteration: 14, qi_mid: 0.000675, Objective: -0.000052\n",
            "Optimal pumping rate found.\n",
            "Number of Wells: 20, Optimal Q: 0.0006135794899680398\n",
            "Solving for nwell_x = : 8\n",
            "Spacing in X: 33.886500178171055\n",
            "Spacing in Y: 34.69291284889914\n",
            "Iteration: 0, qi_mid: 0.000568, Objective: 1.322673\n",
            "Iteration: 1, qi_mid: 0.000625, Objective: -0.340655\n",
            "Iteration: 2, qi_mid: 0.000597, Objective: 0.500752\n",
            "Iteration: 3, qi_mid: 0.000611, Objective: 0.082571\n",
            "Iteration: 4, qi_mid: 0.000618, Objective: -0.128400\n",
            "Iteration: 5, qi_mid: 0.000614, Objective: -0.022755\n",
            "Iteration: 6, qi_mid: 0.000613, Objective: 0.029947\n",
            "Iteration: 7, qi_mid: 0.000613, Objective: 0.003606\n",
            "Iteration: 8, qi_mid: 0.000614, Objective: -0.009572\n",
            "Iteration: 9, qi_mid: 0.000614, Objective: -0.002983\n",
            "Iteration: 10, qi_mid: 0.000614, Objective: 0.000312\n",
            "Iteration: 11, qi_mid: 0.000614, Objective: -0.001335\n",
            "Iteration: 12, qi_mid: 0.000614, Objective: -0.000512\n",
            "Iteration: 13, qi_mid: 0.000614, Objective: -0.000100\n",
            "Iteration: 14, qi_mid: 0.000614, Objective: 0.000106\n",
            "Iteration: 15, qi_mid: 0.000614, Objective: 0.000003\n",
            "Optimal pumping rate found.\n",
            "Number of Wells: 22, Optimal Q: 0.0006135794899680398\n",
            "Solving for nwell_x = : 9\n",
            "Spacing in X: 29.650687655899674\n",
            "Spacing in Y: 27.754330279119312\n",
            "Iteration: 0, qi_mid: 0.000481, Objective: 1.242753\n",
            "Iteration: 1, qi_mid: 0.000529, Objective: -0.432806\n",
            "Iteration: 2, qi_mid: 0.000505, Objective: 0.414884\n",
            "Iteration: 3, qi_mid: 0.000517, Objective: -0.006394\n",
            "Iteration: 4, qi_mid: 0.000511, Objective: 0.204875\n",
            "Iteration: 5, qi_mid: 0.000514, Objective: 0.099399\n",
            "Iteration: 6, qi_mid: 0.000515, Objective: 0.046543\n",
            "Iteration: 7, qi_mid: 0.000516, Objective: 0.020084\n",
            "Iteration: 8, qi_mid: 0.000516, Objective: 0.006848\n",
            "Iteration: 9, qi_mid: 0.000517, Objective: 0.000227\n",
            "Iteration: 10, qi_mid: 0.000517, Objective: -0.003083\n",
            "Iteration: 11, qi_mid: 0.000517, Objective: -0.001428\n",
            "Iteration: 12, qi_mid: 0.000517, Objective: -0.000600\n",
            "Iteration: 13, qi_mid: 0.000517, Objective: -0.000187\n",
            "Iteration: 14, qi_mid: 0.000517, Objective: 0.000020\n",
            "Optimal pumping rate found.\n",
            "Number of Wells: 26, Optimal Q: 0.0006135794899680398\n",
            "Solving for nwell_x = : 10\n",
            "Spacing in X: 26.356166805244154\n",
            "Spacing in Y: 27.754330279119312\n",
            "Iteration: 0, qi_mid: 0.000446, Objective: 1.251539\n",
            "Iteration: 1, qi_mid: 0.000491, Objective: -0.422674\n",
            "Iteration: 2, qi_mid: 0.000469, Objective: 0.424325\n",
            "Iteration: 3, qi_mid: 0.000480, Objective: 0.003388\n",
            "Iteration: 4, qi_mid: 0.000485, Objective: -0.208991\n",
            "Iteration: 5, qi_mid: 0.000483, Objective: -0.102640\n",
            "Iteration: 6, qi_mid: 0.000481, Objective: -0.049586\n",
            "Iteration: 7, qi_mid: 0.000481, Objective: -0.023089\n",
            "Iteration: 8, qi_mid: 0.000480, Objective: -0.009848\n",
            "Iteration: 9, qi_mid: 0.000480, Objective: -0.003230\n",
            "Iteration: 10, qi_mid: 0.000480, Objective: 0.000079\n",
            "Optimal pumping rate found.\n",
            "Number of Wells: 28, Optimal Q: 0.0006135794899680398\n",
            "Solving for nwell_x = : 11\n",
            "Spacing in X: 23.72055012471974\n",
            "Spacing in Y: 23.128608565932762\n",
            "Iteration: 0, qi_mid: 0.000391, Objective: 1.207570\n",
            "Iteration: 1, qi_mid: 0.000430, Objective: -0.473388\n",
            "Iteration: 2, qi_mid: 0.000410, Objective: 0.377076\n",
            "Iteration: 3, qi_mid: 0.000420, Objective: -0.045569\n",
            "Iteration: 4, qi_mid: 0.000415, Objective: 0.166388\n",
            "Iteration: 5, qi_mid: 0.000417, Objective: 0.060570\n",
            "Iteration: 6, qi_mid: 0.000419, Objective: 0.007540\n",
            "Iteration: 7, qi_mid: 0.000419, Objective: -0.019005\n",
            "Iteration: 8, qi_mid: 0.000419, Objective: -0.005730\n",
            "Iteration: 9, qi_mid: 0.000419, Objective: 0.000906\n",
            "Iteration: 10, qi_mid: 0.000419, Objective: -0.002412\n",
            "Iteration: 11, qi_mid: 0.000419, Objective: -0.000753\n",
            "Iteration: 12, qi_mid: 0.000419, Objective: 0.000077\n",
            "Optimal pumping rate found.\n",
            "Number of Wells: 32, Optimal Q: 0.0006135794899680398\n",
            "Solving for nwell_x = : 12\n",
            "Spacing in X: 21.564136477017943\n",
            "Spacing in Y: 23.128608565932762\n",
            "Iteration: 0, qi_mid: 0.000368, Objective: 1.221361\n",
            "Iteration: 1, qi_mid: 0.000404, Objective: -0.457479\n",
            "Iteration: 2, qi_mid: 0.000386, Objective: 0.391897\n",
            "Iteration: 3, qi_mid: 0.000395, Objective: -0.030212\n",
            "Iteration: 4, qi_mid: 0.000391, Objective: 0.181475\n",
            "Iteration: 5, qi_mid: 0.000393, Objective: 0.075791\n",
            "Iteration: 6, qi_mid: 0.000394, Objective: 0.022830\n",
            "Iteration: 7, qi_mid: 0.000395, Objective: -0.003681\n",
            "Iteration: 8, qi_mid: 0.000394, Objective: 0.009577\n",
            "Iteration: 9, qi_mid: 0.000395, Objective: 0.002948\n",
            "Iteration: 10, qi_mid: 0.000395, Objective: -0.000366\n",
            "Iteration: 11, qi_mid: 0.000395, Objective: 0.001291\n",
            "Iteration: 12, qi_mid: 0.000395, Objective: 0.000462\n",
            "Iteration: 13, qi_mid: 0.000395, Objective: 0.000048\n",
            "Optimal pumping rate found.\n",
            "Number of Wells: 34, Optimal Q: 0.0006135794899680398\n",
            "Solving for nwell_x = : 13\n",
            "Spacing in X: 19.767125103933115\n",
            "Spacing in Y: 19.824521627942367\n",
            "Iteration: 0, qi_mid: 0.000329, Objective: 1.195029\n",
            "Iteration: 1, qi_mid: 0.000362, Objective: -0.487855\n",
            "Iteration: 2, qi_mid: 0.000345, Objective: 0.363599\n",
            "Iteration: 3, qi_mid: 0.000354, Objective: -0.059534\n",
            "Iteration: 4, qi_mid: 0.000350, Objective: 0.152669\n",
            "Iteration: 5, qi_mid: 0.000352, Objective: 0.046728\n",
            "Iteration: 6, qi_mid: 0.000353, Objective: -0.006363\n",
            "Iteration: 7, qi_mid: 0.000352, Objective: 0.020193\n",
            "Iteration: 8, qi_mid: 0.000352, Objective: 0.006918\n",
            "Iteration: 9, qi_mid: 0.000352, Objective: 0.000278\n",
            "Iteration: 10, qi_mid: 0.000353, Objective: -0.003042\n",
            "Iteration: 11, qi_mid: 0.000352, Objective: -0.001382\n",
            "Iteration: 12, qi_mid: 0.000352, Objective: -0.000552\n",
            "Iteration: 13, qi_mid: 0.000352, Objective: -0.000137\n",
            "Iteration: 14, qi_mid: 0.000352, Objective: 0.000071\n",
            "Optimal pumping rate found.\n",
            "Number of Wells: 38, Optimal Q: 0.0006135794899680398\n",
            "Solving for nwell_x = : 14\n",
            "Spacing in X: 18.246577019015184\n",
            "Spacing in Y: 17.34645642444957\n",
            "Iteration: 0, qi_mid: 0.000298, Objective: 1.176355\n",
            "Iteration: 1, qi_mid: 0.000327, Objective: -0.509400\n",
            "Iteration: 2, qi_mid: 0.000313, Objective: 0.343529\n",
            "Iteration: 3, qi_mid: 0.000320, Objective: -0.080331\n",
            "Iteration: 4, qi_mid: 0.000316, Objective: 0.132238\n",
            "Iteration: 5, qi_mid: 0.000318, Objective: 0.026115\n",
            "Iteration: 6, qi_mid: 0.000319, Objective: -0.027068\n",
            "Iteration: 7, qi_mid: 0.000319, Objective: -0.000466\n",
            "Iteration: 8, qi_mid: 0.000318, Objective: 0.012827\n",
            "Iteration: 9, qi_mid: 0.000318, Objective: 0.006181\n",
            "Iteration: 10, qi_mid: 0.000318, Objective: 0.002858\n",
            "Iteration: 11, qi_mid: 0.000319, Objective: 0.001196\n",
            "Iteration: 12, qi_mid: 0.000319, Objective: 0.000365\n",
            "Iteration: 13, qi_mid: 0.000319, Objective: -0.000051\n",
            "Optimal pumping rate found.\n",
            "Number of Wells: 42, Optimal Q: 0.0006135794899680398\n",
            "Solving for nwell_x = : 15\n",
            "Spacing in X: 16.943250089085527\n",
            "Spacing in Y: 17.34645642444957\n",
            "Iteration: 0, qi_mid: 0.000284, Objective: 1.190480\n",
            "Iteration: 1, qi_mid: 0.000312, Objective: -0.493103\n",
            "Iteration: 2, qi_mid: 0.000298, Objective: 0.358710\n",
            "Iteration: 3, qi_mid: 0.000305, Objective: -0.064600\n",
            "Iteration: 4, qi_mid: 0.000302, Objective: 0.147692\n",
            "Iteration: 5, qi_mid: 0.000304, Objective: 0.041707\n",
            "Iteration: 6, qi_mid: 0.000305, Objective: -0.011407\n",
            "Iteration: 7, qi_mid: 0.000304, Objective: 0.015160\n",
            "Iteration: 8, qi_mid: 0.000304, Objective: 0.001879\n",
            "Iteration: 9, qi_mid: 0.000304, Objective: -0.004763\n",
            "Iteration: 10, qi_mid: 0.000304, Objective: -0.001442\n",
            "Iteration: 11, qi_mid: 0.000304, Objective: 0.000219\n",
            "Iteration: 12, qi_mid: 0.000304, Objective: -0.000611\n",
            "Iteration: 13, qi_mid: 0.000304, Objective: -0.000196\n",
            "Iteration: 14, qi_mid: 0.000304, Objective: 0.000011\n",
            "Optimal pumping rate found.\n",
            "Number of Wells: 44, Optimal Q: 0.0006135794899680398\n"
          ]
        }
      ]
    },
    {
      "cell_type": "code",
      "source": [
        "# Convert design_q array from meters cubed per second to gallons per minute\n",
        "design_q_gpm = [q * 15850.3 for q in design_q]\n",
        "\n",
        "# Plot results\n",
        "plt.figure(figsize=(10, 6))\n",
        "plt.plot(design_wells, design_q_gpm, marker='o', linestyle='-')\n",
        "plt.xlabel('Number of Wells (Total)')\n",
        "plt.ylabel('Optimal Q (gal/min)')\n",
        "plt.title('Optimal Q vs Number of Wells')\n",
        "plt.grid(True)\n",
        "plt.show()"
      ],
      "metadata": {
        "colab": {
          "base_uri": "https://localhost:8080/",
          "height": 564
        },
        "id": "9DW-5YrlS2qk",
        "outputId": "c20be2fb-628e-41c4-dc1a-14d8de682ceb"
      },
      "execution_count": null,
      "outputs": [
        {
          "output_type": "display_data",
          "data": {
            "text/plain": [
              "<Figure size 1000x600 with 1 Axes>"
            ],
            "image/png": "[encoded data removed]"
          },
          "metadata": {}
        }
      ]
    },
    {
      "cell_type": "code",
      "source": [],
      "metadata": {
        "id": "NhKlZA2HodBe"
      },
      "execution_count": null,
      "outputs": []
    }
  ]
}