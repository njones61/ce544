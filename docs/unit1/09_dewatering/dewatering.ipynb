{
  "nbformat": 4,
  "nbformat_minor": 0,
  "metadata": {
    "colab": {
      "provenance": [],
      "toc_visible": true,
      "authorship_tag": "ABX9TyMtyjRSvmibY0A2KgEaY42d",
      "include_colab_link": true
    },
    "kernelspec": {
      "name": "python3",
      "display_name": "Python 3"
    },
    "language_info": {
      "name": "python"
    },
    "widgets": {
      "application/vnd.jupyter.widget-state+json": {
        "4371cc04adbe400da02e16a471a7f23f": {
          "model_module": "jupyter-leaflet",
          "model_name": "LeafletMapModel",
          "model_module_version": "^0.19",
          "state": {
            "_dom_classes": [],
            "_model_module": "jupyter-leaflet",
            "_model_module_version": "^0.19",
            "_model_name": "LeafletMapModel",
            "_view_count": null,
            "_view_module": "jupyter-leaflet",
            "_view_module_version": "^0.19",
            "_view_name": "LeafletMapView",
            "bottom": 25346128,
            "bounce_at_zoom_limits": true,
            "box_zoom": true,
            "center": [
              40.24648095523502,
              -111.64461833588719
            ],
            "close_popup_on_click": true,
            "controls": [
              "IPY_MODEL_101b7ffacdbd44e28198e6c0c016c32e",
              "IPY_MODEL_fb264b7ff5a14880a34d2a9f8e73ee4d",
              "IPY_MODEL_fdcce3a65e6c42f7a4c68ea7d3619fbc"
            ],
            "crs": {
              "name": "EPSG3857",
              "custom": false
            },
            "default_style": "IPY_MODEL_dab09939688f4fb7a003bf9e59371ca2",
            "double_click_zoom": true,
            "dragging": true,
            "dragging_style": "IPY_MODEL_522d6f22fe974a5887fb2f0c912167a8",
            "east": -111.64202570915224,
            "fullscreen": false,
            "inertia": true,
            "inertia_deceleration": 3000,
            "inertia_max_speed": 1500,
            "interpolation": "bilinear",
            "keyboard": true,
            "keyboard_pan_offset": 80,
            "keyboard_zoom_offset": 1,
            "layers": [
              "IPY_MODEL_f42c22025f2846678d8d7d2340e7c2e5",
              "IPY_MODEL_476754a97d6448b2aa57b0d008e20a54",
              "IPY_MODEL_d8b076c57d994c30900c95226f917539",
              "IPY_MODEL_2ac3108543554dc7991e76e659f27fed",
              "IPY_MODEL_174cf99107b2475195e3f3f5f4789a55",
              "IPY_MODEL_e34e2758322645a8aec8f46f2f7ee27e"
            ],
            "layout": "IPY_MODEL_e7e8a85ce53f400db50e46887cab449f",
            "left": 12741883,
            "max_zoom": null,
            "min_zoom": null,
            "modisdate": "2024-11-27",
            "north": 40.24730174447913,
            "options": [
              "bounce_at_zoom_limits",
              "box_zoom",
              "center",
              "close_popup_on_click",
              "double_click_zoom",
              "dragging",
              "fullscreen",
              "inertia",
              "inertia_deceleration",
              "inertia_max_speed",
              "interpolation",
              "keyboard",
              "keyboard_pan_offset",
              "keyboard_zoom_offset",
              "max_zoom",
              "min_zoom",
              "prefer_canvas",
              "scroll_wheel_zoom",
              "tap",
              "tap_tolerance",
              "touch_zoom",
              "world_copy_jump",
              "zoom",
              "zoom_animation_threshold",
              "zoom_delta",
              "zoom_snap"
            ],
            "panes": {},
            "prefer_canvas": false,
            "right": 12742850,
            "scroll_wheel_zoom": false,
            "south": 40.24566394016618,
            "style": "IPY_MODEL_0364006a4e4942e58ba5b82840bbfce6",
            "tap": true,
            "tap_tolerance": 15,
            "top": 25345728,
            "touch_zoom": true,
            "west": -111.64721310138702,
            "window_url": "https://473kj0d7gi7-496ff2e9c6d22116-0-colab.googleusercontent.com/outputframe.html?vrz=colab_20241125-104948_RC00_700020055",
            "world_copy_jump": false,
            "zoom": 18,
            "zoom_animation_threshold": 4,
            "zoom_delta": 1,
            "zoom_snap": 1
          }
        },
        "101b7ffacdbd44e28198e6c0c016c32e": {
          "model_module": "jupyter-leaflet",
          "model_name": "LeafletZoomControlModel",
          "model_module_version": "^0.19",
          "state": {
            "_model_module": "jupyter-leaflet",
            "_model_module_version": "^0.19",
            "_model_name": "LeafletZoomControlModel",
            "_view_count": null,
            "_view_module": "jupyter-leaflet",
            "_view_module_version": "^0.19",
            "_view_name": "LeafletZoomControlView",
            "options": [
              "position",
              "zoom_in_text",
              "zoom_in_title",
              "zoom_out_text",
              "zoom_out_title"
            ],
            "position": "topleft",
            "zoom_in_text": "+",
            "zoom_in_title": "Zoom in",
            "zoom_out_text": "-",
            "zoom_out_title": "Zoom out"
          }
        },
        "fb264b7ff5a14880a34d2a9f8e73ee4d": {
          "model_module": "jupyter-leaflet",
          "model_name": "LeafletAttributionControlModel",
          "model_module_version": "^0.19",
          "state": {
            "_model_module": "jupyter-leaflet",
            "_model_module_version": "^0.19",
            "_model_name": "LeafletAttributionControlModel",
            "_view_count": null,
            "_view_module": "jupyter-leaflet",
            "_view_module_version": "^0.19",
            "_view_name": "LeafletAttributionControlView",
            "options": [
              "position",
              "prefix"
            ],
            "position": "bottomright",
            "prefix": "ipyleaflet"
          }
        },
        "fdcce3a65e6c42f7a4c68ea7d3619fbc": {
          "model_module": "jupyter-leaflet",
          "model_name": "LeafletDrawControlModel",
          "model_module_version": "^0.19",
          "state": {
            "_model_module": "jupyter-leaflet",
            "_model_module_version": "^0.19",
            "_model_name": "LeafletDrawControlModel",
            "_view_count": null,
            "_view_module": "jupyter-leaflet",
            "_view_module_version": "^0.19",
            "_view_name": "LeafletDrawControlView",
            "circle": {},
            "circlemarker": {
              "shapeOptions": {}
            },
            "data": [
              {
                "type": "Feature",
                "properties": {
                  "style": {
                    "rotationOrigin": "12px 41px",
                    "rotationAngle": 0,
                    "icon": {
                      "options": {
                        "iconUrl": "data:image/png;base64,iVBORw0KGgoAAAANSUhEUgAAABkAAAApCAYAAADAk4LOAAAFgUlEQVR4Aa1XA5BjWRTN2oW17d3YaZtr2962HUzbDNpjszW24mRt28p47v7zq/bXZtrp/lWnXr337j3nPCe85NcypgSFdugCpW5YoDAMRaIMqRi6aKq5E3YqDQO3qAwjVWrD8Ncq/RBpykd8oZUb/kaJutow8r1aP9II0WmLKLIsJyv1w/kqw9Ch2MYdB++12Onxee/QMwvf4/Dk/Lfp/i4nxTXtOoQ4pW5Aj7wpici1A9erdAN2OH64x8OSP9j3Ft3b7aWkTg/Fm91siTra0f9on5sQr9INejH6CUUUpavjFNq1B+Oadhxmnfa8RfEmN8VNAsQhPqF55xHkMzz3jSmChWU6f7/XZKNH+9+hBLOHYozuKQPxyMPUKkrX/K0uWnfFaJGS1QPRtZsOPtr3NsW0uyh6NNCOkU3Yz+bXbT3I8G3xE5EXLXtCXbbqwCO9zPQYPRTZ5vIDXD7U+w7rFDEoUUf7ibHIR4y6bLVPXrz8JVZEql13trxwue/uDivd3fkWRbS6/IA2bID4uk0UpF1N8qLlbBlXs4Ee7HLTfV1j54APvODnSfOWBqtKVvjgLKzF5YdEk5ewRkGlK0i33Eofffc7HT56jD7/6U+qH3Cx7SBLNntH5YIPvODnyfIXZYRVDPqgHtLs5ABHD3YzLuespb7t79FY34DjMwrVrcTuwlT55YMPvOBnRrJ4VXTdNnYug5ucHLBjEpt30701A3Ts+HEa73u6dT3FNWwflY86eMHPk+Yu+i6pzUpRrW7SNDg5JHR4KapmM5Wv2E8Tfcb1HoqqHMHU+uWDD7zg54mz5/2BSnizi9T1Dg4QQXLToGNCkb6tb1NU+QAlGr1++eADrzhn/u8Q2YZhQVlZ5+CAOtqfbhmaUCS1ezNFVm2imDbPmPng5wmz+gwh+oHDce0eUtQ6OGDIyR0uUhUsoO3vfDmmgOezH0mZN59x7MBi++WDL1g/eEiU3avlidO671bkLfwbw5XV2P8Pzo0ydy4t2/0eu33xYSOMOD8hTf4CrBtGMSoXfPLchX+J0ruSePw3LZeK0juPJbYzrhkH0io7B3k164hiGvawhOKMLkrQLyVpZg8rHFW7E2uHOL888IBPlNZ1FPzstSJM694fWr6RwpvcJK60+0HCILTBzZLFNdtAzJaohze60T8qBzyh5ZuOg5e7uwQppofEmf2++DYvmySqGBuKaicF1blQjhuHdvCIMvp8whTTfZzI7RldpwtSzL+F1+wkdZ2TBOW2gIF88PBTzD/gpeREAMEbxnJcaJHNHrpzji0gQCS6hdkEeYt9DF/2qPcEC8RM28Hwmr3sdNyht00byAut2k3gufWNtgtOEOFGUwcXWNDbdNbpgBGxEvKkOQsxivJx33iow0Vw5S6SVTrpVq11ysA2Rp7gTfPfktc6zhtXBBC+adRLshf6sG2RfHPZ5EAc4sVZ83yCN00Fk/4kggu40ZTvIEm5g24qtU4KjBrx/BTTH8ifVASAG7gKrnWxJDcU7x8X6Ecczhm3o6YicvsLXWfh3Ch1W0k8x0nXF+0fFxgt4phz8QvypiwCCFKMqXCnqXExjq10beH+UUA7+nG6mdG/Pu0f3LgFcGrl2s0kNNjpmoJ9o4B29CMO8dMT4Q5ox8uitF6fqsrJOr8qnwNbRzv6hSnG5wP+64C7h9lp30hKNtKdWjtdkbuPA19nJ7Tz3zR/ibgARbhb4AlhavcBebmTHcFl2fvYEnW0ox9xMxKBS8btJ+KiEbq9zA4RthQXDhPa0T9TEe69gWupwc6uBUphquXgf+/FrIjweHQS4/pduMe5ERUMHUd9xv8ZR98CxkS4F2n3EUrUZ10EYNw7BWm9x1GiPssi3GgiGRDKWRYZfXlON+dfNbM+GgIwYdwAAAAASUVORK5CYII=",
                        "iconRetinaUrl": "data:image/png;base64,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",
                        "iconSize": [
                          25,
                          41
                        ],
                        "iconAnchor": [
                          12,
                          41
                        ],
                        "shadowUrl": "data:image/png;base64,iVBORw0KGgoAAAANSUhEUgAAACkAAAApCAQAAAACach9AAACMUlEQVR4Ae3ShY7jQBAE0Aoz/f9/HTMzhg1zrdKUrJbdx+Kd2nD8VNudfsL/Th///dyQN2TH6f3y/BGpC379rV+S+qqetBOxImNQXL8JCAr2V4iMQXHGNJxeCfZXhSRBcQMfvkOWUdtfzlLgAENmZDcmo2TVmt8OSM2eXxBp3DjHSMFutqS7SbmemzBiR+xpKCNUIRkdkkYxhAkyGoBvyQFEJEefwSmmvBfJuJ6aKqKWnAkvGZOaZXTUgFqYULWNSHUckZuR1HIIimUExutRxwzOLROIG4vKmCKQt364mIlhSyzAf1m9lHZHJZrlAOMMztRRiKimp/rpdJDc9Awry5xTZCte7FHtuS8wJgeYGrex28xNTd086Dik7vUMscQOa8y4DoGtCCSkAKlNwpgNtphjrC6MIHUkR6YWxxs6Sc5xqn222mmCRFzIt8lEdKx+ikCtg91qS2WpwVfBelJCiQJwvzixfI9cxZQWgiSJelKnwBElKYtDOb2MFbhmUigbReQBV0Cg4+qMXSxXSyGUn4UbF8l+7qdSGnTC0XLCmahIgUHLhLOhpVCtw4CzYXvLQWQbJNmxoCsOKAxSgBJno75avolkRw8iIAFcsdc02e9iyCd8tHwmeSSoKTowIgvscSGZUOA7PuCN5b2BX9mQM7S0wYhMNU74zgsPBj3HU7wguAfnxxjFQGBE6pwN+GjME9zHY7zGp8wVxMShYX9NXvEWD3HbwJf4giO4CFIQxXScH1/TM+04kkBiAAAAAElFTkSuQmCC",
                        "shadowSize": [
                          41,
                          41
                        ],
                        "shadowAnchor": [
                          12,
                          41
                        ],
                        "popupAnchor": [
                          1,
                          -34
                        ],
                        "tooltipAnchor": [
                          16,
                          -28
                        ]
                      },
                      "_initHooksCalled": true,
                      "_needsInit": false
                    },
                    "interactive": true,
                    "keyboard": true,
                    "title": "",
                    "alt": "Marker",
                    "zIndexOffset": 0,
                    "opacity": 1,
                    "riseOnHover": false,
                    "riseOffset": 250,
                    "pane": "markerPane",
                    "shadowPane": "shadowPane",
                    "bubblingMouseEvents": false,
                    "autoPanOnFocus": true,
                    "draggable": false,
                    "autoPan": false,
                    "autoPanPadding": [
                      50,
                      50
                    ],
                    "autoPanSpeed": 10,
                    "attribution": null
                  }
                },
                "geometry": {
                  "type": "Point",
                  "coordinates": [
                    -111.645443,
                    40.246868
                  ]
                }
              },
              {
                "type": "Feature",
                "properties": {
                  "style": {
                    "rotationOrigin": "12px 41px",
                    "rotationAngle": 0,
                    "icon": {
                      "options": {
                        "iconUrl": "data:image/png;base64,iVBORw0KGgoAAAANSUhEUgAAABkAAAApCAYAAADAk4LOAAAFgUlEQVR4Aa1XA5BjWRTN2oW17d3YaZtr2962HUzbDNpjszW24mRt28p47v7zq/bXZtrp/lWnXr337j3nPCe85NcypgSFdugCpW5YoDAMRaIMqRi6aKq5E3YqDQO3qAwjVWrD8Ncq/RBpykd8oZUb/kaJutow8r1aP9II0WmLKLIsJyv1w/kqw9Ch2MYdB++12Onxee/QMwvf4/Dk/Lfp/i4nxTXtOoQ4pW5Aj7wpici1A9erdAN2OH64x8OSP9j3Ft3b7aWkTg/Fm91siTra0f9on5sQr9INejH6CUUUpavjFNq1B+Oadhxmnfa8RfEmN8VNAsQhPqF55xHkMzz3jSmChWU6f7/XZKNH+9+hBLOHYozuKQPxyMPUKkrX/K0uWnfFaJGS1QPRtZsOPtr3NsW0uyh6NNCOkU3Yz+bXbT3I8G3xE5EXLXtCXbbqwCO9zPQYPRTZ5vIDXD7U+w7rFDEoUUf7ibHIR4y6bLVPXrz8JVZEql13trxwue/uDivd3fkWRbS6/IA2bID4uk0UpF1N8qLlbBlXs4Ee7HLTfV1j54APvODnSfOWBqtKVvjgLKzF5YdEk5ewRkGlK0i33Eofffc7HT56jD7/6U+qH3Cx7SBLNntH5YIPvODnyfIXZYRVDPqgHtLs5ABHD3YzLuespb7t79FY34DjMwrVrcTuwlT55YMPvOBnRrJ4VXTdNnYug5ucHLBjEpt30701A3Ts+HEa73u6dT3FNWwflY86eMHPk+Yu+i6pzUpRrW7SNDg5JHR4KapmM5Wv2E8Tfcb1HoqqHMHU+uWDD7zg54mz5/2BSnizi9T1Dg4QQXLToGNCkb6tb1NU+QAlGr1++eADrzhn/u8Q2YZhQVlZ5+CAOtqfbhmaUCS1ezNFVm2imDbPmPng5wmz+gwh+oHDce0eUtQ6OGDIyR0uUhUsoO3vfDmmgOezH0mZN59x7MBi++WDL1g/eEiU3avlidO671bkLfwbw5XV2P8Pzo0ydy4t2/0eu33xYSOMOD8hTf4CrBtGMSoXfPLchX+J0ruSePw3LZeK0juPJbYzrhkH0io7B3k164hiGvawhOKMLkrQLyVpZg8rHFW7E2uHOL888IBPlNZ1FPzstSJM694fWr6RwpvcJK60+0HCILTBzZLFNdtAzJaohze60T8qBzyh5ZuOg5e7uwQppofEmf2++DYvmySqGBuKaicF1blQjhuHdvCIMvp8whTTfZzI7RldpwtSzL+F1+wkdZ2TBOW2gIF88PBTzD/gpeREAMEbxnJcaJHNHrpzji0gQCS6hdkEeYt9DF/2qPcEC8RM28Hwmr3sdNyht00byAut2k3gufWNtgtOEOFGUwcXWNDbdNbpgBGxEvKkOQsxivJx33iow0Vw5S6SVTrpVq11ysA2Rp7gTfPfktc6zhtXBBC+adRLshf6sG2RfHPZ5EAc4sVZ83yCN00Fk/4kggu40ZTvIEm5g24qtU4KjBrx/BTTH8ifVASAG7gKrnWxJDcU7x8X6Ecczhm3o6YicvsLXWfh3Ch1W0k8x0nXF+0fFxgt4phz8QvypiwCCFKMqXCnqXExjq10beH+UUA7+nG6mdG/Pu0f3LgFcGrl2s0kNNjpmoJ9o4B29CMO8dMT4Q5ox8uitF6fqsrJOr8qnwNbRzv6hSnG5wP+64C7h9lp30hKNtKdWjtdkbuPA19nJ7Tz3zR/ibgARbhb4AlhavcBebmTHcFl2fvYEnW0ox9xMxKBS8btJ+KiEbq9zA4RthQXDhPa0T9TEe69gWupwc6uBUphquXgf+/FrIjweHQS4/pduMe5ERUMHUd9xv8ZR98CxkS4F2n3EUrUZ10EYNw7BWm9x1GiPssi3GgiGRDKWRYZfXlON+dfNbM+GgIwYdwAAAAASUVORK5CYII=",
                        "iconRetinaUrl": "data:image/png;base64,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",
                        "iconSize": [
                          25,
                          41
                        ],
                        "iconAnchor": [
                          12,
                          41
                        ],
                        "shadowUrl": "data:image/png;base64,iVBORw0KGgoAAAANSUhEUgAAACkAAAApCAQAAAACach9AAACMUlEQVR4Ae3ShY7jQBAE0Aoz/f9/HTMzhg1zrdKUrJbdx+Kd2nD8VNudfsL/Th///dyQN2TH6f3y/BGpC379rV+S+qqetBOxImNQXL8JCAr2V4iMQXHGNJxeCfZXhSRBcQMfvkOWUdtfzlLgAENmZDcmo2TVmt8OSM2eXxBp3DjHSMFutqS7SbmemzBiR+xpKCNUIRkdkkYxhAkyGoBvyQFEJEefwSmmvBfJuJ6aKqKWnAkvGZOaZXTUgFqYULWNSHUckZuR1HIIimUExutRxwzOLROIG4vKmCKQt364mIlhSyzAf1m9lHZHJZrlAOMMztRRiKimp/rpdJDc9Awry5xTZCte7FHtuS8wJgeYGrex28xNTd086Dik7vUMscQOa8y4DoGtCCSkAKlNwpgNtphjrC6MIHUkR6YWxxs6Sc5xqn222mmCRFzIt8lEdKx+ikCtg91qS2WpwVfBelJCiQJwvzixfI9cxZQWgiSJelKnwBElKYtDOb2MFbhmUigbReQBV0Cg4+qMXSxXSyGUn4UbF8l+7qdSGnTC0XLCmahIgUHLhLOhpVCtw4CzYXvLQWQbJNmxoCsOKAxSgBJno75avolkRw8iIAFcsdc02e9iyCd8tHwmeSSoKTowIgvscSGZUOA7PuCN5b2BX9mQM7S0wYhMNU74zgsPBj3HU7wguAfnxxjFQGBE6pwN+GjME9zHY7zGp8wVxMShYX9NXvEWD3HbwJf4giO4CFIQxXScH1/TM+04kkBiAAAAAElFTkSuQmCC",
                        "shadowSize": [
                          41,
                          41
                        ],
                        "shadowAnchor": [
                          12,
                          41
                        ],
                        "popupAnchor": [
                          1,
                          -34
                        ],
                        "tooltipAnchor": [
                          16,
                          -28
                        ]
                      },
                      "_initHooksCalled": true,
                      "_needsInit": false
                    },
                    "interactive": true,
                    "keyboard": true,
                    "title": "",
                    "alt": "Marker",
                    "zIndexOffset": 0,
                    "opacity": 1,
                    "riseOnHover": false,
                    "riseOffset": 250,
                    "pane": "markerPane",
                    "shadowPane": "shadowPane",
                    "bubblingMouseEvents": false,
                    "autoPanOnFocus": true,
                    "draggable": false,
                    "autoPan": false,
                    "autoPanPadding": [
                      50,
                      50
                    ],
                    "autoPanSpeed": 10,
                    "attribution": null
                  }
                },
                "geometry": {
                  "type": "Point",
                  "coordinates": [
                    -111.643807,
                    40.246892
                  ]
                }
              },
              {
                "type": "Feature",
                "properties": {
                  "style": {
                    "rotationOrigin": "12px 41px",
                    "rotationAngle": 0,
                    "icon": {
                      "options": {
                        "iconUrl": "data:image/png;base64,iVBORw0KGgoAAAANSUhEUgAAABkAAAApCAYAAADAk4LOAAAFgUlEQVR4Aa1XA5BjWRTN2oW17d3YaZtr2962HUzbDNpjszW24mRt28p47v7zq/bXZtrp/lWnXr337j3nPCe85NcypgSFdugCpW5YoDAMRaIMqRi6aKq5E3YqDQO3qAwjVWrD8Ncq/RBpykd8oZUb/kaJutow8r1aP9II0WmLKLIsJyv1w/kqw9Ch2MYdB++12Onxee/QMwvf4/Dk/Lfp/i4nxTXtOoQ4pW5Aj7wpici1A9erdAN2OH64x8OSP9j3Ft3b7aWkTg/Fm91siTra0f9on5sQr9INejH6CUUUpavjFNq1B+Oadhxmnfa8RfEmN8VNAsQhPqF55xHkMzz3jSmChWU6f7/XZKNH+9+hBLOHYozuKQPxyMPUKkrX/K0uWnfFaJGS1QPRtZsOPtr3NsW0uyh6NNCOkU3Yz+bXbT3I8G3xE5EXLXtCXbbqwCO9zPQYPRTZ5vIDXD7U+w7rFDEoUUf7ibHIR4y6bLVPXrz8JVZEql13trxwue/uDivd3fkWRbS6/IA2bID4uk0UpF1N8qLlbBlXs4Ee7HLTfV1j54APvODnSfOWBqtKVvjgLKzF5YdEk5ewRkGlK0i33Eofffc7HT56jD7/6U+qH3Cx7SBLNntH5YIPvODnyfIXZYRVDPqgHtLs5ABHD3YzLuespb7t79FY34DjMwrVrcTuwlT55YMPvOBnRrJ4VXTdNnYug5ucHLBjEpt30701A3Ts+HEa73u6dT3FNWwflY86eMHPk+Yu+i6pzUpRrW7SNDg5JHR4KapmM5Wv2E8Tfcb1HoqqHMHU+uWDD7zg54mz5/2BSnizi9T1Dg4QQXLToGNCkb6tb1NU+QAlGr1++eADrzhn/u8Q2YZhQVlZ5+CAOtqfbhmaUCS1ezNFVm2imDbPmPng5wmz+gwh+oHDce0eUtQ6OGDIyR0uUhUsoO3vfDmmgOezH0mZN59x7MBi++WDL1g/eEiU3avlidO671bkLfwbw5XV2P8Pzo0ydy4t2/0eu33xYSOMOD8hTf4CrBtGMSoXfPLchX+J0ruSePw3LZeK0juPJbYzrhkH0io7B3k164hiGvawhOKMLkrQLyVpZg8rHFW7E2uHOL888IBPlNZ1FPzstSJM694fWr6RwpvcJK60+0HCILTBzZLFNdtAzJaohze60T8qBzyh5ZuOg5e7uwQppofEmf2++DYvmySqGBuKaicF1blQjhuHdvCIMvp8whTTfZzI7RldpwtSzL+F1+wkdZ2TBOW2gIF88PBTzD/gpeREAMEbxnJcaJHNHrpzji0gQCS6hdkEeYt9DF/2qPcEC8RM28Hwmr3sdNyht00byAut2k3gufWNtgtOEOFGUwcXWNDbdNbpgBGxEvKkOQsxivJx33iow0Vw5S6SVTrpVq11ysA2Rp7gTfPfktc6zhtXBBC+adRLshf6sG2RfHPZ5EAc4sVZ83yCN00Fk/4kggu40ZTvIEm5g24qtU4KjBrx/BTTH8ifVASAG7gKrnWxJDcU7x8X6Ecczhm3o6YicvsLXWfh3Ch1W0k8x0nXF+0fFxgt4phz8QvypiwCCFKMqXCnqXExjq10beH+UUA7+nG6mdG/Pu0f3LgFcGrl2s0kNNjpmoJ9o4B29CMO8dMT4Q5ox8uitF6fqsrJOr8qnwNbRzv6hSnG5wP+64C7h9lp30hKNtKdWjtdkbuPA19nJ7Tz3zR/ibgARbhb4AlhavcBebmTHcFl2fvYEnW0ox9xMxKBS8btJ+KiEbq9zA4RthQXDhPa0T9TEe69gWupwc6uBUphquXgf+/FrIjweHQS4/pduMe5ERUMHUd9xv8ZR98CxkS4F2n3EUrUZ10EYNw7BWm9x1GiPssi3GgiGRDKWRYZfXlON+dfNbM+GgIwYdwAAAAASUVORK5CYII=",
                        "iconRetinaUrl": "data:image/png;base64,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",
                        "iconSize": [
                          25,
                          41
                        ],
                        "iconAnchor": [
                          12,
                          41
                        ],
                        "shadowUrl": "data:image/png;base64,iVBORw0KGgoAAAANSUhEUgAAACkAAAApCAQAAAACach9AAACMUlEQVR4Ae3ShY7jQBAE0Aoz/f9/HTMzhg1zrdKUrJbdx+Kd2nD8VNudfsL/Th///dyQN2TH6f3y/BGpC379rV+S+qqetBOxImNQXL8JCAr2V4iMQXHGNJxeCfZXhSRBcQMfvkOWUdtfzlLgAENmZDcmo2TVmt8OSM2eXxBp3DjHSMFutqS7SbmemzBiR+xpKCNUIRkdkkYxhAkyGoBvyQFEJEefwSmmvBfJuJ6aKqKWnAkvGZOaZXTUgFqYULWNSHUckZuR1HIIimUExutRxwzOLROIG4vKmCKQt364mIlhSyzAf1m9lHZHJZrlAOMMztRRiKimp/rpdJDc9Awry5xTZCte7FHtuS8wJgeYGrex28xNTd086Dik7vUMscQOa8y4DoGtCCSkAKlNwpgNtphjrC6MIHUkR6YWxxs6Sc5xqn222mmCRFzIt8lEdKx+ikCtg91qS2WpwVfBelJCiQJwvzixfI9cxZQWgiSJelKnwBElKYtDOb2MFbhmUigbReQBV0Cg4+qMXSxXSyGUn4UbF8l+7qdSGnTC0XLCmahIgUHLhLOhpVCtw4CzYXvLQWQbJNmxoCsOKAxSgBJno75avolkRw8iIAFcsdc02e9iyCd8tHwmeSSoKTowIgvscSGZUOA7PuCN5b2BX9mQM7S0wYhMNU74zgsPBj3HU7wguAfnxxjFQGBE6pwN+GjME9zHY7zGp8wVxMShYX9NXvEWD3HbwJf4giO4CFIQxXScH1/TM+04kkBiAAAAAElFTkSuQmCC",
                        "shadowSize": [
                          41,
                          41
                        ],
                        "shadowAnchor": [
                          12,
                          41
                        ],
                        "popupAnchor": [
                          1,
                          -34
                        ],
                        "tooltipAnchor": [
                          16,
                          -28
                        ]
                      },
                      "_initHooksCalled": true,
                      "_needsInit": false
                    },
                    "interactive": true,
                    "keyboard": true,
                    "title": "",
                    "alt": "Marker",
                    "zIndexOffset": 0,
                    "opacity": 1,
                    "riseOnHover": false,
                    "riseOffset": 250,
                    "pane": "markerPane",
                    "shadowPane": "shadowPane",
                    "bubblingMouseEvents": false,
                    "autoPanOnFocus": true,
                    "draggable": false,
                    "autoPan": false,
                    "autoPanPadding": [
                      50,
                      50
                    ],
                    "autoPanSpeed": 10,
                    "attribution": null
                  }
                },
                "geometry": {
                  "type": "Point",
                  "coordinates": [
                    -111.645454,
                    40.245967
                  ]
                }
              },
              {
                "type": "Feature",
                "properties": {
                  "style": {
                    "icon": {
                      "options": {
                        "iconUrl": "data:image/png;base64,iVBORw0KGgoAAAANSUhEUgAAABkAAAApCAYAAADAk4LOAAAFgUlEQVR4Aa1XA5BjWRTN2oW17d3YaZtr2962HUzbDNpjszW24mRt28p47v7zq/bXZtrp/lWnXr337j3nPCe85NcypgSFdugCpW5YoDAMRaIMqRi6aKq5E3YqDQO3qAwjVWrD8Ncq/RBpykd8oZUb/kaJutow8r1aP9II0WmLKLIsJyv1w/kqw9Ch2MYdB++12Onxee/QMwvf4/Dk/Lfp/i4nxTXtOoQ4pW5Aj7wpici1A9erdAN2OH64x8OSP9j3Ft3b7aWkTg/Fm91siTra0f9on5sQr9INejH6CUUUpavjFNq1B+Oadhxmnfa8RfEmN8VNAsQhPqF55xHkMzz3jSmChWU6f7/XZKNH+9+hBLOHYozuKQPxyMPUKkrX/K0uWnfFaJGS1QPRtZsOPtr3NsW0uyh6NNCOkU3Yz+bXbT3I8G3xE5EXLXtCXbbqwCO9zPQYPRTZ5vIDXD7U+w7rFDEoUUf7ibHIR4y6bLVPXrz8JVZEql13trxwue/uDivd3fkWRbS6/IA2bID4uk0UpF1N8qLlbBlXs4Ee7HLTfV1j54APvODnSfOWBqtKVvjgLKzF5YdEk5ewRkGlK0i33Eofffc7HT56jD7/6U+qH3Cx7SBLNntH5YIPvODnyfIXZYRVDPqgHtLs5ABHD3YzLuespb7t79FY34DjMwrVrcTuwlT55YMPvOBnRrJ4VXTdNnYug5ucHLBjEpt30701A3Ts+HEa73u6dT3FNWwflY86eMHPk+Yu+i6pzUpRrW7SNDg5JHR4KapmM5Wv2E8Tfcb1HoqqHMHU+uWDD7zg54mz5/2BSnizi9T1Dg4QQXLToGNCkb6tb1NU+QAlGr1++eADrzhn/u8Q2YZhQVlZ5+CAOtqfbhmaUCS1ezNFVm2imDbPmPng5wmz+gwh+oHDce0eUtQ6OGDIyR0uUhUsoO3vfDmmgOezH0mZN59x7MBi++WDL1g/eEiU3avlidO671bkLfwbw5XV2P8Pzo0ydy4t2/0eu33xYSOMOD8hTf4CrBtGMSoXfPLchX+J0ruSePw3LZeK0juPJbYzrhkH0io7B3k164hiGvawhOKMLkrQLyVpZg8rHFW7E2uHOL888IBPlNZ1FPzstSJM694fWr6RwpvcJK60+0HCILTBzZLFNdtAzJaohze60T8qBzyh5ZuOg5e7uwQppofEmf2++DYvmySqGBuKaicF1blQjhuHdvCIMvp8whTTfZzI7RldpwtSzL+F1+wkdZ2TBOW2gIF88PBTzD/gpeREAMEbxnJcaJHNHrpzji0gQCS6hdkEeYt9DF/2qPcEC8RM28Hwmr3sdNyht00byAut2k3gufWNtgtOEOFGUwcXWNDbdNbpgBGxEvKkOQsxivJx33iow0Vw5S6SVTrpVq11ysA2Rp7gTfPfktc6zhtXBBC+adRLshf6sG2RfHPZ5EAc4sVZ83yCN00Fk/4kggu40ZTvIEm5g24qtU4KjBrx/BTTH8ifVASAG7gKrnWxJDcU7x8X6Ecczhm3o6YicvsLXWfh3Ch1W0k8x0nXF+0fFxgt4phz8QvypiwCCFKMqXCnqXExjq10beH+UUA7+nG6mdG/Pu0f3LgFcGrl2s0kNNjpmoJ9o4B29CMO8dMT4Q5ox8uitF6fqsrJOr8qnwNbRzv6hSnG5wP+64C7h9lp30hKNtKdWjtdkbuPA19nJ7Tz3zR/ibgARbhb4AlhavcBebmTHcFl2fvYEnW0ox9xMxKBS8btJ+KiEbq9zA4RthQXDhPa0T9TEe69gWupwc6uBUphquXgf+/FrIjweHQS4/pduMe5ERUMHUd9xv8ZR98CxkS4F2n3EUrUZ10EYNw7BWm9x1GiPssi3GgiGRDKWRYZfXlON+dfNbM+GgIwYdwAAAAASUVORK5CYII=",
                        "iconRetinaUrl": "data:image/png;base64,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",
                        "iconSize": [
                          25,
                          41
                        ],
                        "iconAnchor": [
                          12,
                          41
                        ],
                        "shadowUrl": "data:image/png;base64,iVBORw0KGgoAAAANSUhEUgAAACkAAAApCAQAAAACach9AAACMUlEQVR4Ae3ShY7jQBAE0Aoz/f9/HTMzhg1zrdKUrJbdx+Kd2nD8VNudfsL/Th///dyQN2TH6f3y/BGpC379rV+S+qqetBOxImNQXL8JCAr2V4iMQXHGNJxeCfZXhSRBcQMfvkOWUdtfzlLgAENmZDcmo2TVmt8OSM2eXxBp3DjHSMFutqS7SbmemzBiR+xpKCNUIRkdkkYxhAkyGoBvyQFEJEefwSmmvBfJuJ6aKqKWnAkvGZOaZXTUgFqYULWNSHUckZuR1HIIimUExutRxwzOLROIG4vKmCKQt364mIlhSyzAf1m9lHZHJZrlAOMMztRRiKimp/rpdJDc9Awry5xTZCte7FHtuS8wJgeYGrex28xNTd086Dik7vUMscQOa8y4DoGtCCSkAKlNwpgNtphjrC6MIHUkR6YWxxs6Sc5xqn222mmCRFzIt8lEdKx+ikCtg91qS2WpwVfBelJCiQJwvzixfI9cxZQWgiSJelKnwBElKYtDOb2MFbhmUigbReQBV0Cg4+qMXSxXSyGUn4UbF8l+7qdSGnTC0XLCmahIgUHLhLOhpVCtw4CzYXvLQWQbJNmxoCsOKAxSgBJno75avolkRw8iIAFcsdc02e9iyCd8tHwmeSSoKTowIgvscSGZUOA7PuCN5b2BX9mQM7S0wYhMNU74zgsPBj3HU7wguAfnxxjFQGBE6pwN+GjME9zHY7zGp8wVxMShYX9NXvEWD3HbwJf4giO4CFIQxXScH1/TM+04kkBiAAAAAElFTkSuQmCC",
                        "shadowSize": [
                          41,
                          41
                        ],
                        "shadowAnchor": [
                          12,
                          41
                        ],
                        "popupAnchor": [
                          1,
                          -34
                        ],
                        "tooltipAnchor": [
                          16,
                          -28
                        ]
                      },
                      "_initHooksCalled": true,
                      "_needsInit": false
                    },
                    "rotationOrigin": "12px 41px",
                    "rotationAngle": 0
                  }
                },
                "geometry": {
                  "type": "Point",
                  "coordinates": [
                    -111.643796,
                    40.245987
                  ]
                }
              }
            ],
            "edit": true,
            "marker": {
              "shapeOptions": {
                "color": "#0000FF"
              }
            },
            "options": [
              "position"
            ],
            "polygon": {
              "shapeOptions": {}
            },
            "polyline": {
              "shapeOptions": {}
            },
            "position": "topleft",
            "rectangle": {},
            "remove": true
          }
        },
        "dab09939688f4fb7a003bf9e59371ca2": {
          "model_module": "jupyter-leaflet",
          "model_name": "LeafletMapStyleModel",
          "model_module_version": "^0.19",
          "state": {
            "_model_module": "jupyter-leaflet",
            "_model_module_version": "^0.19",
            "_model_name": "LeafletMapStyleModel",
            "_view_count": null,
            "_view_module": "@jupyter-widgets/base",
            "_view_module_version": "1.2.0",
            "_view_name": "StyleView",
            "cursor": "grab"
          }
        },
        "522d6f22fe974a5887fb2f0c912167a8": {
          "model_module": "jupyter-leaflet",
          "model_name": "LeafletMapStyleModel",
          "model_module_version": "^0.19",
          "state": {
            "_model_module": "jupyter-leaflet",
            "_model_module_version": "^0.19",
            "_model_name": "LeafletMapStyleModel",
            "_view_count": null,
            "_view_module": "@jupyter-widgets/base",
            "_view_module_version": "1.2.0",
            "_view_name": "StyleView",
            "cursor": "move"
          }
        },
        "f42c22025f2846678d8d7d2340e7c2e5": {
          "model_module": "jupyter-leaflet",
          "model_name": "LeafletTileLayerModel",
          "model_module_version": "^0.19",
          "state": {
            "_model_module": "jupyter-leaflet",
            "_model_module_version": "^0.19",
            "_model_name": "LeafletTileLayerModel",
            "_view_count": null,
            "_view_module": "jupyter-leaflet",
            "_view_module_version": "^0.19",
            "_view_name": "LeafletTileLayerView",
            "attribution": "&copy; <a href=\"https://www.openstreetmap.org/copyright\">OpenStreetMap</a> contributors",
            "base": true,
            "bottom": true,
            "bounds": null,
            "detect_retina": false,
            "loading": false,
            "max_native_zoom": null,
            "max_zoom": 19,
            "min_native_zoom": null,
            "min_zoom": 1,
            "name": "OpenStreetMap.Mapnik",
            "no_wrap": false,
            "opacity": 1,
            "options": [
              "attribution",
              "bounds",
              "detect_retina",
              "max_native_zoom",
              "max_zoom",
              "min_native_zoom",
              "min_zoom",
              "no_wrap",
              "tile_size",
              "tms",
              "zoom_offset"
            ],
            "pane": "",
            "popup": null,
            "popup_max_height": null,
            "popup_max_width": 300,
            "popup_min_width": 50,
            "show_loading": false,
            "subitems": [],
            "tile_size": 256,
            "tms": false,
            "url": "https://tile.openstreetmap.org/{z}/{x}/{y}.png",
            "visible": true,
            "zoom_offset": 0
          }
        },
        "476754a97d6448b2aa57b0d008e20a54": {
          "model_module": "jupyter-leaflet",
          "model_name": "LeafletGeoJSONModel",
          "model_module_version": "^0.19",
          "state": {
            "_model_module": "jupyter-leaflet",
            "_model_module_version": "^0.19",
            "_model_name": "LeafletGeoJSONModel",
            "_view_count": null,
            "_view_module": "jupyter-leaflet",
            "_view_module_version": "^0.19",
            "_view_name": "LeafletGeoJSONView",
            "base": false,
            "bottom": false,
            "data": {
              "type": "FeatureCollection",
              "features": [
                {
                  "id": "0",
                  "type": "Feature",
                  "properties": {
                    "style": {
                      "color": "blue",
                      "fillColor": "gray",
                      "fillOpacity": 0.2,
                      "weight": 2
                    }
                  },
                  "geometry": {
                    "type": "Polygon",
                    "coordinates": [
                      [
                        [
                          -111.64554864779842,
                          40.246851678806706
                        ],
                        [
                          -111.6455446101439,
                          40.24610895796758
                        ],
                        [
                          -111.64368728911117,
                          40.24610895796758
                        ],
                        [
                          -111.6436953644202,
                          40.246854760619016
                        ],
                        [
                          -111.64554864779842,
                          40.246851678806706
                        ]
                      ]
                    ]
                  },
                  "bbox": [
                    -111.64554864779842,
                    40.24610895796758,
                    -111.64368728911117,
                    40.246854760619016
                  ]
                }
              ],
              "bbox": [
                -111.64554864779842,
                40.24610895796758,
                -111.64368728911117,
                40.246854760619016
              ]
            },
            "hover_style": {},
            "layers": [],
            "name": "",
            "options": [],
            "pane": "",
            "point_style": {},
            "popup": null,
            "popup_max_height": null,
            "popup_max_width": 300,
            "popup_min_width": 50,
            "style": {
              "color": "blue",
              "fillColor": "gray",
              "fillOpacity": 0.2,
              "weight": 2
            },
            "subitems": [],
            "visible": true
          }
        },
        "e7e8a85ce53f400db50e46887cab449f": {
          "model_module": "@jupyter-widgets/base",
          "model_name": "LayoutModel",
          "model_module_version": "1.2.0",
          "state": {
            "_model_module": "@jupyter-widgets/base",
            "_model_module_version": "1.2.0",
            "_model_name": "LayoutModel",
            "_view_count": null,
            "_view_module": "@jupyter-widgets/base",
            "_view_module_version": "1.2.0",
            "_view_name": "LayoutView",
            "align_content": null,
            "align_items": null,
            "align_self": null,
            "border": null,
            "bottom": null,
            "display": null,
            "flex": null,
            "flex_flow": null,
            "grid_area": null,
            "grid_auto_columns": null,
            "grid_auto_flow": null,
            "grid_auto_rows": null,
            "grid_column": null,
            "grid_gap": null,
            "grid_row": null,
            "grid_template_areas": null,
            "grid_template_columns": null,
            "grid_template_rows": null,
            "height": null,
            "justify_content": null,
            "justify_items": null,
            "left": null,
            "margin": null,
            "max_height": null,
            "max_width": null,
            "min_height": null,
            "min_width": null,
            "object_fit": null,
            "object_position": null,
            "order": null,
            "overflow": null,
            "overflow_x": null,
            "overflow_y": null,
            "padding": null,
            "right": null,
            "top": null,
            "visibility": null,
            "width": null
          }
        },
        "0364006a4e4942e58ba5b82840bbfce6": {
          "model_module": "jupyter-leaflet",
          "model_name": "LeafletMapStyleModel",
          "model_module_version": "^0.19",
          "state": {
            "_model_module": "jupyter-leaflet",
            "_model_module_version": "^0.19",
            "_model_name": "LeafletMapStyleModel",
            "_view_count": null,
            "_view_module": "@jupyter-widgets/base",
            "_view_module_version": "1.2.0",
            "_view_name": "StyleView",
            "cursor": "grab"
          }
        },
        "d8b076c57d994c30900c95226f917539": {
          "model_module": "jupyter-leaflet",
          "model_name": "LeafletMarkerModel",
          "model_module_version": "^0.19",
          "state": {
            "_model_module": "jupyter-leaflet",
            "_model_module_version": "^0.19",
            "_model_name": "LeafletMarkerModel",
            "_view_count": null,
            "_view_module": "jupyter-leaflet",
            "_view_module_version": "^0.19",
            "_view_name": "LeafletMarkerView",
            "alt": "",
            "base": false,
            "bottom": false,
            "draggable": false,
            "icon": null,
            "keyboard": true,
            "location": [
              40.246868,
              -111.645443
            ],
            "name": "",
            "opacity": 1,
            "options": [
              "alt",
              "draggable",
              "keyboard",
              "rise_offset",
              "rise_on_hover",
              "rotation_angle",
              "rotation_origin",
              "title",
              "z_index_offset"
            ],
            "pane": "",
            "popup": null,
            "popup_max_height": null,
            "popup_max_width": 300,
            "popup_min_width": 50,
            "rise_offset": 250,
            "rise_on_hover": false,
            "rotation_angle": 0,
            "rotation_origin": "",
            "subitems": [],
            "title": "",
            "visible": true,
            "z_index_offset": 0
          }
        },
        "2ac3108543554dc7991e76e659f27fed": {
          "model_module": "jupyter-leaflet",
          "model_name": "LeafletMarkerModel",
          "model_module_version": "^0.19",
          "state": {
            "_model_module": "jupyter-leaflet",
            "_model_module_version": "^0.19",
            "_model_name": "LeafletMarkerModel",
            "_view_count": null,
            "_view_module": "jupyter-leaflet",
            "_view_module_version": "^0.19",
            "_view_name": "LeafletMarkerView",
            "alt": "",
            "base": false,
            "bottom": false,
            "draggable": false,
            "icon": null,
            "keyboard": true,
            "location": [
              40.246892,
              -111.643807
            ],
            "name": "",
            "opacity": 1,
            "options": [
              "alt",
              "draggable",
              "keyboard",
              "rise_offset",
              "rise_on_hover",
              "rotation_angle",
              "rotation_origin",
              "title",
              "z_index_offset"
            ],
            "pane": "",
            "popup": null,
            "popup_max_height": null,
            "popup_max_width": 300,
            "popup_min_width": 50,
            "rise_offset": 250,
            "rise_on_hover": false,
            "rotation_angle": 0,
            "rotation_origin": "",
            "subitems": [],
            "title": "",
            "visible": true,
            "z_index_offset": 0
          }
        },
        "174cf99107b2475195e3f3f5f4789a55": {
          "model_module": "jupyter-leaflet",
          "model_name": "LeafletMarkerModel",
          "model_module_version": "^0.19",
          "state": {
            "_model_module": "jupyter-leaflet",
            "_model_module_version": "^0.19",
            "_model_name": "LeafletMarkerModel",
            "_view_count": null,
            "_view_module": "jupyter-leaflet",
            "_view_module_version": "^0.19",
            "_view_name": "LeafletMarkerView",
            "alt": "",
            "base": false,
            "bottom": false,
            "draggable": false,
            "icon": null,
            "keyboard": true,
            "location": [
              40.245967,
              -111.645454
            ],
            "name": "",
            "opacity": 1,
            "options": [
              "alt",
              "draggable",
              "keyboard",
              "rise_offset",
              "rise_on_hover",
              "rotation_angle",
              "rotation_origin",
              "title",
              "z_index_offset"
            ],
            "pane": "",
            "popup": null,
            "popup_max_height": null,
            "popup_max_width": 300,
            "popup_min_width": 50,
            "rise_offset": 250,
            "rise_on_hover": false,
            "rotation_angle": 0,
            "rotation_origin": "",
            "subitems": [],
            "title": "",
            "visible": true,
            "z_index_offset": 0
          }
        },
        "e34e2758322645a8aec8f46f2f7ee27e": {
          "model_module": "jupyter-leaflet",
          "model_name": "LeafletMarkerModel",
          "model_module_version": "^0.19",
          "state": {
            "_model_module": "jupyter-leaflet",
            "_model_module_version": "^0.19",
            "_model_name": "LeafletMarkerModel",
            "_view_count": null,
            "_view_module": "jupyter-leaflet",
            "_view_module_version": "^0.19",
            "_view_name": "LeafletMarkerView",
            "alt": "",
            "base": false,
            "bottom": false,
            "draggable": false,
            "icon": null,
            "keyboard": true,
            "location": [
              40.245987,
              -111.643796
            ],
            "name": "",
            "opacity": 1,
            "options": [
              "alt",
              "draggable",
              "keyboard",
              "rise_offset",
              "rise_on_hover",
              "rotation_angle",
              "rotation_origin",
              "title",
              "z_index_offset"
            ],
            "pane": "",
            "popup": null,
            "popup_max_height": null,
            "popup_max_width": 300,
            "popup_min_width": 50,
            "rise_offset": 250,
            "rise_on_hover": false,
            "rotation_angle": 0,
            "rotation_origin": "",
            "subitems": [],
            "title": "",
            "visible": true,
            "z_index_offset": 0
          }
        }
      }
    }
  },
  "cells": [
    {
      "cell_type": "markdown",
      "metadata": {
        "id": "view-in-github",
        "colab_type": "text"
      },
      "source": [
        "<a href=\"https://colab.research.google.com/github/njones61/ce544/blob/main/docs/unit1/09_dewatering/dewatering.ipynb\" target=\"_parent\"><img src=\"https://colab.research.google.com/assets/colab-badge.svg\" alt=\"Open In Colab\"/></a>"
      ]
    },
    {
      "cell_type": "markdown",
      "source": [
        "# Construction Dewatering\n",
        "\n",
        "This notebook is used to design dewatering systems for excavations in unconfined aquifers. It uses well equations to calculate the drawdown for a series of dewatering wells. The excavation size and location are specified using GeoJSON file. The dewatering algorithm and the steps involved in using this notebook are documented here:\n",
        "\n",
        "https://byu-ce544.readthedocs.io/en/latest/unit1/09_dewatering/dewatering_class/\n",
        "\n",
        "This notebook can be used to simulate drawdown from construction dewatering at any location using a GEOJSON file to define the excavation. It assumes a simple unconfined aquifer underlain by an impermeable layer."
      ],
      "metadata": {
        "id": "ZEESBF8AKU6f"
      }
    },
    {
      "cell_type": "markdown",
      "source": [
        "# Part 1 - Setup\n",
        "\n",
        "In this section we import the packages we will need, upload the excavation polygon, and manually create some well locations to analyze."
      ],
      "metadata": {
        "id": "ALv9zGm0qwlY"
      }
    },
    {
      "cell_type": "code",
      "source": [
        "%%capture\n",
        "!pip install geopandas\n",
        "!pip install ipyleaflet"
      ],
      "metadata": {
        "id": "LiqjWt4HFwCI"
      },
      "execution_count": 1,
      "outputs": []
    },
    {
      "cell_type": "code",
      "execution_count": 2,
      "metadata": {
        "id": "BcN05WzKEhpH"
      },
      "outputs": [],
      "source": [
        "from ipyleaflet import Map, Polygon, Marker, DrawControl, GeoJSON, LayerGroup\n",
        "from ipywidgets import HTML\n",
        "import geopandas as gpd\n",
        "import numpy as np\n",
        "import matplotlib.pyplot as plt\n",
        "from matplotlib import cm\n",
        "from scipy.interpolate import griddata\n",
        "import pyproj\n",
        "from shapely.geometry import shape, Point, Polygon\n"
      ]
    },
    {
      "cell_type": "code",
      "source": [
        "# Upload GEOJSON file\n",
        "from google.colab import files\n",
        "uploaded = files.upload()\n",
        "\n",
        "# get name of uploaded file\n",
        "file_name = list(uploaded.keys())[0]"
      ],
      "metadata": {
        "colab": {
          "base_uri": "https://localhost:8080/",
          "height": 73
        },
        "id": "EaHzaKSoGEGy",
        "outputId": "1d7ce160-a364-4292-c251-719605985282"
      },
      "execution_count": 3,
      "outputs": [
        {
          "output_type": "display_data",
          "data": {
            "text/plain": [
              "<IPython.core.display.HTML object>"
            ],
            "text/html": [
              "\n",
              "     <input type=\"file\" id=\"files-907d2261-5d52-4568-8205-bbc0ee62ccc3\" name=\"files[]\" multiple disabled\n",
              "        style=\"border:none\" />\n",
              "     <output id=\"result-907d2261-5d52-4568-8205-bbc0ee62ccc3\">\n",
              "      Upload widget is only available when the cell has been executed in the\n",
              "      current browser session. Please rerun this cell to enable.\n",
              "      </output>\n",
              "      <script>// Copyright 2017 Google LLC\n",
              "//\n",
              "// Licensed under the Apache License, Version 2.0 (the \"License\");\n",
              "// you may not use this file except in compliance with the License.\n",
              "// You may obtain a copy of the License at\n",
              "//\n",
              "//      http://www.apache.org/licenses/LICENSE-2.0\n",
              "//\n",
              "// Unless required by applicable law or agreed to in writing, software\n",
              "// distributed under the License is distributed on an \"AS IS\" BASIS,\n",
              "// WITHOUT WARRANTIES OR CONDITIONS OF ANY KIND, either express or implied.\n",
              "// See the License for the specific language governing permissions and\n",
              "// limitations under the License.\n",
              "\n",
              "/**\n",
              " * @fileoverview Helpers for google.colab Python module.\n",
              " */\n",
              "(function(scope) {\n",
              "function span(text, styleAttributes = {}) {\n",
              "  const element = document.createElement('span');\n",
              "  element.textContent = text;\n",
              "  for (const key of Object.keys(styleAttributes)) {\n",
              "    element.style[key] = styleAttributes[key];\n",
              "  }\n",
              "  return element;\n",
              "}\n",
              "\n",
              "// Max number of bytes which will be uploaded at a time.\n",
              "const MAX_PAYLOAD_SIZE = 100 * 1024;\n",
              "\n",
              "function _uploadFiles(inputId, outputId) {\n",
              "  const steps = uploadFilesStep(inputId, outputId);\n",
              "  const outputElement = document.getElementById(outputId);\n",
              "  // Cache steps on the outputElement to make it available for the next call\n",
              "  // to uploadFilesContinue from Python.\n",
              "  outputElement.steps = steps;\n",
              "\n",
              "  return _uploadFilesContinue(outputId);\n",
              "}\n",
              "\n",
              "// This is roughly an async generator (not supported in the browser yet),\n",
              "// where there are multiple asynchronous steps and the Python side is going\n",
              "// to poll for completion of each step.\n",
              "// This uses a Promise to block the python side on completion of each step,\n",
              "// then passes the result of the previous step as the input to the next step.\n",
              "function _uploadFilesContinue(outputId) {\n",
              "  const outputElement = document.getElementById(outputId);\n",
              "  const steps = outputElement.steps;\n",
              "\n",
              "  const next = steps.next(outputElement.lastPromiseValue);\n",
              "  return Promise.resolve(next.value.promise).then((value) => {\n",
              "    // Cache the last promise value to make it available to the next\n",
              "    // step of the generator.\n",
              "    outputElement.lastPromiseValue = value;\n",
              "    return next.value.response;\n",
              "  });\n",
              "}\n",
              "\n",
              "/**\n",
              " * Generator function which is called between each async step of the upload\n",
              " * process.\n",
              " * @param {string} inputId Element ID of the input file picker element.\n",
              " * @param {string} outputId Element ID of the output display.\n",
              " * @return {!Iterable<!Object>} Iterable of next steps.\n",
              " */\n",
              "function* uploadFilesStep(inputId, outputId) {\n",
              "  const inputElement = document.getElementById(inputId);\n",
              "  inputElement.disabled = false;\n",
              "\n",
              "  const outputElement = document.getElementById(outputId);\n",
              "  outputElement.innerHTML = '';\n",
              "\n",
              "  const pickedPromise = new Promise((resolve) => {\n",
              "    inputElement.addEventListener('change', (e) => {\n",
              "      resolve(e.target.files);\n",
              "    });\n",
              "  });\n",
              "\n",
              "  const cancel = document.createElement('button');\n",
              "  inputElement.parentElement.appendChild(cancel);\n",
              "  cancel.textContent = 'Cancel upload';\n",
              "  const cancelPromise = new Promise((resolve) => {\n",
              "    cancel.onclick = () => {\n",
              "      resolve(null);\n",
              "    };\n",
              "  });\n",
              "\n",
              "  // Wait for the user to pick the files.\n",
              "  const files = yield {\n",
              "    promise: Promise.race([pickedPromise, cancelPromise]),\n",
              "    response: {\n",
              "      action: 'starting',\n",
              "    }\n",
              "  };\n",
              "\n",
              "  cancel.remove();\n",
              "\n",
              "  // Disable the input element since further picks are not allowed.\n",
              "  inputElement.disabled = true;\n",
              "\n",
              "  if (!files) {\n",
              "    return {\n",
              "      response: {\n",
              "        action: 'complete',\n",
              "      }\n",
              "    };\n",
              "  }\n",
              "\n",
              "  for (const file of files) {\n",
              "    const li = document.createElement('li');\n",
              "    li.append(span(file.name, {fontWeight: 'bold'}));\n",
              "    li.append(span(\n",
              "        `(${file.type || 'n/a'}) - ${file.size} bytes, ` +\n",
              "        `last modified: ${\n",
              "            file.lastModifiedDate ? file.lastModifiedDate.toLocaleDateString() :\n",
              "                                    'n/a'} - `));\n",
              "    const percent = span('0% done');\n",
              "    li.appendChild(percent);\n",
              "\n",
              "    outputElement.appendChild(li);\n",
              "\n",
              "    const fileDataPromise = new Promise((resolve) => {\n",
              "      const reader = new FileReader();\n",
              "      reader.onload = (e) => {\n",
              "        resolve(e.target.result);\n",
              "      };\n",
              "      reader.readAsArrayBuffer(file);\n",
              "    });\n",
              "    // Wait for the data to be ready.\n",
              "    let fileData = yield {\n",
              "      promise: fileDataPromise,\n",
              "      response: {\n",
              "        action: 'continue',\n",
              "      }\n",
              "    };\n",
              "\n",
              "    // Use a chunked sending to avoid message size limits. See b/62115660.\n",
              "    let position = 0;\n",
              "    do {\n",
              "      const length = Math.min(fileData.byteLength - position, MAX_PAYLOAD_SIZE);\n",
              "      const chunk = new Uint8Array(fileData, position, length);\n",
              "      position += length;\n",
              "\n",
              "      const base64 = btoa(String.fromCharCode.apply(null, chunk));\n",
              "      yield {\n",
              "        response: {\n",
              "          action: 'append',\n",
              "          file: file.name,\n",
              "          data: base64,\n",
              "        },\n",
              "      };\n",
              "\n",
              "      let percentDone = fileData.byteLength === 0 ?\n",
              "          100 :\n",
              "          Math.round((position / fileData.byteLength) * 100);\n",
              "      percent.textContent = `${percentDone}% done`;\n",
              "\n",
              "    } while (position < fileData.byteLength);\n",
              "  }\n",
              "\n",
              "  // All done.\n",
              "  yield {\n",
              "    response: {\n",
              "      action: 'complete',\n",
              "    }\n",
              "  };\n",
              "}\n",
              "\n",
              "scope.google = scope.google || {};\n",
              "scope.google.colab = scope.google.colab || {};\n",
              "scope.google.colab._files = {\n",
              "  _uploadFiles,\n",
              "  _uploadFilesContinue,\n",
              "};\n",
              "})(self);\n",
              "</script> "
            ]
          },
          "metadata": {}
        },
        {
          "output_type": "stream",
          "name": "stdout",
          "text": [
            "Saving byu_brewster.geojson to byu_brewster.geojson\n"
          ]
        }
      ]
    },
    {
      "cell_type": "code",
      "source": [
        "# Load GEOJSON for Polygon and extract coordinates\n",
        "geojson_file = file_name  # path to your GEOJSON file\n",
        "polygon_data = gpd.read_file(geojson_file)\n",
        "geojson_data = polygon_data.__geo_interface__\n",
        "polygon_coords = list(polygon_data.geometry[0].exterior.coords)  # Extract exterior coords\n",
        "\n",
        "# swap the orders of the pairs in polygon_coords\n",
        "polygon_coords = [(y, x) for x, y in polygon_coords]\n",
        "polygon_coords"
      ],
      "metadata": {
        "id": "AtPtG_nKE3y9",
        "colab": {
          "base_uri": "https://localhost:8080/"
        },
        "outputId": "5e0004b2-e89c-4d8b-ca1c-ee8713daa21c"
      },
      "execution_count": 5,
      "outputs": [
        {
          "output_type": "execute_result",
          "data": {
            "text/plain": [
              "[(40.246851678806706, -111.64554864779842),\n",
              " (40.24610895796758, -111.6455446101439),\n",
              " (40.24610895796758, -111.64368728911117),\n",
              " (40.246854760619016, -111.6436953644202),\n",
              " (40.246851678806706, -111.64554864779842)]"
            ]
          },
          "metadata": {},
          "execution_count": 5
        }
      ]
    },
    {
      "cell_type": "code",
      "source": [
        "# Create a polygon using the polygon_coords and add it to an ipyleaflet map\n",
        "\n",
        "polygon = GeoJSON(\n",
        "    data=geojson_data,\n",
        "    style={\n",
        "        'color': 'blue',\n",
        "        'fillColor': 'gray',\n",
        "        'fillOpacity': 0.2,\n",
        "        'weight': 2\n",
        "    }\n",
        ")\n",
        "\n",
        "center = [polygon_data.geometry[0].centroid.y, polygon_data.geometry[0].centroid.x]\n",
        "m = Map(center=center, zoom=18)\n",
        "m.add(polygon)\n",
        "\n",
        "# Create a DrawControl for user to click and add markers\n",
        "draw_control = DrawControl(marker={\"shapeOptions\": {\"color\": \"#0000FF\"}})\n",
        "\n",
        "# Store marker coordinates\n",
        "marker_coords = []\n",
        "\n",
        "# Function to add markers and store their coordinates\n",
        "def handle_marker(event=None, action=None, geo_json=None):\n",
        "    if action == 'created' and geo_json['geometry']['type'] == 'Point':\n",
        "        lat, lng = geo_json['geometry']['coordinates'][1], geo_json['geometry']['coordinates'][0]\n",
        "        marker_coords.append((lat, lng))  # Store each marker's coordinates\n",
        "        marker = Marker(location=(lat, lng), draggable=False)\n",
        "        m.add_layer(marker)\n",
        "\n",
        "# Attach the marker handler to draw control\n",
        "draw_control.on_draw(handle_marker)\n",
        "m.add_control(draw_control)\n",
        "\n",
        "# Display map\n",
        "m"
      ],
      "metadata": {
        "colab": {
          "base_uri": "https://localhost:8080/",
          "height": 421,
          "referenced_widgets": [
            "4371cc04adbe400da02e16a471a7f23f",
            "101b7ffacdbd44e28198e6c0c016c32e",
            "fb264b7ff5a14880a34d2a9f8e73ee4d",
            "fdcce3a65e6c42f7a4c68ea7d3619fbc",
            "dab09939688f4fb7a003bf9e59371ca2",
            "522d6f22fe974a5887fb2f0c912167a8",
            "f42c22025f2846678d8d7d2340e7c2e5",
            "476754a97d6448b2aa57b0d008e20a54",
            "e7e8a85ce53f400db50e46887cab449f",
            "0364006a4e4942e58ba5b82840bbfce6",
            "d8b076c57d994c30900c95226f917539",
            "2ac3108543554dc7991e76e659f27fed",
            "174cf99107b2475195e3f3f5f4789a55",
            "e34e2758322645a8aec8f46f2f7ee27e"
          ]
        },
        "id": "xprD7tLIeK1E",
        "outputId": "1e3658ac-388f-4c10-fca2-94558287e708"
      },
      "execution_count": 6,
      "outputs": [
        {
          "output_type": "display_data",
          "data": {
            "text/plain": [
              "Map(center=[40.24648095523502, -111.64461833588719], controls=(ZoomControl(options=['position', 'zoom_in_text'…"
            ],
            "application/vnd.jupyter.widget-view+json": {
              "version_major": 2,
              "version_minor": 0,
              "model_id": "4371cc04adbe400da02e16a471a7f23f"
            }
          },
          "metadata": {
            "application/vnd.jupyter.widget-view+json": {
              "colab": {
                "custom_widget_manager": {
                  "url": "https://ssl.gstatic.com/colaboratory-static/widgets/colab-cdn-widget-manager/2b70e893a8ba7c0f/manager.min.js"
                }
              }
            }
          }
        }
      ]
    },
    {
      "cell_type": "markdown",
      "source": [
        "**Note**: At this point you can use the point tool in the map tools on the left to create a set of points corresponding to the well locations. They should be created outside of the footprint of the excavation."
      ],
      "metadata": {
        "id": "BCTtG6sklYNA"
      }
    },
    {
      "cell_type": "code",
      "source": [
        "# OPTIONAL - Delete the markers from the map\n",
        "for marker in m.layers[2:]:\n",
        "    m.remove_layer(marker)\n",
        "marker_coords = []"
      ],
      "metadata": {
        "id": "W8s9TeI7h15b"
      },
      "execution_count": null,
      "outputs": []
    },
    {
      "cell_type": "code",
      "source": [
        "# Run this to make sure the points are correctly registered for the wells\n",
        "\n",
        "nw = len(marker_coords) #count the number of wells\n",
        "print(f\"Number of Wells: {nw}\")\n",
        "marker_coords"
      ],
      "metadata": {
        "colab": {
          "base_uri": "https://localhost:8080/"
        },
        "id": "LDLb_lLXhqxU",
        "outputId": "6485a4fa-e3ce-465a-d4d5-37e9d012f568"
      },
      "execution_count": 7,
      "outputs": [
        {
          "output_type": "stream",
          "name": "stdout",
          "text": [
            "Number of Wells: 4\n"
          ]
        },
        {
          "output_type": "execute_result",
          "data": {
            "text/plain": [
              "[(40.246868, -111.645443),\n",
              " (40.246892, -111.643807),\n",
              " (40.245967, -111.645454),\n",
              " (40.245987, -111.643796)]"
            ]
          },
          "metadata": {},
          "execution_count": 7
        }
      ]
    },
    {
      "cell_type": "markdown",
      "source": [
        "# Part 2 - Drawdown Calculations\n",
        "\n",
        "In this section we define our properties and variables, solve for the heads resulting from the wells created in the previous section, and plot the results."
      ],
      "metadata": {
        "id": "gwECvy1s2Atk"
      }
    },
    {
      "cell_type": "code",
      "source": [
        "# Define functions for this section\n",
        "\n",
        "def sum_well_h(r, qi):\n",
        "  return np.sqrt(H**2 - (1/(np.pi*k))*np.sum(qi*np.log(R/r)))\n",
        "\n",
        "def solve_heads(distances, qi):\n",
        "  return np.apply_along_axis(sum_well_h, 0, distances, qi)\n",
        "\n",
        "def build_grid(well_coords, poly_coords):\n",
        "\n",
        "  # Create grid of points\n",
        "  cushion = 0.3 # Fraction of distance to add to each side when creating grid\n",
        "  num_points = 100  # Modify for resolution\n",
        "\n",
        "  well_lats, well_lons = zip(*well_coords)\n",
        "  poly_lats, poly_lons = zip(*poly_coords)\n",
        "  latitudes = list(well_lats) + list(poly_lats)\n",
        "  longitudes = list(well_lons) + list(poly_lons)\n",
        "  lat_range = max(latitudes) - min(latitudes)\n",
        "  lon_range = max(longitudes) - min(longitudes)\n",
        "  lat_cushion = lat_range * cushion\n",
        "  lon_cushion = lon_range * cushion\n",
        "  min_lat = min(latitudes) - lat_cushion\n",
        "  max_lat = max(latitudes) + lat_cushion\n",
        "  min_lon = min(longitudes) - lon_cushion\n",
        "  max_lon = max(longitudes) + lon_cushion\n",
        "\n",
        "  grid_lat = np.linspace(min_lat, max_lat, num_points)\n",
        "  grid_lon = np.linspace(min_lon, max_lon, num_points)\n",
        "  grid_lat, grid_lon = np.meshgrid(grid_lat, grid_lon)\n",
        "\n",
        "  # Transform from lat/lon to x, y coordinates in meters\n",
        "  transformer = pyproj.Transformer.from_crs(\"epsg:4326\", \"epsg:3857\")\n",
        "  poly_x, poly_y = transformer.transform(poly_lats, poly_lons)\n",
        "  grid_x, grid_y = transformer.transform(grid_lat, grid_lon)\n",
        "  wells_x, wells_y = transformer.transform(well_lats, well_lons)\n",
        "\n",
        "  # Convert wells_x and wells_y to NumPy arrays\n",
        "  wells_x = np.array(wells_x)\n",
        "  wells_y = np.array(wells_y)\n",
        "\n",
        "  # Reshape wells_x and wells_y to be compatible with broadcasting\n",
        "  wells_x = wells_x[:, np.newaxis, np.newaxis]  # Shape: (nw, 1, 1)\n",
        "  wells_y = wells_y[:, np.newaxis, np.newaxis]  # Shape: (nw, 1, 1)\n",
        "\n",
        "  # Calculating Distances: The distances array will now have shape (nw, 100, 100), representing the\n",
        "  # distances from each of the nw wells to each point on the 100x100 grid.\n",
        "  distances = np.sqrt((grid_x[np.newaxis, ...] - wells_x)**2 + (grid_y[np.newaxis, ...] - wells_y)**2)\n",
        "\n",
        "  return distances, grid_lat, grid_lon, grid_x, grid_y, poly_x, poly_y\n",
        "\n",
        "def contour_plot(heads, well_coords, poly_coords, binary=False, binary_value=0):\n",
        "  # Plot contours using matplotlib\n",
        "  plt.figure(figsize=(12, 4))\n",
        "\n",
        "  # if binary = True, use two color bands, one above binary value and one below, otherwise use defaults\n",
        "  if binary:\n",
        "    # Find the minimum and maximum values in heads, excluding NaN and Inf\n",
        "    valid_values = heads[np.isfinite(heads)]\n",
        "    min_val = np.min(valid_values)\n",
        "    max_val = np.max(valid_values)\n",
        "\n",
        "    # Ensure binary_value is within the range of valid values\n",
        "    binary_value = np.clip(binary_value, min_val, max_val)\n",
        "\n",
        "    # Adjust levels based on binary_value and data range\n",
        "    levels = [min_val, binary_value, max_val]\n",
        "    plt.contourf(grid_lon, grid_lat, heads, levels=levels, colors=['red', 'blue'], extend='both')\n",
        "  else:\n",
        "    plt.contourf(grid_lon, grid_lat, heads, cmap=cm.viridis)\n",
        "\n",
        "  plt.colorbar(label='Computed Values')\n",
        "  plt.xlabel('Longitude')\n",
        "  plt.ylabel('Latitude')\n",
        "\n",
        "  # use an equal aspect\n",
        "  plt.gca().set_aspect('equal')\n",
        "\n",
        "  well_lats, well_lons = zip(*well_coords)\n",
        "  poly_lats, poly_lons = zip(*poly_coords)\n",
        "\n",
        "  # add the marker_coords to the map as scatter points\n",
        "  plt.scatter(well_lons, well_lats, color='red', marker='o', s=100)\n",
        "\n",
        "  # add the poly_coords to the map as dashed lines\n",
        "  plt.plot(poly_lons, poly_lats, color='black', linestyle='--', linewidth=2)\n",
        "\n",
        "  plt.show()\n",
        "\n",
        "def mask_inside_polygon(grid_x, grid_y, poly_x, poly_y):\n",
        "  # build a mask marking cells inside the excavation polygon\n",
        "  poly_coords_shapely = Polygon(list(zip(poly_x, poly_y)))\n",
        "  num_points = len(grid_x[0])\n",
        "  grid_points = [Point(grid_x[i][j], grid_y[i][j]) for i in range(num_points) for j in range(num_points)]\n",
        "  inside_poly = [poly_coords_shapely.contains(grid_points[i]) for i in range(num_points * num_points)]\n",
        "  inside_poly = np.array(inside_poly).reshape(num_points, num_points)\n",
        "  return inside_poly\n",
        "\n",
        "def filter_inside_polygon(mask, h_grid):\n",
        "  # use the inside_poly results to create a filter of h_grid so that all values outside of poly are nans\n",
        "  return np.where(mask, h_grid, np.nan)\n",
        "\n"
      ],
      "metadata": {
        "id": "7BqVIuzjUMFc"
      },
      "execution_count": 8,
      "outputs": []
    },
    {
      "cell_type": "code",
      "source": [
        "#@markdown ### **Enter variables used in analysis**\n",
        "#@markdown Enter k in [cm/s], everything else in [m]\n",
        "\n",
        "k_cms = 0.0005 #@param\n",
        "k = k_cms / 100 #m/sec\n",
        "\n",
        "H = 40 #@param\n",
        "R = 500 #@param\n",
        "\n",
        "design_head = 35 #@param\n",
        "\n",
        "total_Q = 0.008 #@param\n",
        "qi = total_Q / nw # m^3/sec"
      ],
      "metadata": {
        "id": "pVHeBjQH0JbK"
      },
      "execution_count": 9,
      "outputs": []
    },
    {
      "cell_type": "code",
      "source": [
        "# Build a grid that surrounds the excvation and calculate the heads on the grid resulting from the pumping\n",
        "# from the wells defined on the map above.\n",
        "\n",
        "# distances has a shape of (nw, 100, 100). Call the h function for all values\n",
        "# of nw to return a (100, 100) set of results in h_grid\n",
        "\n",
        "distances, grid_lat, grid_lon, grid_x, grid_y, poly_x, poly_y = build_grid(marker_coords, polygon_coords)\n",
        "\n",
        "#h_grid = np.apply_along_axis(sum_well_h, 0, distances)\n",
        "h_grid = solve_heads(distances, qi)\n"
      ],
      "metadata": {
        "id": "LgUNx2u1L70m"
      },
      "execution_count": 10,
      "outputs": []
    },
    {
      "cell_type": "code",
      "source": [
        "contour_plot(h_grid, marker_coords, polygon_coords)\n"
      ],
      "metadata": {
        "colab": {
          "base_uri": "https://localhost:8080/",
          "height": 403
        },
        "id": "2I-dJD1ZHaR4",
        "outputId": "aea0ab6d-97f9-4e7e-d901-f68dfab02c9b"
      },
      "execution_count": 11,
      "outputs": [
        {
          "output_type": "display_data",
          "data": {
            "text/plain": [
              "<Figure size 1200x400 with 2 Axes>"
            ],
            "image/png": "[encoded data removed]"
          },
          "metadata": {}
        }
      ]
    },
    {
      "cell_type": "code",
      "source": [
        "# Filter the head values that are inside the excavation.\n",
        "inside_mask = mask_inside_polygon(grid_x, grid_y, poly_x, poly_y)\n",
        "h_grid_inside = filter_inside_polygon(inside_mask, h_grid)\n"
      ],
      "metadata": {
        "id": "ehgywsrgPJdG"
      },
      "execution_count": 12,
      "outputs": []
    },
    {
      "cell_type": "code",
      "source": [
        "# print the max value of h_grid_inside\n",
        "print(f\"Max value of h_grid_inside: {np.nanmax(h_grid_inside)}\")"
      ],
      "metadata": {
        "colab": {
          "base_uri": "https://localhost:8080/"
        },
        "id": "3rEq_2Sy2kQ9",
        "outputId": "892b96c9-436c-4c31-efea-cb97939cea9a"
      },
      "execution_count": 13,
      "outputs": [
        {
          "output_type": "stream",
          "name": "stdout",
          "text": [
            "Max value of h_grid_inside: 29.50400261363294\n"
          ]
        }
      ]
    },
    {
      "cell_type": "code",
      "source": [
        "# Plot the heads inside the excavation\n",
        "contour_plot(h_grid_inside, marker_coords, polygon_coords)"
      ],
      "metadata": {
        "colab": {
          "base_uri": "https://localhost:8080/",
          "height": 403
        },
        "id": "sF13FmndzJHm",
        "outputId": "5268280a-11ce-4729-8490-339de880ad98"
      },
      "execution_count": 14,
      "outputs": [
        {
          "output_type": "display_data",
          "data": {
            "text/plain": [
              "<Figure size 1200x400 with 2 Axes>"
            ],
            "image/png": "[encoded data removed]"
          },
          "metadata": {}
        }
      ]
    },
    {
      "cell_type": "code",
      "source": [
        "# Create a new head array which is the h_grid minus design_head. Negative values indicate\n",
        "# depth below the bottom of the excavation.\n",
        "h_grid_new = h_grid_inside - design_head\n",
        "\n",
        "contour_plot(h_grid_new, marker_coords, polygon_coords)"
      ],
      "metadata": {
        "id": "z0RgpDiy3jLg",
        "colab": {
          "base_uri": "https://localhost:8080/",
          "height": 403
        },
        "outputId": "91b55fc9-94c7-40a9-d984-aac66a3e9844"
      },
      "execution_count": 15,
      "outputs": [
        {
          "output_type": "display_data",
          "data": {
            "text/plain": [
              "<Figure size 1200x400 with 2 Axes>"
            ],
            "image/png": "[encoded data removed]"
          },
          "metadata": {}
        }
      ]
    },
    {
      "cell_type": "code",
      "source": [
        "# Create a depth below grid for the entire domain and then do a binary plot where\n",
        "# values below a given depth are marked in red. This can graphically show where\n",
        "# the dewatering objective has been met.\n",
        "\n",
        "h_split = h_grid-design_head\n",
        "\n",
        "cushion = 6  # Optional - extra depth for a factor of safety\n",
        "\n",
        "contour_plot(h_split,marker_coords, polygon_coords, binary=True, binary_value=-cushion)"
      ],
      "metadata": {
        "colab": {
          "base_uri": "https://localhost:8080/",
          "height": 403
        },
        "id": "YeXlcXoS48Tq",
        "outputId": "173587b4-d993-4da0-f013-a5a5aefad2c1"
      },
      "execution_count": 16,
      "outputs": [
        {
          "output_type": "display_data",
          "data": {
            "text/plain": [
              "<Figure size 1200x400 with 2 Axes>"
            ],
            "image/png": "[encoded data removed]"
          },
          "metadata": {}
        }
      ]
    },
    {
      "cell_type": "markdown",
      "source": [
        "# Part 3 - Rectangular Well System Design\n",
        "\n",
        "In this section we will generate a set of wells along a rectangle that is offset from the bounding box of the excavation, redo the head calculations, and plot the results."
      ],
      "metadata": {
        "id": "QnjuT4UDSPY_"
      }
    },
    {
      "cell_type": "code",
      "source": [
        "# Define functions for this section\n",
        "\n",
        "def parse_geojson(geojson_data):\n",
        "    # Parse GeoJSON to extract polygon coordinates\n",
        "    geo_shape = shape(geojson_data['features'][0]['geometry'])\n",
        "    if isinstance(geo_shape, Polygon):\n",
        "        return list(geo_shape.exterior.coords)\n",
        "    else:\n",
        "        raise ValueError(\"GeoJSON does not contain a polygon.\")\n",
        "\n",
        "def project_coordinates(coords, transformer):\n",
        "    # Project lat/lon to meters\n",
        "    projected = []\n",
        "    for lon, lat in coords:\n",
        "        try:\n",
        "            x, y = transformer.transform(lon, lat)\n",
        "            projected.append((x, y))\n",
        "        except Exception as e:\n",
        "            print(f\"Error projecting coordinate ({lat}, {lon}): {e}\")\n",
        "            projected.append((float('inf'), float('inf')))\n",
        "    return projected\n",
        "\n",
        "def generate_well_locations_geojson(geojson_data, offset_m, npts_x):\n",
        "\n",
        "    from pyproj import Transformer\n",
        "\n",
        "    # Step 1: Parse GeoJSON and get polygon coordinates\n",
        "    polygon_coords = parse_geojson(geojson_data)\n",
        "\n",
        "    #print(\"Parsed Coordinates (Lat/Lon):\", polygon_coords)\n",
        "\n",
        "    # Step 2: Set up a general-purpose transformer (EPSG:3857)\n",
        "    transformer = Transformer.from_crs(\"EPSG:4326\", \"EPSG:3857\", always_xy=True)\n",
        "    inverse_transformer = Transformer.from_crs(\"EPSG:3857\", \"EPSG:4326\", always_xy=True)\n",
        "\n",
        "    # Project polygon to meters\n",
        "    projected_polygon = project_coordinates(polygon_coords, transformer)\n",
        "    #print(\"Projected Coordinates (Meters):\", projected_polygon)\n",
        "\n",
        "    # Ensure there are valid projected coordinates\n",
        "    if any(x == float('inf') or y == float('inf') for x, y in projected_polygon):\n",
        "        raise ValueError(\"Projection failed for some coordinates. Please check input data and projection settings.\")\n",
        "\n",
        "    # Step 3: Compute bounding box in meters\n",
        "    x_coords, y_coords = zip(*projected_polygon)\n",
        "    min_x, max_x = min(x_coords), max(x_coords)\n",
        "    min_y, max_y = min(y_coords), max(y_coords)\n",
        "    #print(\"Bounding Box (Meters):\", min_x, max_x, min_y, max_y)\n",
        "\n",
        "    # Step 4: Expand the bounding box by the offset in meters\n",
        "    min_x -= offset_m\n",
        "    max_x += offset_m\n",
        "    min_y -= offset_m\n",
        "    max_y += offset_m\n",
        "\n",
        "    # Step 5: Generate well locations along the expanded bounding box\n",
        "    wells = []\n",
        "\n",
        "    # Calculate spacing for east-west points\n",
        "    spacing_x = (max_x - min_x) / (npts_x - 1)\n",
        "\n",
        "    # Calculate the number of points in the north-south direction\n",
        "    npts_y = int(round((max_y - min_y) / spacing_x)) + 1\n",
        "    spacing_y = (max_y - min_y) / (npts_y - 1)\n",
        "\n",
        "    print(f\"Spacing in X: {spacing_x}\")\n",
        "    print(f\"Spacing in Y: {spacing_y}\")\n",
        "\n",
        "    # Generate points along the bottom (south) edge\n",
        "    for i in range(npts_x):\n",
        "        x = min_x + i * spacing_x\n",
        "        wells.append((x, min_y))\n",
        "\n",
        "    # Generate points along the right (east) edge\n",
        "    for i in range(1, npts_y - 1):  # Avoid corners\n",
        "        y = min_y + i * spacing_y\n",
        "        wells.append((max_x, y))\n",
        "\n",
        "    # Generate points along the top (north) edge\n",
        "    for i in range(npts_x):\n",
        "        x = max_x - i * spacing_x\n",
        "        wells.append((x, max_y))\n",
        "\n",
        "    # Generate points along the left (west) edge\n",
        "    for i in range(1, npts_y - 1):  # Avoid corners\n",
        "        y = max_y - i * spacing_y\n",
        "        wells.append((min_x, y))\n",
        "\n",
        "    # Step 6: Convert well coordinates back to lat/lon\n",
        "    well_coords_latlon = [(inverse_transformer.transform(x, y)) for x, y in wells]\n",
        "\n",
        "    # Step 7: Reverse the order (x vs y) for the lat/lon coords\n",
        "    well_coords_latlon = [(y, x) for x, y in well_coords_latlon]\n",
        "\n",
        "    return well_coords_latlon"
      ],
      "metadata": {
        "id": "9tV_dmjFSfd_"
      },
      "execution_count": 28,
      "outputs": []
    },
    {
      "cell_type": "code",
      "source": [
        "# Generate a rectangular set of wells based on an offset distance from the edge\n",
        "# of the excavation and a number of wells along the x-direction. Spacing in the\n",
        "# y-direction is adjused to match\n",
        "\n",
        "offset_m = 20\n",
        "npts_x = 10\n",
        "\n",
        "rect_wells_coords = generate_well_locations_geojson(geojson_data, offset_m, npts_x)\n",
        "\n",
        "num_wells = len(rect_wells_coords)\n",
        "print(f\"Number of Wells: {num_wells}\")"
      ],
      "metadata": {
        "colab": {
          "base_uri": "https://localhost:8080/"
        },
        "id": "zU1mAuRlT56P",
        "outputId": "19b09196-a5d5-4333-c524-a515a08b5f4a"
      },
      "execution_count": 29,
      "outputs": [
        {
          "output_type": "stream",
          "name": "stdout",
          "text": [
            "Spacing in X: 27.467277916355265\n",
            "Spacing in Y: 29.754330279119312\n",
            "Number of Wells: 28\n"
          ]
        }
      ]
    },
    {
      "cell_type": "code",
      "source": [
        "# Solve for the head using the rectangular ring of wells\n",
        "\n",
        "qi = total_Q / num_wells\n",
        "distances, grid_lat, grid_lon, grid_x, grid_y, poly_x, poly_y = build_grid(rect_wells_coords, polygon_coords)\n",
        "h_grid = solve_heads(distances, qi)"
      ],
      "metadata": {
        "id": "R2mpkwiHZIpd"
      },
      "execution_count": 32,
      "outputs": []
    },
    {
      "cell_type": "code",
      "source": [
        "contour_plot(h_grid, rect_wells_coords, polygon_coords)"
      ],
      "metadata": {
        "colab": {
          "base_uri": "https://localhost:8080/",
          "height": 403
        },
        "id": "MBMzTVMccQaR",
        "outputId": "3bb78b2a-a358-419d-86ea-c131d1571e51"
      },
      "execution_count": 31,
      "outputs": [
        {
          "output_type": "display_data",
          "data": {
            "text/plain": [
              "<Figure size 1200x400 with 2 Axes>"
            ],
            "image/png": "[encoded data removed]"
          },
          "metadata": {}
        }
      ]
    },
    {
      "cell_type": "markdown",
      "source": [
        "# Part 4 - Pumping Rate Optimization\n",
        "\n",
        "In this section, we use the rectangular well design from the previous section and optimize the pumping rate so that the resulting heads are just below the design depth."
      ],
      "metadata": {
        "id": "CKFXwQwqsBKf"
      }
    },
    {
      "cell_type": "code",
      "source": [
        "# Define functions for this section.\n",
        "\n",
        "def objective_function(h_grid_inside, design_head):\n",
        "  # find the max value in h_grid_inside, but ignore nans\n",
        "  h_grid_nonans = h_grid_inside[~np.isnan(h_grid_inside)]\n",
        "  max_h = np.max(h_grid_nonans)\n",
        "  diff = max_h - design_head\n",
        "  return diff # Should be zero if max head in excavation is right at the bottom\n",
        "\n",
        "def optimize_pumping_rate_bisection(qi_low, qi_high, distances, tolerance=0.0001, max_iterations=100):\n",
        "    \"\"\"\n",
        "    Optimize qi using the bisection method.\n",
        "\n",
        "    Args:\n",
        "        qi_low: Lower bound for pumping rate.\n",
        "        qi_high: Upper bound for pumping rate.\n",
        "        distances: Array of distances for simulation.\n",
        "        tolerance: Acceptable difference between target and actual head.\n",
        "        max_iterations: Maximum number of iterations.\n",
        "\n",
        "    Returns:\n",
        "        Optimal pumping rate (qi).\n",
        "    \"\"\"\n",
        "    inside_mask = mask_inside_polygon(grid_x, grid_y, poly_x, poly_y)\n",
        "\n",
        "    for iteration in range(max_iterations):\n",
        "        qi_mid = (qi_low + qi_high) / 2\n",
        "        h_grid = solve_heads(distances, qi_mid)\n",
        "        h_grid_inside = filter_inside_polygon(inside_mask, h_grid)\n",
        "        obj = objective_function(h_grid_inside, design_head)\n",
        "\n",
        "        print(f\"Iteration: {iteration}, qi_mid: {qi_mid:.6f}, Objective: {obj:.6f}\")\n",
        "\n",
        "        if np.abs(obj) < tolerance:\n",
        "            print(\"Optimal pumping rate found.\")\n",
        "            return qi_mid\n",
        "\n",
        "        if obj < 0:\n",
        "            qi_high = qi_mid  # Reduce the upper bound\n",
        "        else:\n",
        "            qi_low = qi_mid   # Increase the lower bound\n",
        "\n",
        "    print(\"Optimization did not converge within the maximum number of iterations.\")\n",
        "    return (qi_low + qi_high) / 2"
      ],
      "metadata": {
        "id": "7pVD3OnheheU"
      },
      "execution_count": 21,
      "outputs": []
    },
    {
      "cell_type": "code",
      "source": [
        "# Setup - run this in prep for next cell\n",
        "distances, grid_lat, grid_lon, grid_x, grid_y, poly_x, poly_y = build_grid(rect_wells_coords, polygon_coords)\n",
        "inside_mask = mask_inside_polygon(grid_x, grid_y, poly_x, poly_y)"
      ],
      "metadata": {
        "id": "tTbxEpWNNmL4"
      },
      "execution_count": 22,
      "outputs": []
    },
    {
      "cell_type": "code",
      "source": [
        "# Run this cell repeatedly to find a pair of q values that give a head\n",
        "# above and below the target (postive or negative value of obj).\n",
        "\n",
        "q_test = 0.0003\n",
        "h_grid = solve_heads(distances, q_test)\n",
        "h_grid_inside = filter_inside_polygon(inside_mask, h_grid)\n",
        "obj = objective_function(h_grid_inside, design_head)\n",
        "print(f\"Qi: {q_test}, Objective: {obj:0.2f}\")"
      ],
      "metadata": {
        "colab": {
          "base_uri": "https://localhost:8080/"
        },
        "id": "-5DL_gOsM8kw",
        "outputId": "6ff57305-789f-42f6-cd38-71f19236e61b"
      },
      "execution_count": 23,
      "outputs": [
        {
          "output_type": "stream",
          "name": "stdout",
          "text": [
            "Qi: 0.0003, Objective: -6.26\n"
          ]
        }
      ]
    },
    {
      "cell_type": "code",
      "source": [
        "# Use the two q values found in previous cell to initialize the solver and find optimal q\n",
        "qi_low = 0.0001\n",
        "qi_high = 0.0003\n",
        "optimal_qi = optimize_pumping_rate_bisection(qi_low, qi_high, distances)\n",
        "print(f\"Optimal qi: {optimal_qi}\")"
      ],
      "metadata": {
        "colab": {
          "base_uri": "https://localhost:8080/"
        },
        "id": "JNewCA2rCvZL",
        "outputId": "cc9874aa-604b-4cb5-df56-210ed3cb626f"
      },
      "execution_count": 24,
      "outputs": [
        {
          "output_type": "stream",
          "name": "stdout",
          "text": [
            "Iteration: 0, qi_mid: 0.000200, Objective: -2.078151\n",
            "Iteration: 1, qi_mid: 0.000150, Objective: -0.173485\n",
            "Iteration: 2, qi_mid: 0.000125, Objective: 0.740804\n",
            "Iteration: 3, qi_mid: 0.000137, Objective: 0.286621\n",
            "Iteration: 4, qi_mid: 0.000144, Objective: 0.057322\n",
            "Iteration: 5, qi_mid: 0.000147, Objective: -0.057891\n",
            "Iteration: 6, qi_mid: 0.000145, Objective: -0.000237\n",
            "Iteration: 7, qi_mid: 0.000145, Objective: 0.028555\n",
            "Iteration: 8, qi_mid: 0.000145, Objective: 0.014162\n",
            "Iteration: 9, qi_mid: 0.000145, Objective: 0.006963\n",
            "Iteration: 10, qi_mid: 0.000145, Objective: 0.003363\n",
            "Iteration: 11, qi_mid: 0.000145, Objective: 0.001563\n",
            "Iteration: 12, qi_mid: 0.000145, Objective: 0.000663\n",
            "Iteration: 13, qi_mid: 0.000145, Objective: 0.000213\n",
            "Iteration: 14, qi_mid: 0.000145, Objective: -0.000012\n",
            "Optimal pumping rate found.\n",
            "Optimal qi: 0.000145306396484375\n"
          ]
        }
      ]
    },
    {
      "cell_type": "code",
      "source": [
        "h_grid = solve_heads(distances, optimal_qi)\n",
        "inside_mask = mask_inside_polygon(grid_x, grid_y, poly_x, poly_y)\n",
        "h_grid_inside = filter_inside_polygon(inside_mask, h_grid)\n",
        "\n",
        "contour_plot(h_grid_inside, rect_wells_coords, polygon_coords)"
      ],
      "metadata": {
        "colab": {
          "base_uri": "https://localhost:8080/",
          "height": 403
        },
        "id": "OZ82o9pnG4G4",
        "outputId": "15c9ca99-5224-45ce-acfe-f9640d462d04"
      },
      "execution_count": 25,
      "outputs": [
        {
          "output_type": "display_data",
          "data": {
            "text/plain": [
              "<Figure size 1200x400 with 2 Axes>"
            ],
            "image/png": "[encoded data removed]"
          },
          "metadata": {}
        }
      ]
    },
    {
      "cell_type": "code",
      "source": [
        "# Print final total design Q\n",
        "q_total = optimal_qi * num_wells\n",
        "print(f\"Total pumping rate: {q_total:.5f} m^3/sec\")\n",
        "\n",
        "q_total_gpm = q_total * 15850.3\n",
        "print(f\"Total pumping rate: {q_total_gpm:.1f} gpm\")"
      ],
      "metadata": {
        "colab": {
          "base_uri": "https://localhost:8080/"
        },
        "id": "RvMGK7tXEPF_",
        "outputId": "59b217f8-c8f7-4b78-8b97-200ed6a4e4bc"
      },
      "execution_count": 26,
      "outputs": [
        {
          "output_type": "stream",
          "name": "stdout",
          "text": [
            "Total pumping rate: 0.00407 m^3/sec\n",
            "Total pumping rate: 64.5 gpm\n"
          ]
        }
      ]
    },
    {
      "cell_type": "markdown",
      "source": [
        "# Part 5 - Q vs NumWells Design Curve\n",
        "\n",
        "In this section we will iterate and find the optimal Q for a range of well designs and plot the results. Specifically, we will vary the number of wells along the length of each side of the rectangle. This could be used to determine the point when adding more wells is not worth the extra cost."
      ],
      "metadata": {
        "id": "M9P3-R1lJ7x_"
      }
    },
    {
      "cell_type": "code",
      "source": [
        "# Define functions used in this section\n",
        "\n",
        "def opt_q_nwells(q_low, q_high, offset_m, npts_x):\n",
        "  # Solve for the optimal total q for a given number of wells in the x direction\n",
        "\n",
        "  print(f\"Solving for nwell_x = : {npts_x}\")\n",
        "\n",
        "  # Compute the rectanqular grid coords\n",
        "  rect_wells_coords = generate_well_locations_geojson(geojson_data, offset_m, npts_x)\n",
        "  num_wells = len(rect_wells_coords)\n",
        "\n",
        "  # Calculate distances\n",
        "  distances, grid_lat, grid_lon, grid_x, grid_y, poly_x, poly_y = build_grid(rect_wells_coords, polygon_coords)\n",
        "\n",
        "  # Solve for optimal qi\n",
        "  qi_low = q_low / num_wells\n",
        "  qi_high = q_high / num_wells\n",
        "  optimal_qi = optimize_pumping_rate_bisection(qi_low, qi_high, distances)\n",
        "  optimal_q = optimal_qi * num_wells\n",
        "\n",
        "  return optimal_q, num_wells"
      ],
      "metadata": {
        "id": "WJUhlrf2KtrE"
      },
      "execution_count": 78,
      "outputs": []
    },
    {
      "cell_type": "code",
      "source": [
        "# Run this cell repeatedly to find a pair of q values that give a head\n",
        "# above and below the target (postive or negative value of obj).\n",
        "# In this case we need to work in terms of total q because qi changes depending on\n",
        "# number of wells\n",
        "\n",
        "npts_x = 15\n",
        "offset_m = 20\n",
        "q_test = 0.005\n",
        "\n",
        "rect_wells_coords = generate_well_locations_geojson(geojson_data, offset_m, npts_x)\n",
        "num_wells = len(rect_wells_coords)\n",
        "distances, grid_lat, grid_lon, grid_x, grid_y, poly_x, poly_y = build_grid(rect_wells_coords, polygon_coords)\n",
        "\n",
        "qi_test = q_test / num_wells\n",
        "h_grid = solve_heads(distances, qi_test)\n",
        "inside_mask = mask_inside_polygon(grid_x, grid_y, poly_x, poly_y)\n",
        "h_grid_inside = filter_inside_polygon(inside_mask, h_grid)\n",
        "obj = objective_function(h_grid_inside, design_head)\n",
        "print(f\"Q: {q_test}, Objective: {obj:0.2f}\")"
      ],
      "metadata": {
        "colab": {
          "base_uri": "https://localhost:8080/"
        },
        "id": "7jvu9xdoLWpR",
        "outputId": "f41955eb-bf51-4f22-dbaf-e9884ee8ea10"
      },
      "execution_count": 74,
      "outputs": [
        {
          "output_type": "stream",
          "name": "stdout",
          "text": [
            "Spacing in X: 17.657535803371243\n",
            "Spacing in Y: 18.59645642444957\n",
            "Q: 0.005, Objective: -1.27\n"
          ]
        }
      ]
    },
    {
      "cell_type": "code",
      "source": [
        "# Define inputs and solve\n",
        "\n",
        "offset_m = 20\n",
        "\n",
        "min_wells_x = 3\n",
        "max_wells_x = 15\n",
        "\n",
        "q_low = 0.001\n",
        "q_high = 0.005\n",
        "\n",
        "design_wells = []\n",
        "design_q = []\n",
        "\n",
        "for i in range(min_wells_x, max_wells_x + 1):\n",
        "  optimal_q, num_wells = opt_q_nwells(q_low, q_high, offset_m, i)\n",
        "  print(f\"Number of Wells: {num_wells}, Optimal Q: {optimal_qi}\")\n",
        "  design_wells.append(num_wells)\n",
        "  design_q.append(optimal_q)\n"
      ],
      "metadata": {
        "id": "Hm9b4FG_TdQ8",
        "colab": {
          "base_uri": "https://localhost:8080/"
        },
        "outputId": "8c6c10bf-c474-486c-9b73-044cc6680b8a"
      },
      "execution_count": 81,
      "outputs": [
        {
          "output_type": "stream",
          "name": "stdout",
          "text": [
            "Solving for nwell_x = : 3\n",
            "Spacing in X: 123.6027506235987\n",
            "Spacing in Y: 148.77165139559656\n",
            "Iteration: 0, qi_mid: 0.000500, Objective: 1.690851\n",
            "Iteration: 1, qi_mid: 0.000667, Objective: 0.519357\n",
            "Iteration: 2, qi_mid: 0.000750, Objective: -0.081126\n",
            "Iteration: 3, qi_mid: 0.000708, Objective: 0.220395\n",
            "Iteration: 4, qi_mid: 0.000729, Objective: 0.069959\n",
            "Iteration: 5, qi_mid: 0.000740, Objective: -0.005502\n",
            "Iteration: 6, qi_mid: 0.000734, Objective: 0.032249\n",
            "Iteration: 7, qi_mid: 0.000737, Objective: 0.013378\n",
            "Iteration: 8, qi_mid: 0.000738, Objective: 0.003939\n",
            "Iteration: 9, qi_mid: 0.000739, Objective: -0.000781\n",
            "Iteration: 10, qi_mid: 0.000739, Objective: 0.001579\n",
            "Iteration: 11, qi_mid: 0.000739, Objective: 0.000399\n",
            "Iteration: 12, qi_mid: 0.000739, Objective: -0.000191\n",
            "Iteration: 13, qi_mid: 0.000739, Objective: 0.000104\n",
            "Iteration: 14, qi_mid: 0.000739, Objective: -0.000043\n",
            "Optimal pumping rate found.\n",
            "Number of Wells: 6, Optimal Q: 0.000145306396484375\n",
            "Solving for nwell_x = : 4\n",
            "Spacing in X: 82.4018337490658\n",
            "Spacing in Y: 74.38582569779828\n",
            "Iteration: 0, qi_mid: 0.000300, Objective: 1.493580\n",
            "Iteration: 1, qi_mid: 0.000400, Objective: 0.247342\n",
            "Iteration: 2, qi_mid: 0.000450, Objective: -0.392602\n",
            "Iteration: 3, qi_mid: 0.000425, Objective: -0.071164\n",
            "Iteration: 4, qi_mid: 0.000412, Objective: 0.088450\n",
            "Iteration: 5, qi_mid: 0.000419, Objective: 0.008734\n",
            "Iteration: 6, qi_mid: 0.000422, Objective: -0.031192\n",
            "Iteration: 7, qi_mid: 0.000420, Objective: -0.011223\n",
            "Iteration: 8, qi_mid: 0.000420, Objective: -0.001243\n",
            "Iteration: 9, qi_mid: 0.000419, Objective: 0.003746\n",
            "Iteration: 10, qi_mid: 0.000419, Objective: 0.001251\n",
            "Iteration: 11, qi_mid: 0.000419, Objective: 0.000004\n",
            "Optimal pumping rate found.\n",
            "Number of Wells: 10, Optimal Q: 0.000145306396484375\n",
            "Solving for nwell_x = : 5\n",
            "Spacing in X: 61.80137531179935\n",
            "Spacing in Y: 74.38582569779828\n",
            "Iteration: 0, qi_mid: 0.000250, Objective: 1.477359\n",
            "Iteration: 1, qi_mid: 0.000333, Objective: 0.224948\n",
            "Iteration: 2, qi_mid: 0.000375, Objective: -0.418262\n",
            "Iteration: 3, qi_mid: 0.000354, Objective: -0.095175\n",
            "Iteration: 4, qi_mid: 0.000344, Objective: 0.065252\n",
            "Iteration: 5, qi_mid: 0.000349, Objective: -0.014870\n",
            "Iteration: 6, qi_mid: 0.000346, Objective: 0.025214\n",
            "Iteration: 7, qi_mid: 0.000348, Objective: 0.005178\n",
            "Iteration: 8, qi_mid: 0.000348, Objective: -0.004845\n",
            "Iteration: 9, qi_mid: 0.000348, Objective: 0.000167\n",
            "Iteration: 10, qi_mid: 0.000348, Objective: -0.002339\n",
            "Iteration: 11, qi_mid: 0.000348, Objective: -0.001086\n",
            "Iteration: 12, qi_mid: 0.000348, Objective: -0.000460\n",
            "Iteration: 13, qi_mid: 0.000348, Objective: -0.000146\n",
            "Iteration: 14, qi_mid: 0.000348, Objective: 0.000010\n",
            "Optimal pumping rate found.\n",
            "Number of Wells: 12, Optimal Q: 0.000145306396484375\n",
            "Solving for nwell_x = : 6\n",
            "Spacing in X: 49.44110024943948\n",
            "Spacing in Y: 49.59055046519885\n",
            "Iteration: 0, qi_mid: 0.000188, Objective: 1.427751\n",
            "Iteration: 1, qi_mid: 0.000250, Objective: 0.156432\n",
            "Iteration: 2, qi_mid: 0.000281, Objective: -0.496789\n",
            "Iteration: 3, qi_mid: 0.000266, Objective: -0.168647\n",
            "Iteration: 4, qi_mid: 0.000258, Objective: -0.005730\n",
            "Iteration: 5, qi_mid: 0.000254, Objective: 0.075445\n",
            "Iteration: 6, qi_mid: 0.000256, Objective: 0.034881\n",
            "Iteration: 7, qi_mid: 0.000257, Objective: 0.014581\n",
            "Iteration: 8, qi_mid: 0.000257, Objective: 0.004427\n",
            "Iteration: 9, qi_mid: 0.000258, Objective: -0.000651\n",
            "Iteration: 10, qi_mid: 0.000257, Objective: 0.001888\n",
            "Iteration: 11, qi_mid: 0.000258, Objective: 0.000618\n",
            "Iteration: 12, qi_mid: 0.000258, Objective: -0.000016\n",
            "Optimal pumping rate found.\n",
            "Number of Wells: 16, Optimal Q: 0.000145306396484375\n",
            "Solving for nwell_x = : 7\n",
            "Spacing in X: 41.2009168745329\n",
            "Spacing in Y: 37.19291284889914\n",
            "Iteration: 0, qi_mid: 0.000150, Objective: 1.395779\n",
            "Iteration: 1, qi_mid: 0.000200, Objective: 0.112252\n",
            "Iteration: 2, qi_mid: 0.000225, Objective: -0.547438\n",
            "Iteration: 3, qi_mid: 0.000213, Objective: -0.216029\n",
            "Iteration: 4, qi_mid: 0.000206, Objective: -0.051503\n",
            "Iteration: 5, qi_mid: 0.000203, Objective: 0.030470\n",
            "Iteration: 6, qi_mid: 0.000205, Objective: -0.010492\n",
            "Iteration: 7, qi_mid: 0.000204, Objective: 0.009995\n",
            "Iteration: 8, qi_mid: 0.000204, Objective: -0.000247\n",
            "Iteration: 9, qi_mid: 0.000204, Objective: 0.004874\n",
            "Iteration: 10, qi_mid: 0.000204, Objective: 0.002314\n",
            "Iteration: 11, qi_mid: 0.000204, Objective: 0.001033\n",
            "Iteration: 12, qi_mid: 0.000204, Objective: 0.000393\n",
            "Iteration: 13, qi_mid: 0.000204, Objective: 0.000073\n",
            "Optimal pumping rate found.\n",
            "Number of Wells: 20, Optimal Q: 0.000145306396484375\n",
            "Solving for nwell_x = : 8\n",
            "Spacing in X: 35.315071606742485\n",
            "Spacing in Y: 37.19291284889914\n",
            "Iteration: 0, qi_mid: 0.000136, Objective: 1.393264\n",
            "Iteration: 1, qi_mid: 0.000182, Objective: 0.108777\n",
            "Iteration: 2, qi_mid: 0.000205, Objective: -0.551422\n",
            "Iteration: 3, qi_mid: 0.000193, Objective: -0.219756\n",
            "Iteration: 4, qi_mid: 0.000188, Objective: -0.055104\n",
            "Iteration: 5, qi_mid: 0.000185, Objective: 0.026933\n",
            "Iteration: 6, qi_mid: 0.000186, Objective: -0.014061\n",
            "Iteration: 7, qi_mid: 0.000185, Objective: 0.006442\n",
            "Iteration: 8, qi_mid: 0.000186, Objective: -0.003808\n",
            "Iteration: 9, qi_mid: 0.000186, Objective: 0.001317\n",
            "Iteration: 10, qi_mid: 0.000186, Objective: -0.001246\n",
            "Iteration: 11, qi_mid: 0.000186, Objective: 0.000036\n",
            "Optimal pumping rate found.\n",
            "Number of Wells: 22, Optimal Q: 0.000145306396484375\n",
            "Solving for nwell_x = : 9\n",
            "Spacing in X: 30.900687655899674\n",
            "Spacing in Y: 29.754330279119312\n",
            "Iteration: 0, qi_mid: 0.000115, Objective: 1.378342\n",
            "Iteration: 1, qi_mid: 0.000154, Objective: 0.088151\n",
            "Iteration: 2, qi_mid: 0.000173, Objective: -0.575072\n",
            "Iteration: 3, qi_mid: 0.000163, Objective: -0.241879\n",
            "Iteration: 4, qi_mid: 0.000159, Objective: -0.076474\n",
            "Iteration: 5, qi_mid: 0.000156, Objective: 0.005935\n",
            "Iteration: 6, qi_mid: 0.000157, Objective: -0.035245\n",
            "Iteration: 7, qi_mid: 0.000157, Objective: -0.014649\n",
            "Iteration: 8, qi_mid: 0.000157, Objective: -0.004355\n",
            "Iteration: 9, qi_mid: 0.000156, Objective: 0.000790\n",
            "Iteration: 10, qi_mid: 0.000156, Objective: -0.001782\n",
            "Iteration: 11, qi_mid: 0.000156, Objective: -0.000496\n",
            "Iteration: 12, qi_mid: 0.000156, Objective: 0.000147\n",
            "Iteration: 13, qi_mid: 0.000156, Objective: -0.000174\n",
            "Iteration: 14, qi_mid: 0.000156, Objective: -0.000013\n",
            "Optimal pumping rate found.\n",
            "Number of Wells: 26, Optimal Q: 0.000145306396484375\n",
            "Solving for nwell_x = : 10\n",
            "Spacing in X: 27.467277916355265\n",
            "Spacing in Y: 29.754330279119312\n",
            "Iteration: 0, qi_mid: 0.000107, Objective: 1.379803\n",
            "Iteration: 1, qi_mid: 0.000143, Objective: 0.090171\n",
            "Iteration: 2, qi_mid: 0.000161, Objective: -0.572756\n",
            "Iteration: 3, qi_mid: 0.000152, Objective: -0.239712\n",
            "Iteration: 4, qi_mid: 0.000147, Objective: -0.074381\n",
            "Iteration: 5, qi_mid: 0.000145, Objective: 0.007992\n",
            "Iteration: 6, qi_mid: 0.000146, Objective: -0.033170\n",
            "Iteration: 7, qi_mid: 0.000146, Objective: -0.012583\n",
            "Iteration: 8, qi_mid: 0.000145, Objective: -0.002294\n",
            "Iteration: 9, qi_mid: 0.000145, Objective: 0.002849\n",
            "Iteration: 10, qi_mid: 0.000145, Objective: 0.000278\n",
            "Iteration: 11, qi_mid: 0.000145, Objective: -0.001008\n",
            "Iteration: 12, qi_mid: 0.000145, Objective: -0.000365\n",
            "Iteration: 13, qi_mid: 0.000145, Objective: -0.000044\n",
            "Optimal pumping rate found.\n",
            "Number of Wells: 28, Optimal Q: 0.000145306396484375\n",
            "Solving for nwell_x = : 11\n",
            "Spacing in X: 24.72055012471974\n",
            "Spacing in Y: 24.795275232599426\n",
            "Iteration: 0, qi_mid: 0.000094, Objective: 1.372618\n",
            "Iteration: 1, qi_mid: 0.000125, Objective: 0.080238\n",
            "Iteration: 2, qi_mid: 0.000141, Objective: -0.584146\n",
            "Iteration: 3, qi_mid: 0.000133, Objective: -0.250366\n",
            "Iteration: 4, qi_mid: 0.000129, Objective: -0.084672\n",
            "Iteration: 5, qi_mid: 0.000127, Objective: -0.002120\n",
            "Iteration: 6, qi_mid: 0.000126, Objective: 0.039083\n",
            "Iteration: 7, qi_mid: 0.000126, Objective: 0.018488\n",
            "Iteration: 8, qi_mid: 0.000127, Objective: 0.008186\n",
            "Iteration: 9, qi_mid: 0.000127, Objective: 0.003033\n",
            "Iteration: 10, qi_mid: 0.000127, Objective: 0.000457\n",
            "Iteration: 11, qi_mid: 0.000127, Objective: -0.000832\n",
            "Iteration: 12, qi_mid: 0.000127, Objective: -0.000187\n",
            "Iteration: 13, qi_mid: 0.000127, Objective: 0.000135\n",
            "Iteration: 14, qi_mid: 0.000127, Objective: -0.000026\n",
            "Optimal pumping rate found.\n",
            "Number of Wells: 32, Optimal Q: 0.000145306396484375\n",
            "Solving for nwell_x = : 12\n",
            "Spacing in X: 22.473227386108853\n",
            "Spacing in Y: 21.253093056513794\n",
            "Iteration: 0, qi_mid: 0.000083, Objective: 1.368064\n",
            "Iteration: 1, qi_mid: 0.000111, Objective: 0.073943\n",
            "Iteration: 2, qi_mid: 0.000125, Objective: -0.591365\n",
            "Iteration: 3, qi_mid: 0.000118, Objective: -0.257119\n",
            "Iteration: 4, qi_mid: 0.000115, Objective: -0.091196\n",
            "Iteration: 5, qi_mid: 0.000113, Objective: -0.008529\n",
            "Iteration: 6, qi_mid: 0.000112, Objective: 0.032731\n",
            "Iteration: 7, qi_mid: 0.000112, Objective: 0.012107\n",
            "Iteration: 8, qi_mid: 0.000113, Objective: 0.001791\n",
            "Iteration: 9, qi_mid: 0.000113, Objective: -0.003369\n",
            "Iteration: 10, qi_mid: 0.000113, Objective: -0.000789\n",
            "Iteration: 11, qi_mid: 0.000113, Objective: 0.000501\n",
            "Iteration: 12, qi_mid: 0.000113, Objective: -0.000144\n",
            "Iteration: 13, qi_mid: 0.000113, Objective: 0.000178\n",
            "Iteration: 14, qi_mid: 0.000113, Objective: 0.000017\n",
            "Optimal pumping rate found.\n",
            "Number of Wells: 36, Optimal Q: 0.000145306396484375\n",
            "Solving for nwell_x = : 13\n",
            "Spacing in X: 20.60045843726645\n",
            "Spacing in Y: 21.253093056513794\n",
            "Iteration: 0, qi_mid: 0.000079, Objective: 1.370594\n",
            "Iteration: 1, qi_mid: 0.000105, Objective: 0.077441\n",
            "Iteration: 2, qi_mid: 0.000118, Objective: -0.587354\n",
            "Iteration: 3, qi_mid: 0.000112, Objective: -0.253367\n",
            "Iteration: 4, qi_mid: 0.000109, Objective: -0.087571\n",
            "Iteration: 5, qi_mid: 0.000107, Objective: -0.004968\n",
            "Iteration: 6, qi_mid: 0.000106, Objective: 0.036260\n",
            "Iteration: 7, qi_mid: 0.000106, Objective: 0.015652\n",
            "Iteration: 8, qi_mid: 0.000107, Objective: 0.005344\n",
            "Iteration: 9, qi_mid: 0.000107, Objective: 0.000188\n",
            "Iteration: 10, qi_mid: 0.000107, Objective: -0.002390\n",
            "Iteration: 11, qi_mid: 0.000107, Objective: -0.001101\n",
            "Iteration: 12, qi_mid: 0.000107, Objective: -0.000456\n",
            "Iteration: 13, qi_mid: 0.000107, Objective: -0.000134\n",
            "Iteration: 14, qi_mid: 0.000107, Objective: 0.000027\n",
            "Optimal pumping rate found.\n",
            "Number of Wells: 38, Optimal Q: 0.000145306396484375\n",
            "Solving for nwell_x = : 14\n",
            "Spacing in X: 19.015807788245954\n",
            "Spacing in Y: 18.59645642444957\n",
            "Iteration: 0, qi_mid: 0.000071, Objective: 1.367242\n",
            "Iteration: 1, qi_mid: 0.000095, Objective: 0.072806\n",
            "Iteration: 2, qi_mid: 0.000107, Objective: -0.592669\n",
            "Iteration: 3, qi_mid: 0.000101, Objective: -0.258338\n",
            "Iteration: 4, qi_mid: 0.000098, Objective: -0.092373\n",
            "Iteration: 5, qi_mid: 0.000097, Objective: -0.009686\n",
            "Iteration: 6, qi_mid: 0.000096, Objective: 0.031584\n",
            "Iteration: 7, qi_mid: 0.000096, Objective: 0.010955\n",
            "Iteration: 8, qi_mid: 0.000097, Objective: 0.000636\n",
            "Iteration: 9, qi_mid: 0.000097, Objective: -0.004525\n",
            "Iteration: 10, qi_mid: 0.000097, Objective: -0.001944\n",
            "Iteration: 11, qi_mid: 0.000097, Objective: -0.000654\n",
            "Iteration: 12, qi_mid: 0.000097, Objective: -0.000009\n",
            "Optimal pumping rate found.\n",
            "Number of Wells: 42, Optimal Q: 0.000145306396484375\n",
            "Solving for nwell_x = : 15\n",
            "Spacing in X: 17.657535803371243\n",
            "Spacing in Y: 18.59645642444957\n",
            "Iteration: 0, qi_mid: 0.000068, Objective: 1.369508\n",
            "Iteration: 1, qi_mid: 0.000091, Objective: 0.075939\n",
            "Iteration: 2, qi_mid: 0.000102, Objective: -0.589076\n",
            "Iteration: 3, qi_mid: 0.000097, Objective: -0.254977\n",
            "Iteration: 4, qi_mid: 0.000094, Objective: -0.089127\n",
            "Iteration: 5, qi_mid: 0.000092, Objective: -0.006496\n",
            "Iteration: 6, qi_mid: 0.000092, Objective: 0.034746\n",
            "Iteration: 7, qi_mid: 0.000092, Objective: 0.014131\n",
            "Iteration: 8, qi_mid: 0.000092, Objective: 0.003819\n",
            "Iteration: 9, qi_mid: 0.000092, Objective: -0.001339\n",
            "Iteration: 10, qi_mid: 0.000092, Objective: 0.001240\n",
            "Iteration: 11, qi_mid: 0.000092, Objective: -0.000049\n",
            "Optimal pumping rate found.\n",
            "Number of Wells: 44, Optimal Q: 0.000145306396484375\n"
          ]
        }
      ]
    },
    {
      "cell_type": "code",
      "source": [
        "# Convert design_q array from meters cubed per second to gallons per minute\n",
        "design_q_gpm = [q * 15850.3 for q in design_q]\n",
        "\n",
        "# Plot results\n",
        "plt.figure(figsize=(10, 6))\n",
        "plt.plot(design_wells, design_q_gpm, marker='o', linestyle='-')\n",
        "plt.xlabel('Number of Wells (Total)')\n",
        "plt.ylabel('Optimal Q (gal/min)')\n",
        "plt.title('Optimal Q vs Number of Wells')\n",
        "plt.grid(True)\n",
        "plt.show()"
      ],
      "metadata": {
        "colab": {
          "base_uri": "https://localhost:8080/",
          "height": 564
        },
        "id": "9DW-5YrlS2qk",
        "outputId": "6bcd53bf-3582-459b-b6e0-c36adc9e00a0"
      },
      "execution_count": 86,
      "outputs": [
        {
          "output_type": "display_data",
          "data": {
            "text/plain": [
              "<Figure size 1000x600 with 1 Axes>"
            ],
            "image/png": "[encoded data removed]"
          },
          "metadata": {}
        }
      ]
    },
    {
      "cell_type": "code",
      "source": [],
      "metadata": {
        "id": "FVdL0InUVwj7"
      },
      "execution_count": null,
      "outputs": []
    }
  ]
}