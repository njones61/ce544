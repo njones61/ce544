{
  "nbformat": 4,
  "nbformat_minor": 0,
  "metadata": {
    "colab": {
      "provenance": [],
      "toc_visible": true,
      "authorship_tag": "ABX9TyMmt4In1VgC9pNEtog8HoTG",
      "include_colab_link": true
    },
    "kernelspec": {
      "name": "python3",
      "display_name": "Python 3"
    },
    "language_info": {
      "name": "python"
    }
  },
  "cells": [
    {
      "cell_type": "markdown",
      "metadata": {
        "id": "view-in-github",
        "colab_type": "text"
      },
      "source": [
        "<a href=\"https://colab.research.google.com/github/njones61/ce544/blob/main/docs/unit1/09_dewatering/dewatering.ipynb\" target=\"_parent\"><img src=\"https://colab.research.google.com/assets/colab-badge.svg\" alt=\"Open In Colab\"/></a>"
      ]
    },
    {
      "cell_type": "markdown",
      "source": [
        "# Construction Dewatering\n",
        "\n",
        "This notebook is used to design dewatering systems for excavations in unconfined aquifers. It uses well equations to calculate the drawdown for a series of dewatering wells. The excavation size and location are specified using GeoJSON file. The dewatering algorithm and the steps involved in using this notebook are documented here:\n",
        "\n",
        "https://byu-ce544.readthedocs.io/en/latest/unit1/09_dewatering/dewatering_class/\n",
        "\n",
        "This notebook can be used to simulate drawdown from construction dewatering at any location using a GEOJSON file to define the excavation. It assumes a simple unconfined aquifer underlain by an impermeable layer."
      ],
      "metadata": {
        "id": "ZEESBF8AKU6f"
      }
    },
    {
      "cell_type": "markdown",
      "source": [
        "# Part 1 - Setup\n",
        "\n",
        "In this section we import the packages we will need, upload the excavation polygon, and manually create some well locations to analyze."
      ],
      "metadata": {
        "id": "ALv9zGm0qwlY"
      }
    },
    {
      "cell_type": "code",
      "source": [
        "%%capture\n",
        "!pip install geopandas\n",
        "!pip install ipyleaflet"
      ],
      "metadata": {
        "id": "LiqjWt4HFwCI"
      },
      "execution_count": null,
      "outputs": []
    },
    {
      "cell_type": "code",
      "execution_count": null,
      "metadata": {
        "id": "BcN05WzKEhpH"
      },
      "outputs": [],
      "source": [
        "from ipyleaflet import Map, Polygon, Marker, DrawControl, GeoJSON, LayerGroup\n",
        "from ipywidgets import HTML\n",
        "import geopandas as gpd\n",
        "import numpy as np\n",
        "import matplotlib.pyplot as plt\n",
        "from matplotlib import cm\n",
        "from scipy.interpolate import griddata\n",
        "import pyproj\n",
        "from shapely.geometry import shape, Point, Polygon\n"
      ]
    },
    {
      "cell_type": "code",
      "source": [
        "# Upload GEOJSON file\n",
        "from google.colab import files\n",
        "uploaded = files.upload()\n",
        "\n",
        "# get name of uploaded file\n",
        "file_name = list(uploaded.keys())[0]"
      ],
      "metadata": {
        "id": "EaHzaKSoGEGy"
      },
      "execution_count": null,
      "outputs": []
    },
    {
      "cell_type": "code",
      "source": [
        "# Load GEOJSON for Polygon and extract coordinates\n",
        "geojson_file = file_name  # path to your GEOJSON file\n",
        "polygon_data = gpd.read_file(geojson_file)\n",
        "geojson_data = polygon_data.__geo_interface__\n",
        "polygon_coords = list(polygon_data.geometry[0].exterior.coords)  # Extract exterior coords\n",
        "\n",
        "# swap the orders of the pairs in polygon_coords\n",
        "polygon_coords = [(y, x) for x, y in polygon_coords]\n",
        "polygon_coords"
      ],
      "metadata": {
        "id": "AtPtG_nKE3y9"
      },
      "execution_count": null,
      "outputs": []
    },
    {
      "cell_type": "code",
      "source": [
        "# Create a polygon using the polygon_coords and add it to an ipyleaflet map\n",
        "\n",
        "polygon = GeoJSON(\n",
        "    data=geojson_data,\n",
        "    style={\n",
        "        'color': 'blue',\n",
        "        'fillColor': 'gray',\n",
        "        'fillOpacity': 0.2,\n",
        "        'weight': 2\n",
        "    }\n",
        ")\n",
        "\n",
        "center = [polygon_data.geometry[0].centroid.y, polygon_data.geometry[0].centroid.x]\n",
        "m = Map(center=center, zoom=18)\n",
        "m.add(polygon)\n",
        "\n",
        "# Create a DrawControl for user to click and add markers\n",
        "draw_control = DrawControl(marker={\"shapeOptions\": {\"color\": \"#0000FF\"}})\n",
        "\n",
        "# Store marker coordinates\n",
        "marker_coords = []\n",
        "\n",
        "# Function to add markers and store their coordinates\n",
        "def handle_marker(event=None, action=None, geo_json=None):\n",
        "    if action == 'created' and geo_json['geometry']['type'] == 'Point':\n",
        "        lat, lng = geo_json['geometry']['coordinates'][1], geo_json['geometry']['coordinates'][0]\n",
        "        marker_coords.append((lat, lng))  # Store each marker's coordinates\n",
        "        marker = Marker(location=(lat, lng), draggable=False)\n",
        "        m.add_layer(marker)\n",
        "\n",
        "# Attach the marker handler to draw control\n",
        "draw_control.on_draw(handle_marker)\n",
        "m.add_control(draw_control)\n",
        "\n",
        "# Display map\n",
        "m"
      ],
      "metadata": {
        "id": "xprD7tLIeK1E"
      },
      "execution_count": null,
      "outputs": []
    },
    {
      "cell_type": "markdown",
      "source": [
        "**Note**: At this point you can use the point tool in the map tools on the left to create a set of points corresponding to the well locations. They should be created outside of the footprint of the excavation."
      ],
      "metadata": {
        "id": "BCTtG6sklYNA"
      }
    },
    {
      "cell_type": "code",
      "source": [
        "# OPTIONAL - Delete the markers from the map\n",
        "for marker in m.layers[2:]:\n",
        "    m.remove_layer(marker)\n",
        "marker_coords = []"
      ],
      "metadata": {
        "id": "W8s9TeI7h15b"
      },
      "execution_count": null,
      "outputs": []
    },
    {
      "cell_type": "code",
      "source": [
        "# Run this to make sure the points are correctly registered for the wells\n",
        "\n",
        "nw = len(marker_coords) #count the number of wells\n",
        "print(f\"Number of Wells: {nw}\")\n",
        "marker_coords"
      ],
      "metadata": {
        "id": "LDLb_lLXhqxU"
      },
      "execution_count": null,
      "outputs": []
    },
    {
      "cell_type": "markdown",
      "source": [
        "# Part 2 - Drawdown Calculations\n",
        "\n",
        "In this section we define our properties and variables, solve for the heads resulting from the wells created in the previous section, and plot the results."
      ],
      "metadata": {
        "id": "gwECvy1s2Atk"
      }
    },
    {
      "cell_type": "code",
      "source": [
        "# Define functions for this section\n",
        "\n",
        "def sum_well_h(r, qi):\n",
        "  return np.sqrt(H**2 - (1/(np.pi*k))*np.sum(qi*np.log(R/r)))\n",
        "\n",
        "def solve_heads(distances, qi):\n",
        "  return np.apply_along_axis(sum_well_h, 0, distances, qi)\n",
        "\n",
        "def build_grid(well_coords, poly_coords):\n",
        "\n",
        "  # Create grid of points\n",
        "  cushion = 0.3 # Fraction of distance to add to each side when creating grid\n",
        "  num_points = 100  # Modify for resolution\n",
        "\n",
        "  well_lats, well_lons = zip(*well_coords)\n",
        "  poly_lats, poly_lons = zip(*poly_coords)\n",
        "  latitudes = list(well_lats) + list(poly_lats)\n",
        "  longitudes = list(well_lons) + list(poly_lons)\n",
        "  lat_range = max(latitudes) - min(latitudes)\n",
        "  lon_range = max(longitudes) - min(longitudes)\n",
        "  lat_cushion = lat_range * cushion\n",
        "  lon_cushion = lon_range * cushion\n",
        "  min_lat = min(latitudes) - lat_cushion\n",
        "  max_lat = max(latitudes) + lat_cushion\n",
        "  min_lon = min(longitudes) - lon_cushion\n",
        "  max_lon = max(longitudes) + lon_cushion\n",
        "\n",
        "  grid_lat = np.linspace(min_lat, max_lat, num_points)\n",
        "  grid_lon = np.linspace(min_lon, max_lon, num_points)\n",
        "  grid_lat, grid_lon = np.meshgrid(grid_lat, grid_lon)\n",
        "\n",
        "  # Transform from lat/lon to x, y coordinates in meters\n",
        "  transformer = pyproj.Transformer.from_crs(\"epsg:4326\", \"epsg:3857\")\n",
        "  poly_x, poly_y = transformer.transform(poly_lats, poly_lons)\n",
        "  grid_x, grid_y = transformer.transform(grid_lat, grid_lon)\n",
        "  wells_x, wells_y = transformer.transform(well_lats, well_lons)\n",
        "\n",
        "  # Convert wells_x and wells_y to NumPy arrays\n",
        "  wells_x = np.array(wells_x)\n",
        "  wells_y = np.array(wells_y)\n",
        "\n",
        "  # Reshape wells_x and wells_y to be compatible with broadcasting\n",
        "  wells_x = wells_x[:, np.newaxis, np.newaxis]  # Shape: (nw, 1, 1)\n",
        "  wells_y = wells_y[:, np.newaxis, np.newaxis]  # Shape: (nw, 1, 1)\n",
        "\n",
        "  # Calculating Distances: The distances array will now have shape (nw, 100, 100), representing the\n",
        "  # distances from each of the nw wells to each point on the 100x100 grid.\n",
        "  distances = np.sqrt((grid_x[np.newaxis, ...] - wells_x)**2 + (grid_y[np.newaxis, ...] - wells_y)**2)\n",
        "\n",
        "  return distances, grid_lat, grid_lon, grid_x, grid_y, poly_x, poly_y\n",
        "\n",
        "def contour_plot(heads, well_coords, poly_coords, binary=False, binary_value=0):\n",
        "  # Plot contours using matplotlib\n",
        "  plt.figure(figsize=(12, 4))\n",
        "\n",
        "  # Approximate aspect ratio adjustment\n",
        "  average_lat = np.mean([lat for lat, lon in poly_coords])  # Find the average latitude\n",
        "  plt.gca().set_aspect(1 / np.cos(np.radians(average_lat)))\n",
        "\n",
        "\n",
        "  # if binary = True, use two color bands, one above binary value and one below, otherwise use defaults\n",
        "  if binary:\n",
        "    # Find the minimum and maximum values in heads, excluding NaN and Inf\n",
        "    valid_values = heads[np.isfinite(heads)]\n",
        "    min_val = np.min(valid_values)\n",
        "    max_val = np.max(valid_values)\n",
        "\n",
        "    # Ensure binary_value is within the range of valid values\n",
        "    binary_value = np.clip(binary_value, min_val, max_val)\n",
        "\n",
        "    # Adjust levels based on binary_value and data range\n",
        "    levels = [min_val, binary_value, max_val]\n",
        "    plt.contourf(grid_lon, grid_lat, heads, levels=levels, colors=['red', 'blue'], extend='both')\n",
        "  else:\n",
        "    plt.contourf(grid_lon, grid_lat, heads, cmap=cm.viridis)\n",
        "\n",
        "  plt.colorbar(label='Computed Values')\n",
        "  plt.xlabel('Longitude')\n",
        "  plt.ylabel('Latitude')\n",
        "\n",
        "\n",
        "\n",
        "  well_lats, well_lons = zip(*well_coords)\n",
        "  poly_lats, poly_lons = zip(*poly_coords)\n",
        "\n",
        "  # add the marker_coords to the map as scatter points\n",
        "  plt.scatter(well_lons, well_lats, color='red', marker='o', s=100)\n",
        "\n",
        "  # add the poly_coords to the map as dashed lines\n",
        "  plt.plot(poly_lons, poly_lats, color='black', linestyle='--', linewidth=2)\n",
        "\n",
        "  plt.show()\n",
        "\n",
        "def mask_inside_polygon(grid_x, grid_y, poly_x, poly_y):\n",
        "  # build a mask marking cells inside the excavation polygon\n",
        "  poly_coords_shapely = Polygon(list(zip(poly_x, poly_y)))\n",
        "  num_points = len(grid_x[0])\n",
        "  grid_points = [Point(grid_x[i][j], grid_y[i][j]) for i in range(num_points) for j in range(num_points)]\n",
        "  inside_poly = [poly_coords_shapely.contains(grid_points[i]) for i in range(num_points * num_points)]\n",
        "  inside_poly = np.array(inside_poly).reshape(num_points, num_points)\n",
        "  return inside_poly\n",
        "\n",
        "def filter_inside_polygon(mask, h_grid):\n",
        "  # use the inside_poly results to create a filter of h_grid so that all values outside of poly are nans\n",
        "  return np.where(mask, h_grid, np.nan)\n",
        "\n"
      ],
      "metadata": {
        "id": "7BqVIuzjUMFc"
      },
      "execution_count": null,
      "outputs": []
    },
    {
      "cell_type": "code",
      "source": [
        "#@markdown ### **Enter variables used in analysis**\n",
        "#@markdown Enter k in [cm/s], everything else in [m]\n",
        "\n",
        "k_cms = 5e-4 #@param\n",
        "k = k_cms / 100 #m/sec\n",
        "\n",
        "H = 50 #@param\n",
        "R = 500 #@param\n",
        "\n",
        "design_head = 35 #@param\n",
        "\n",
        "total_Q = 0.015 #@param\n",
        "qi = total_Q / nw # m^3/sec"
      ],
      "metadata": {
        "id": "pVHeBjQH0JbK"
      },
      "execution_count": null,
      "outputs": []
    },
    {
      "cell_type": "code",
      "source": [
        "# Build a grid that surrounds the excvation and calculate the heads on the grid resulting from the pumping\n",
        "# from the wells defined on the map above.\n",
        "\n",
        "# distances has a shape of (nw, 100, 100). Call the h function for all values\n",
        "# of nw to return a (100, 100) set of results in h_grid\n",
        "\n",
        "distances, grid_lat, grid_lon, grid_x, grid_y, poly_x, poly_y = build_grid(marker_coords, polygon_coords)\n",
        "\n",
        "#h_grid = np.apply_along_axis(sum_well_h, 0, distances)\n",
        "h_grid = solve_heads(distances, qi)\n"
      ],
      "metadata": {
        "id": "LgUNx2u1L70m"
      },
      "execution_count": null,
      "outputs": []
    },
    {
      "cell_type": "code",
      "source": [
        "contour_plot(h_grid, marker_coords, polygon_coords)\n"
      ],
      "metadata": {
        "id": "2I-dJD1ZHaR4"
      },
      "execution_count": null,
      "outputs": []
    },
    {
      "cell_type": "code",
      "source": [
        "# Filter the head values that are inside the excavation.\n",
        "inside_mask = mask_inside_polygon(grid_x, grid_y, poly_x, poly_y)\n",
        "h_grid_inside = filter_inside_polygon(inside_mask, h_grid)\n"
      ],
      "metadata": {
        "id": "ehgywsrgPJdG"
      },
      "execution_count": null,
      "outputs": []
    },
    {
      "cell_type": "code",
      "source": [
        "# print the max value of h_grid_inside\n",
        "print(f\"Max value of h_grid_inside: {np.nanmax(h_grid_inside)}\")"
      ],
      "metadata": {
        "id": "3rEq_2Sy2kQ9"
      },
      "execution_count": null,
      "outputs": []
    },
    {
      "cell_type": "code",
      "source": [
        "# Plot the heads inside the excavation\n",
        "contour_plot(h_grid_inside, marker_coords, polygon_coords)"
      ],
      "metadata": {
        "id": "sF13FmndzJHm"
      },
      "execution_count": null,
      "outputs": []
    },
    {
      "cell_type": "code",
      "source": [
        "# Create a new head array which is the h_grid minus design_head. Negative values indicate\n",
        "# depth below the bottom of the excavation.\n",
        "h_grid_new = h_grid_inside - design_head\n",
        "\n",
        "contour_plot(h_grid_new, marker_coords, polygon_coords)"
      ],
      "metadata": {
        "id": "z0RgpDiy3jLg"
      },
      "execution_count": null,
      "outputs": []
    },
    {
      "cell_type": "code",
      "source": [
        "# Create a depth below grid for the entire domain and then do a binary plot where\n",
        "# values below a given depth are marked in red. This can graphically show where\n",
        "# the dewatering objective has been met.\n",
        "\n",
        "h_split = h_grid-design_head\n",
        "\n",
        "cushion = 0  # Optional - extra depth for a factor of safety\n",
        "\n",
        "contour_plot(h_split,marker_coords, polygon_coords, binary=True, binary_value=-cushion)"
      ],
      "metadata": {
        "id": "YeXlcXoS48Tq"
      },
      "execution_count": null,
      "outputs": []
    },
    {
      "cell_type": "markdown",
      "source": [
        "# Part 3 - Rectangular Well System Design\n",
        "\n",
        "In this section we will generate a set of wells along a rectangle that is offset from the bounding box of the excavation, redo the head calculations, and plot the results."
      ],
      "metadata": {
        "id": "QnjuT4UDSPY_"
      }
    },
    {
      "cell_type": "code",
      "source": [
        "# Define functions for this section\n",
        "\n",
        "def parse_geojson(geojson_data):\n",
        "    # Parse GeoJSON to extract polygon coordinates\n",
        "    geo_shape = shape(geojson_data['features'][0]['geometry'])\n",
        "    if isinstance(geo_shape, Polygon):\n",
        "        return list(geo_shape.exterior.coords)\n",
        "    else:\n",
        "        raise ValueError(\"GeoJSON does not contain a polygon.\")\n",
        "\n",
        "def project_coordinates(coords, transformer):\n",
        "    # Project lat/lon to meters\n",
        "    projected = []\n",
        "    for lon, lat in coords:\n",
        "        try:\n",
        "            x, y = transformer.transform(lon, lat)\n",
        "            projected.append((x, y))\n",
        "        except Exception as e:\n",
        "            print(f\"Error projecting coordinate ({lat}, {lon}): {e}\")\n",
        "            projected.append((float('inf'), float('inf')))\n",
        "    return projected\n",
        "\n",
        "def generate_well_locations_geojson(geojson_data, offset_m, npts_x):\n",
        "\n",
        "    from pyproj import Transformer\n",
        "\n",
        "    # Step 1: Parse GeoJSON and get polygon coordinates\n",
        "    polygon_coords = parse_geojson(geojson_data)\n",
        "\n",
        "    #print(\"Parsed Coordinates (Lat/Lon):\", polygon_coords)\n",
        "\n",
        "    # Step 2: Set up a general-purpose transformer (EPSG:3857)\n",
        "    transformer = Transformer.from_crs(\"EPSG:4326\", \"EPSG:3857\", always_xy=True)\n",
        "    inverse_transformer = Transformer.from_crs(\"EPSG:3857\", \"EPSG:4326\", always_xy=True)\n",
        "\n",
        "    # Project polygon to meters\n",
        "    projected_polygon = project_coordinates(polygon_coords, transformer)\n",
        "    #print(\"Projected Coordinates (Meters):\", projected_polygon)\n",
        "\n",
        "    # Ensure there are valid projected coordinates\n",
        "    if any(x == float('inf') or y == float('inf') for x, y in projected_polygon):\n",
        "        raise ValueError(\"Projection failed for some coordinates. Please check input data and projection settings.\")\n",
        "\n",
        "    # Step 3: Compute bounding box in meters\n",
        "    x_coords, y_coords = zip(*projected_polygon)\n",
        "    min_x, max_x = min(x_coords), max(x_coords)\n",
        "    min_y, max_y = min(y_coords), max(y_coords)\n",
        "    #print(\"Bounding Box (Meters):\", min_x, max_x, min_y, max_y)\n",
        "\n",
        "    # Step 4: Expand the bounding box by the offset in meters\n",
        "    min_x -= offset_m\n",
        "    max_x += offset_m\n",
        "    min_y -= offset_m\n",
        "    max_y += offset_m\n",
        "\n",
        "    # Step 5: Generate well locations along the expanded bounding box\n",
        "    wells = []\n",
        "\n",
        "    # Calculate spacing for east-west points\n",
        "    spacing_x = (max_x - min_x) / (npts_x - 1)\n",
        "\n",
        "    # Calculate the number of points in the north-south direction\n",
        "    npts_y = int(round((max_y - min_y) / spacing_x)) + 1\n",
        "    spacing_y = (max_y - min_y) / (npts_y - 1)\n",
        "\n",
        "    print(f\"Spacing in X: {spacing_x}\")\n",
        "    print(f\"Spacing in Y: {spacing_y}\")\n",
        "\n",
        "    # Generate points along the bottom (south) edge\n",
        "    for i in range(npts_x):\n",
        "        x = min_x + i * spacing_x\n",
        "        wells.append((x, min_y))\n",
        "\n",
        "    # Generate points along the right (east) edge\n",
        "    for i in range(1, npts_y - 1):  # Avoid corners\n",
        "        y = min_y + i * spacing_y\n",
        "        wells.append((max_x, y))\n",
        "\n",
        "    # Generate points along the top (north) edge\n",
        "    for i in range(npts_x):\n",
        "        x = max_x - i * spacing_x\n",
        "        wells.append((x, max_y))\n",
        "\n",
        "    # Generate points along the left (west) edge\n",
        "    for i in range(1, npts_y - 1):  # Avoid corners\n",
        "        y = max_y - i * spacing_y\n",
        "        wells.append((min_x, y))\n",
        "\n",
        "    # Step 6: Convert well coordinates back to lat/lon\n",
        "    well_coords_latlon = [(inverse_transformer.transform(x, y)) for x, y in wells]\n",
        "\n",
        "    # Step 7: Reverse the order (x vs y) for the lat/lon coords\n",
        "    well_coords_latlon = [(y, x) for x, y in well_coords_latlon]\n",
        "\n",
        "    return well_coords_latlon"
      ],
      "metadata": {
        "id": "9tV_dmjFSfd_"
      },
      "execution_count": null,
      "outputs": []
    },
    {
      "cell_type": "code",
      "source": [
        "# Generate a rectangular set of wells based on an offset distance from the edge\n",
        "# of the excavation and a number of wells along the x-direction. Spacing in the\n",
        "# y-direction is adjused to match\n",
        "\n",
        "offset_m = 15\n",
        "npts_x = 8\n",
        "\n",
        "rect_wells_coords = generate_well_locations_geojson(geojson_data, offset_m, npts_x)\n",
        "\n",
        "num_wells = len(rect_wells_coords)\n",
        "print(f\"Number of Wells: {num_wells}\")"
      ],
      "metadata": {
        "id": "zU1mAuRlT56P"
      },
      "execution_count": null,
      "outputs": []
    },
    {
      "cell_type": "code",
      "source": [
        "# Solve for the head using the rectangular ring of wells\n",
        "\n",
        "qi = total_Q / num_wells\n",
        "distances, grid_lat, grid_lon, grid_x, grid_y, poly_x, poly_y = build_grid(rect_wells_coords, polygon_coords)\n",
        "h_grid = solve_heads(distances, qi)"
      ],
      "metadata": {
        "id": "R2mpkwiHZIpd"
      },
      "execution_count": null,
      "outputs": []
    },
    {
      "cell_type": "code",
      "source": [
        "contour_plot(h_grid, rect_wells_coords, polygon_coords)"
      ],
      "metadata": {
        "id": "MBMzTVMccQaR"
      },
      "execution_count": null,
      "outputs": []
    },
    {
      "cell_type": "markdown",
      "source": [
        "# Part 4 - Pumping Rate Optimization\n",
        "\n",
        "In this section, we use the rectangular well design from the previous section and optimize the pumping rate so that the resulting heads are just below the design depth."
      ],
      "metadata": {
        "id": "CKFXwQwqsBKf"
      }
    },
    {
      "cell_type": "code",
      "source": [
        "# Define functions for this section.\n",
        "\n",
        "def objective_function(h_grid_inside, design_head):\n",
        "  # find the max value in h_grid_inside, but ignore nans\n",
        "  h_grid_nonans = h_grid_inside[~np.isnan(h_grid_inside)]\n",
        "  max_h = np.max(h_grid_nonans)\n",
        "  diff = max_h - design_head\n",
        "  return diff # Should be zero if max head in excavation is right at the bottom\n",
        "\n",
        "def optimize_pumping_rate_bisection(qi_low, qi_high, distances, tolerance=0.0001, max_iterations=100):\n",
        "    \"\"\"\n",
        "    Optimize qi using the bisection method.\n",
        "\n",
        "    Args:\n",
        "        qi_low: Lower bound for pumping rate.\n",
        "        qi_high: Upper bound for pumping rate.\n",
        "        distances: Array of distances for simulation.\n",
        "        tolerance: Acceptable difference between target and actual head.\n",
        "        max_iterations: Maximum number of iterations.\n",
        "\n",
        "    Returns:\n",
        "        Optimal pumping rate (qi).\n",
        "    \"\"\"\n",
        "    inside_mask = mask_inside_polygon(grid_x, grid_y, poly_x, poly_y)\n",
        "\n",
        "    for iteration in range(max_iterations):\n",
        "        qi_mid = (qi_low + qi_high) / 2\n",
        "        h_grid = solve_heads(distances, qi_mid)\n",
        "        h_grid_inside = filter_inside_polygon(inside_mask, h_grid)\n",
        "        obj = objective_function(h_grid_inside, design_head)\n",
        "\n",
        "        print(f\"Iteration: {iteration}, qi_mid: {qi_mid:.6f}, Objective: {obj:.6f}\")\n",
        "\n",
        "        if np.abs(obj) < tolerance:\n",
        "            print(\"Optimal pumping rate found.\")\n",
        "            return qi_mid\n",
        "\n",
        "        if obj < 0:\n",
        "            qi_high = qi_mid  # Reduce the upper bound\n",
        "        else:\n",
        "            qi_low = qi_mid   # Increase the lower bound\n",
        "\n",
        "    print(\"Optimization did not converge within the maximum number of iterations.\")\n",
        "    return (qi_low + qi_high) / 2"
      ],
      "metadata": {
        "id": "7pVD3OnheheU"
      },
      "execution_count": null,
      "outputs": []
    },
    {
      "cell_type": "code",
      "source": [
        "# Setup - run this in prep for next cell\n",
        "distances, grid_lat, grid_lon, grid_x, grid_y, poly_x, poly_y = build_grid(rect_wells_coords, polygon_coords)\n",
        "inside_mask = mask_inside_polygon(grid_x, grid_y, poly_x, poly_y)"
      ],
      "metadata": {
        "id": "tTbxEpWNNmL4"
      },
      "execution_count": null,
      "outputs": []
    },
    {
      "cell_type": "code",
      "source": [
        "# Run this cell repeatedly to find a pair of q values that give a head\n",
        "# above and below the target (postive or negative value of obj).\n",
        "\n",
        "q_test = 0.008\n",
        "\n",
        "qi_test = q_test / num_wells\n",
        "h_grid = solve_heads(distances, qi_test)\n",
        "h_grid_inside = filter_inside_polygon(inside_mask, h_grid)\n",
        "obj = objective_function(h_grid_inside, design_head)\n",
        "print(f\"Qi: {q_test}, Objective: {obj:0.2f}\")"
      ],
      "metadata": {
        "id": "-5DL_gOsM8kw"
      },
      "execution_count": null,
      "outputs": []
    },
    {
      "cell_type": "code",
      "source": [
        "# Use the two q values found in previous cell to initialize the solver and find optimal q\n",
        "\n",
        "q_low = 0.008     # for positive result\n",
        "q_high = 0.02    # for negative result\n",
        "\n",
        "qi_low = q_low / num_wells\n",
        "qi_high = q_high / num_wells\n",
        "optimal_qi = optimize_pumping_rate_bisection(qi_low, qi_high, distances)\n",
        "optimal_q = optimal_qi * num_wells\n",
        "print(f\"Optimal q: {optimal_q}\")"
      ],
      "metadata": {
        "id": "JNewCA2rCvZL"
      },
      "execution_count": null,
      "outputs": []
    },
    {
      "cell_type": "code",
      "source": [
        "h_grid = solve_heads(distances, optimal_qi)\n",
        "inside_mask = mask_inside_polygon(grid_x, grid_y, poly_x, poly_y)\n",
        "h_grid_inside = filter_inside_polygon(inside_mask, h_grid)\n",
        "\n",
        "contour_plot(h_grid_inside, rect_wells_coords, polygon_coords)"
      ],
      "metadata": {
        "id": "OZ82o9pnG4G4"
      },
      "execution_count": null,
      "outputs": []
    },
    {
      "cell_type": "code",
      "source": [
        "# Print final total design Q\n",
        "q_total = optimal_qi * num_wells\n",
        "print(f\"Total pumping rate: {q_total:.5f} m^3/sec\")\n",
        "\n",
        "q_total_gpm = q_total * 15850.3\n",
        "print(f\"Total pumping rate: {q_total_gpm:.1f} gpm\")"
      ],
      "metadata": {
        "id": "RvMGK7tXEPF_"
      },
      "execution_count": null,
      "outputs": []
    },
    {
      "cell_type": "markdown",
      "source": [
        "# Part 5 - Q vs NumWells Design Curve\n",
        "\n",
        "In this section we will iterate and find the optimal Q for a range of well designs and plot the results. Specifically, we will vary the number of wells along the length of each side of the rectangle. This could be used to determine the point when adding more wells is not worth the extra cost."
      ],
      "metadata": {
        "id": "M9P3-R1lJ7x_"
      }
    },
    {
      "cell_type": "code",
      "source": [
        "# Define functions used in this section\n",
        "\n",
        "def opt_q_nwells(q_low, q_high, offset_m, npts_x):\n",
        "  # Solve for the optimal total q for a given number of wells in the x direction\n",
        "\n",
        "  print(f\"Solving for nwell_x = : {npts_x}\")\n",
        "\n",
        "  # Compute the rectanqular grid coords\n",
        "  rect_wells_coords = generate_well_locations_geojson(geojson_data, offset_m, npts_x)\n",
        "  num_wells = len(rect_wells_coords)\n",
        "\n",
        "  # Calculate distances\n",
        "  distances, grid_lat, grid_lon, grid_x, grid_y, poly_x, poly_y = build_grid(rect_wells_coords, polygon_coords)\n",
        "\n",
        "  # Solve for optimal qi\n",
        "  qi_low = q_low / num_wells\n",
        "  qi_high = q_high / num_wells\n",
        "  optimal_qi = optimize_pumping_rate_bisection(qi_low, qi_high, distances)\n",
        "  optimal_q = optimal_qi * num_wells\n",
        "\n",
        "  return optimal_q, num_wells"
      ],
      "metadata": {
        "id": "WJUhlrf2KtrE"
      },
      "execution_count": null,
      "outputs": []
    },
    {
      "cell_type": "code",
      "source": [
        "# Run this cell repeatedly to find a pair of q values that give a head\n",
        "# above and below the target (postive or negative value of obj).\n",
        "# In this case we need to work in terms of total q because qi changes depending on\n",
        "# number of wells. More specifically, you want a pair of q_test values that give\n",
        "# a positive and negative objective for both your min npts_x and your max npts_x.\n",
        "\n",
        "npts_x = 15\n",
        "offset_m = 15\n",
        "\n",
        "q_test = 0.015    # large value gives positive result, small value gives negative result\n",
        "\n",
        "rect_wells_coords = generate_well_locations_geojson(geojson_data, offset_m, npts_x)\n",
        "num_wells = len(rect_wells_coords)\n",
        "distances, grid_lat, grid_lon, grid_x, grid_y, poly_x, poly_y = build_grid(rect_wells_coords, polygon_coords)\n",
        "\n",
        "qi_test = q_test / num_wells\n",
        "h_grid = solve_heads(distances, qi_test)\n",
        "inside_mask = mask_inside_polygon(grid_x, grid_y, poly_x, poly_y)\n",
        "h_grid_inside = filter_inside_polygon(inside_mask, h_grid)\n",
        "obj = objective_function(h_grid_inside, design_head)\n",
        "print(f\"Q: {q_test}, Objective: {obj:0.2f}\")"
      ],
      "metadata": {
        "id": "7jvu9xdoLWpR"
      },
      "execution_count": null,
      "outputs": []
    },
    {
      "cell_type": "code",
      "source": [
        "# Define inputs and solve\n",
        "\n",
        "offset_m = 15\n",
        "\n",
        "min_wells_x = 3\n",
        "max_wells_x = 15\n",
        "\n",
        "q_low = 0.01      # for positive result\n",
        "q_high = 0.015     # for negative result\n",
        "\n",
        "design_wells = []\n",
        "design_q = []\n",
        "\n",
        "for i in range(min_wells_x, max_wells_x + 1):\n",
        "  optimal_q, num_wells = opt_q_nwells(q_low, q_high, offset_m, i)\n",
        "  print(f\"Number of Wells: {num_wells}, Optimal Q: {optimal_qi}\")\n",
        "  design_wells.append(num_wells)\n",
        "  design_q.append(optimal_q)\n"
      ],
      "metadata": {
        "id": "Hm9b4FG_TdQ8"
      },
      "execution_count": null,
      "outputs": []
    },
    {
      "cell_type": "code",
      "source": [
        "# Convert design_q array from meters cubed per second to gallons per minute\n",
        "design_q_gpm = [q * 15850.3 for q in design_q]\n",
        "\n",
        "# Plot results\n",
        "plt.figure(figsize=(10, 6))\n",
        "plt.plot(design_wells, design_q_gpm, marker='o', linestyle='-')\n",
        "plt.xlabel('Number of Wells (Total)')\n",
        "plt.ylabel('Optimal Q (gal/min)')\n",
        "plt.title('Optimal Q vs Number of Wells')\n",
        "plt.grid(True)\n",
        "plt.show()"
      ],
      "metadata": {
        "id": "9DW-5YrlS2qk"
      },
      "execution_count": null,
      "outputs": []
    },
    {
      "cell_type": "code",
      "source": [],
      "metadata": {
        "id": "NhKlZA2HodBe"
      },
      "execution_count": null,
      "outputs": []
    }
  ]
}