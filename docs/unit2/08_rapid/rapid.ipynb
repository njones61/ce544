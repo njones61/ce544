{
  "nbformat": 4,
  "nbformat_minor": 0,
  "metadata": {
    "colab": {
      "provenance": [],
      "authorship_tag": "ABX9TyNLCm6cU0GUjvQV31oEiriG",
      "include_colab_link": true
    },
    "kernelspec": {
      "name": "python3",
      "display_name": "Python 3"
    },
    "language_info": {
      "name": "python"
    }
  },
  "cells": [
    {
      "cell_type": "markdown",
      "metadata": {
        "id": "view-in-github",
        "colab_type": "text"
      },
      "source": [
        "<a href=\"https://colab.research.google.com/github/njones61/ce544/blob/main/docs/unit2/08_rapid/rapid.ipynb\" target=\"_parent\"><img src=\"https://colab.research.google.com/assets/colab-badge.svg\" alt=\"Open In Colab\"/></a>"
      ]
    },
    {
      "cell_type": "markdown",
      "source": [
        "# Rapid Drawdown Analyis - Infinite Slope"
      ],
      "metadata": {
        "id": "dGb-PpJyzEBM"
      }
    },
    {
      "cell_type": "code",
      "execution_count": null,
      "metadata": {
        "id": "h1hvrm6tyEZq"
      },
      "outputs": [],
      "source": [
        "# Import packages\n",
        "import numpy as np\n",
        "import matplotlib.pyplot as plt\n",
        "import pandas as pd\n",
        "import seaborn as sns"
      ]
    },
    {
      "cell_type": "code",
      "source": [
        "# Declare variables\n",
        "gw = 62.4\n",
        "g = 125\n",
        "gp = g - gw\n",
        "c = 0\n",
        "phi = 40\n",
        "phi = phi / 180 * np.pi\n",
        "d = 2000\n",
        "psi = 20\n",
        "psi = psi / 180 * np.pi\n",
        "hw = 100\n",
        "slope = 3\n",
        "beta = np.arctan(1/slope)\n",
        "z = 5"
      ],
      "metadata": {
        "id": "K0ladj79yPv_"
      },
      "execution_count": null,
      "outputs": []
    },
    {
      "cell_type": "markdown",
      "source": [
        "## Stage 1: Pre-Drawdown"
      ],
      "metadata": {
        "id": "OH0ziqIgzTdI"
      }
    },
    {
      "cell_type": "code",
      "source": [
        "# Calculate and print sigmap & tau1\n",
        "\n",
        "\n",
        "\n"
      ],
      "metadata": {
        "id": "7CuodAEWy2F6"
      },
      "execution_count": null,
      "outputs": []
    },
    {
      "cell_type": "markdown",
      "source": [
        "## Stage 2: Post-Drawdown, Total Stress Analysis"
      ],
      "metadata": {
        "id": "l23nKD730762"
      }
    },
    {
      "cell_type": "code",
      "source": [
        "# Calculate and print tauffkc1 & tauffkcf\n",
        "\n",
        "\n",
        "\n"
      ],
      "metadata": {
        "id": "LdwbXPgoz4wo"
      },
      "execution_count": null,
      "outputs": []
    },
    {
      "cell_type": "code",
      "source": [],
      "metadata": {
        "id": "6aZjPGRG49c4"
      },
      "execution_count": null,
      "outputs": []
    },
    {
      "cell_type": "code",
      "source": [
        "# Calculate and print K1 an&d Kf\n",
        "\n",
        "\n",
        "\n",
        "\n"
      ],
      "metadata": {
        "id": "1qkCGruL1NoQ"
      },
      "execution_count": null,
      "outputs": []
    },
    {
      "cell_type": "code",
      "source": [
        "# Calculate and print tauff & tau2\n",
        "\n",
        "\n",
        "\n"
      ],
      "metadata": {
        "id": "vVJxQ3CJ4LoB"
      },
      "execution_count": null,
      "outputs": []
    },
    {
      "cell_type": "code",
      "source": [
        "# Calculate and print FS2\n",
        "\n"
      ],
      "metadata": {
        "id": "SCNEc1YI4aqJ"
      },
      "execution_count": null,
      "outputs": []
    },
    {
      "cell_type": "markdown",
      "source": [
        "## Stage 3: Post-Drawdown, Drained Strength Analysis"
      ],
      "metadata": {
        "id": "jeOexMFn6RnG"
      }
    },
    {
      "cell_type": "code",
      "source": [
        "# Calculate and print sigmap_drn & tau_drn\n",
        "\n",
        "\n",
        "\n"
      ],
      "metadata": {
        "id": "qUJRSKG44u3i"
      },
      "execution_count": null,
      "outputs": []
    },
    {
      "cell_type": "code",
      "source": [
        "# Calculate and pring FS3\n",
        "\n"
      ],
      "metadata": {
        "id": "WBlpE3Gy6_pO"
      },
      "execution_count": null,
      "outputs": []
    },
    {
      "cell_type": "markdown",
      "source": [
        "## Critical Factor of Safety"
      ],
      "metadata": {
        "id": "e9oj43Nj7RrJ"
      }
    },
    {
      "cell_type": "code",
      "source": [
        "# Calculate and print critical FS\n",
        "\n"
      ],
      "metadata": {
        "id": "b182oiVg7RFh"
      },
      "execution_count": null,
      "outputs": []
    }
  ]
}