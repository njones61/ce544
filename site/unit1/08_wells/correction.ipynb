{
  "nbformat": 4,
  "nbformat_minor": 0,
  "metadata": {
    "colab": {
      "provenance": [],
      "authorship_tag": "ABX9TyOx7uBFpv5f/uGSguL6FIOt",
      "include_colab_link": true
    },
    "kernelspec": {
      "name": "python3",
      "display_name": "Python 3"
    },
    "language_info": {
      "name": "python"
    }
  },
  "cells": [
    {
      "cell_type": "markdown",
      "metadata": {
        "id": "view-in-github",
        "colab_type": "text"
      },
      "source": [
        "<a href=\"https://colab.research.google.com/github/njones61/ce544/blob/main/docs/unit1/08_wells/correction.ipynb\" target=\"_parent\"><img src=\"https://colab.research.google.com/assets/colab-badge.svg\" alt=\"Open In Colab\"/></a>"
      ]
    },
    {
      "cell_type": "code",
      "execution_count": null,
      "metadata": {
        "id": "eYovDP81thO-"
      },
      "outputs": [],
      "source": [
        "# import libraries needed\n",
        "import numpy as np\n",
        "import matplotlib.pyplot as plt"
      ]
    },
    {
      "cell_type": "code",
      "source": [
        "# variables\n",
        "q = 0.2   #[m^3/s]\n",
        "k = 0.05   #[cm/s]\n",
        "k = k/100 #[m/s]\n",
        "H = 50    #[m]\n",
        "R = 500   #[m]\n",
        "rw = 0.1  #[m]"
      ],
      "metadata": {
        "id": "oW9oKsrUt6Ja"
      },
      "execution_count": null,
      "outputs": []
    },
    {
      "cell_type": "code",
      "source": [
        "# Define functions for h_unc(r) and correction(r, a, H)\n",
        "\n"
      ],
      "metadata": {
        "id": "sBtXPhHEuBzB"
      },
      "execution_count": null,
      "outputs": []
    },
    {
      "cell_type": "code",
      "source": [
        "# Calculate Hw, H_prime, a\n"
      ],
      "metadata": {
        "id": "zB8LGcjNuSKR"
      },
      "execution_count": null,
      "outputs": []
    },
    {
      "cell_type": "code",
      "source": [
        "# Print values\n"
      ],
      "metadata": {
        "id": "xEDvt1OkvT25"
      },
      "execution_count": null,
      "outputs": []
    },
    {
      "cell_type": "code",
      "source": [
        "# Set up r array ranging non-linearly from rw to R\n",
        "factor =  np.array([0.05, 0.1, 0.2, 0.4, 1, 2, 3, 4, 5, 7, 9, 12, 13, 14, 15, 16, 17, 18, 19, 20])\n",
        "factor = factor/20\n",
        "r = factor * R\n",
        "# insert rw at the beginning of r\n",
        "r = np.insert(r, 0, rw)\n",
        "r"
      ],
      "metadata": {
        "id": "mMkFimbGvuTJ"
      },
      "execution_count": null,
      "outputs": []
    },
    {
      "cell_type": "code",
      "source": [
        "# Calculate arrays for h, corr, and h_corr\n"
      ],
      "metadata": {
        "id": "gWbwhzljwoZF"
      },
      "execution_count": null,
      "outputs": []
    },
    {
      "cell_type": "code",
      "source": [
        "# plot h and h_corr as a function of r out to x = 150\n"
      ],
      "metadata": {
        "id": "_r6c-0R81NUD"
      },
      "execution_count": null,
      "outputs": []
    },
    {
      "cell_type": "code",
      "source": [],
      "metadata": {
        "id": "Zxt1M3no1zfY"
      },
      "execution_count": null,
      "outputs": []
    }
  ]
}